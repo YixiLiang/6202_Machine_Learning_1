{
 "cells": [
  {
   "cell_type": "markdown",
   "metadata": {
    "id": "0EvXt9p4ufUd",
    "toc": true
   },
   "source": [
    "<h1>Table of Contents<span class=\"tocSkip\"></span></h1>\n",
    "<div class=\"toc\"><ul class=\"toc-item\"><li><span><a href=\"#Overview\" data-toc-modified-id=\"Overview-1\"><span class=\"toc-item-num\">1&nbsp;&nbsp;</span>Overview</a></span></li><li><span><a href=\"#Notebook-Configuration\" data-toc-modified-id=\"Notebook-Configuration-2\"><span class=\"toc-item-num\">2&nbsp;&nbsp;</span>Notebook Configuration</a></span><ul class=\"toc-item\"><li><span><a href=\"#Google-drive\" data-toc-modified-id=\"Google-drive-2.1\"><span class=\"toc-item-num\">2.1&nbsp;&nbsp;</span>Google drive</a></span></li><li><span><a href=\"#Warning\" data-toc-modified-id=\"Warning-2.2\"><span class=\"toc-item-num\">2.2&nbsp;&nbsp;</span>Warning</a></span></li><li><span><a href=\"#Matplotlib\" data-toc-modified-id=\"Matplotlib-2.3\"><span class=\"toc-item-num\">2.3&nbsp;&nbsp;</span>Matplotlib</a></span></li><li><span><a href=\"#TensorFlow\" data-toc-modified-id=\"TensorFlow-2.4\"><span class=\"toc-item-num\">2.4&nbsp;&nbsp;</span>TensorFlow</a></span></li><li><span><a href=\"#Random-seed\" data-toc-modified-id=\"Random-seed-2.5\"><span class=\"toc-item-num\">2.5&nbsp;&nbsp;</span>Random seed</a></span></li></ul></li><li><span><a href=\"#Data-Preprocessing\" data-toc-modified-id=\"Data-Preprocessing-3\"><span class=\"toc-item-num\">3&nbsp;&nbsp;</span>Data Preprocessing</a></span></li><li><span><a href=\"#Training\" data-toc-modified-id=\"Training-4\"><span class=\"toc-item-num\">4&nbsp;&nbsp;</span>Training</a></span></li><li><span><a href=\"#Testing\" data-toc-modified-id=\"Testing-5\"><span class=\"toc-item-num\">5&nbsp;&nbsp;</span>Testing</a></span></li></ul></div>"
   ]
  },
  {
   "cell_type": "markdown",
   "metadata": {
    "id": "42yc1zUrzlEh"
   },
   "source": [
    "<b>\n",
    "<p>\n",
    "<center>\n",
    "<font size=\"5\">\n",
    "Popular Machine Learning Methods: Idea, Practice and Math\n",
    "</font>\n",
    "</center>\n",
    "</p>\n",
    "    \n",
    "<p>\n",
    "<center>\n",
    "<font size=\"4\">\n",
    "Final\n",
    "</font>\n",
    "</center>\n",
    "</p>\n",
    "\n",
    "<p>\n",
    "<center>\n",
    "<font size=\"3\">\n",
    "Data Science, Columbian College of Arts & Sciences, George Washington University\n",
    "</font>\n",
    "</center>\n",
    "</p>\n",
    "\n",
    "<p>\n",
    "<center>\n",
    "<font size=\"3\">\n",
    "Yixi Liang\n",
    "</font>\n",
    "</center>\n",
    "</p>\n",
    "</b>"
   ]
  },
  {
   "cell_type": "markdown",
   "metadata": {
    "id": "rT2SKHw2zlEi"
   },
   "source": [
    "# Overview"
   ]
  },
  {
   "cell_type": "markdown",
   "metadata": {
    "id": "asZWLrJKzlEj"
   },
   "source": [
    "- This notebook includes the final.\n",
    "- Here we will work on TensorFlow Dataset [stanford_dogs dataset](https://www.tensorflow.org/datasets/catalog/stanford_dogs).\n",
    "- The goal of this final is tweaking the pipeline (including data preprocessing, building, compiling and training DNNs) implemented in [/p3 c2 s3 convolutional_neural_networks/case_study](https://github.com/yuxiaohuang/teaching/blob/master/gwu/machine_learning_I/spring_2022/code/p3_deep_learning/p3_c2_supervised_learning/p3_c2_s3_convolutional_neural_networks/case_study/case_study.ipynb) to make it work for the new dataset mentioned above.\n",
    "- Complete the missing parts indicated by # Implement me.\n",
    "- Particularly, the code should\n",
    "    - be bug-free (note that the output produced by your solution may not necessarily be the same as the provided output, due to version issues)\n",
    "    - be commented\n",
    "- **The baseline for this assignment is 0.70. As per the grading rubrics (section 15 of the syllabus), if the test score of your best model is lower than or the same as the baseline, you will only receive 80% of the full mark. See more details in the grading rubrics.**\n",
    "- Submit an ipynb file named final.ipynb to [blackboard](https://blackboard.gwu.edu) folder /Exam/final/."
   ]
  },
  {
   "cell_type": "markdown",
   "metadata": {
    "id": "WJ-IbZqAgILJ"
   },
   "source": [
    "# Notebook Configuration"
   ]
  },
  {
   "cell_type": "markdown",
   "metadata": {
    "id": "H3yB94KtgMHu"
   },
   "source": [
    "## Google drive"
   ]
  },
  {
   "cell_type": "code",
   "execution_count": 1,
   "metadata": {
    "colab": {
     "base_uri": "https://localhost:8080/"
    },
    "executionInfo": {
     "elapsed": 19571,
     "status": "ok",
     "timestamp": 1607307542185,
     "user": {
      "displayName": "Huang Yuxiao",
      "photoUrl": "",
      "userId": "05167076769245149404"
     },
     "user_tz": 300
    },
    "id": "jWmYBTOwgNs-",
    "outputId": "a32d8c14-bae1-4faa-c973-205ea6ff60c7",
    "scrolled": true
   },
   "outputs": [],
   "source": [
    "# from google.colab import drive\n",
    "# import sys\n",
    "\n",
    "# # Mount Google Drive\n",
    "# drive.mount('/content/drive')\n",
    "\n",
    "# Get the absolute path of the current folder\n",
    "# abspath_curr = '/content/drive/My Drive/Colab Notebooks/teaching/gwu/machine_learning_I/exam/final/'\n",
    "abspath_curr = 'C:/Users/REX/Desktop/6202 Machine Learning/Homework/Final'\n",
    "\n",
    "# Get the absolute path of the deep utilities folder\n",
    "# abspath_util_deep = '/content/drive/My Drive/Colab Notebooks/teaching/gwu/machine_learning_I/code/utilities/p3_deep_learning/'\n",
    "abspath_util_deep = 'C:/Users/REX/Desktop/teaching-master/gwu/machine_learning_I/spring_2022/code/utilities/p3_deep_learning'"
   ]
  },
  {
   "cell_type": "markdown",
   "metadata": {
    "id": "bYZhU1Wqgmqx"
   },
   "source": [
    "## Warning"
   ]
  },
  {
   "cell_type": "code",
   "execution_count": 2,
   "metadata": {
    "executionInfo": {
     "elapsed": 19555,
     "status": "ok",
     "timestamp": 1607307542186,
     "user": {
      "displayName": "Huang Yuxiao",
      "photoUrl": "",
      "userId": "05167076769245149404"
     },
     "user_tz": 300
    },
    "id": "MUl4k83e4ANR"
   },
   "outputs": [],
   "source": [
    "import warnings\n",
    "\n",
    "# Ignore warnings\n",
    "warnings.filterwarnings('ignore')"
   ]
  },
  {
   "cell_type": "markdown",
   "metadata": {
    "id": "6WMODpPfgn2U"
   },
   "source": [
    "## Matplotlib"
   ]
  },
  {
   "cell_type": "code",
   "execution_count": 3,
   "metadata": {
    "executionInfo": {
     "elapsed": 19552,
     "status": "ok",
     "timestamp": 1607307542186,
     "user": {
      "displayName": "Huang Yuxiao",
      "photoUrl": "",
      "userId": "05167076769245149404"
     },
     "user_tz": 300
    },
    "id": "DBRVH9SB4ANb"
   },
   "outputs": [],
   "source": [
    "import matplotlib.pyplot as plt\n",
    "%matplotlib inline \n",
    "\n",
    "# Set matplotlib sizes\n",
    "plt.rc('font', size=20)\n",
    "plt.rc('axes', titlesize=20)\n",
    "plt.rc('axes', labelsize=20)\n",
    "plt.rc('xtick', labelsize=20)\n",
    "plt.rc('ytick', labelsize=20)\n",
    "plt.rc('legend', fontsize=20)\n",
    "plt.rc('figure', titlesize=20)"
   ]
  },
  {
   "cell_type": "markdown",
   "metadata": {
    "id": "n-wNDk5nZhhO"
   },
   "source": [
    "## TensorFlow"
   ]
  },
  {
   "cell_type": "code",
   "execution_count": 4,
   "metadata": {
    "executionInfo": {
     "elapsed": 20128,
     "status": "ok",
     "timestamp": 1607307542765,
     "user": {
      "displayName": "Huang Yuxiao",
      "photoUrl": "",
      "userId": "05167076769245149404"
     },
     "user_tz": 300
    },
    "id": "LjG43tEnZkfE"
   },
   "outputs": [],
   "source": [
    "# The magic below allows us to use tensorflow version 2.x\n",
    "# %tensorflow_version 2.x \n",
    "import tensorflow as tf\n",
    "from tensorflow import keras"
   ]
  },
  {
   "cell_type": "code",
   "execution_count": 5,
   "metadata": {},
   "outputs": [
    {
     "name": "stdout",
     "output_type": "stream",
     "text": [
      "Num GPUs Available 1\n"
     ]
    }
   ],
   "source": [
    "print('Num GPUs Available', len(tf.config.experimental.list_physical_devices('GPU')))"
   ]
  },
  {
   "cell_type": "code",
   "execution_count": 6,
   "metadata": {},
   "outputs": [
    {
     "data": {
      "text/plain": [
       "True"
      ]
     },
     "execution_count": 6,
     "metadata": {},
     "output_type": "execute_result"
    }
   ],
   "source": [
    "tf.test.is_built_with_cuda()"
   ]
  },
  {
   "cell_type": "markdown",
   "metadata": {
    "id": "40FN3UNfO2Z7"
   },
   "source": [
    "## Random seed"
   ]
  },
  {
   "cell_type": "code",
   "execution_count": 7,
   "metadata": {
    "executionInfo": {
     "elapsed": 20125,
     "status": "ok",
     "timestamp": 1607307542766,
     "user": {
      "displayName": "Huang Yuxiao",
      "photoUrl": "",
      "userId": "05167076769245149404"
     },
     "user_tz": 300
    },
    "id": "uSADk0hJP71d"
   },
   "outputs": [],
   "source": [
    "# The random seed\n",
    "random_seed = 42\n",
    "\n",
    "# Set random seed in tensorflow\n",
    "tf.random.set_seed(random_seed)\n",
    "\n",
    "# Set random seed in numpy\n",
    "import numpy as np\n",
    "np.random.seed(random_seed)"
   ]
  },
  {
   "cell_type": "markdown",
   "metadata": {
    "id": "1eOpQpPu4ANk"
   },
   "source": [
    "# Data Preprocessing"
   ]
  },
  {
   "cell_type": "code",
   "execution_count": 8,
   "metadata": {
    "colab": {
     "base_uri": "https://localhost:8080/"
    },
    "executionInfo": {
     "elapsed": 22103,
     "status": "ok",
     "timestamp": 1607307544747,
     "user": {
      "displayName": "Huang Yuxiao",
      "photoUrl": "",
      "userId": "05167076769245149404"
     },
     "user_tz": 300
    },
    "id": "D-Mwc6MczlFD",
    "outputId": "8065e130-74d9-47ee-d9ba-e6b464235f78"
   },
   "outputs": [
    {
     "name": "stdout",
     "output_type": "stream",
     "text": [
      "C:\\Users\\REX\\Desktop\\teaching-master\\gwu\\machine_learning_I\\spring_2022\\code\\utilities\\p3_deep_learning\n"
     ]
    }
   ],
   "source": [
    "# Change working directory to the absolute path of the deep utilities folder\n",
    "%cd $abspath_util_deep\n",
    "\n",
    "# Import the deep utitilities\n",
    "%run pmlm_utilities_deep.ipynb"
   ]
  },
  {
   "cell_type": "markdown",
   "metadata": {
    "id": "xnJAfR784ANl"
   },
   "source": [
    "## Loading the data"
   ]
  },
  {
   "cell_type": "markdown",
   "metadata": {
    "id": "LM_WKAmO4ANm"
   },
   "source": [
    "In this case study, we will work on the [stanford_dogs dataset](https://www.tensorflow.org/datasets/catalog/stanford_dogs)."
   ]
  },
  {
   "cell_type": "markdown",
   "metadata": {
    "id": "IEjvHlLB8X0z"
   },
   "source": [
    "### Creating the directory for the data"
   ]
  },
  {
   "cell_type": "code",
   "execution_count": 9,
   "metadata": {
    "executionInfo": {
     "elapsed": 21581,
     "status": "ok",
     "timestamp": 1604890884084,
     "user": {
      "displayName": "Huang Yuxiao",
      "photoUrl": "",
      "userId": "05167076769245149404"
     },
     "user_tz": 300
    },
    "id": "reijpcaf8UgO"
   },
   "outputs": [],
   "source": [
    "import os\n",
    "\n",
    "# Make directory\n",
    "directory = os.path.dirname(abspath_curr + '/data/')\n",
    "if not os.path.exists(directory):\n",
    "    os.makedirs(directory)"
   ]
  },
  {
   "cell_type": "markdown",
   "metadata": {
    "id": "-sDdbhok2i7C"
   },
   "source": [
    "### Downloading the data to the directory"
   ]
  },
  {
   "cell_type": "code",
   "execution_count": 10,
   "metadata": {
    "colab": {
     "base_uri": "https://localhost:8080/",
     "height": 367,
     "referenced_widgets": [
      "2304f52d4c194a1ebcabd3f251009aa9",
      "81ea75b6fa4d42b486852bf38928458e",
      "62f4570bffb64022af77cecfce157ea7",
      "b815ba61f09e441dbd81fdec88513276",
      "6c21c25b8533476186848e80975c9eea",
      "4f3a1430e3674751989b765743119e55",
      "af2e5bda72f7452995ad2849c604f2c1",
      "d26c9e14722e4a598da11c8d429b3b84",
      "219eda7ecf734698b1064165e425ad5f",
      "24a38baafdab45e7bd397672059c4c35",
      "35531e98d1e54a10a571b0ba775e6632",
      "1976762e81bd4924a385395ee2f24741",
      "8ae72ec021954d8384ff2e9ff5e2d924",
      "475fc1674e6844d5a74df7770a24053b",
      "8de676b080e04f60862c4c7305683e19",
      "fae4f47ace864fa88f9e35698e7ca6f9",
      "b7ce84b755964e5f803b3df00c8a275d",
      "e3ec20b3c13346a1a832ee1d53a8d3a4",
      "3410359bc7a748f1834f38b92a0debd7",
      "288ed7dac3c24d5c860eb9bf2bdac5d8",
      "f09981c7391f465199ec7649531900bb",
      "ed08e896af174cd29f4a47dd0614a0ba",
      "0776d37070f04db3b3b0d23b37d00a68",
      "8e1faf1a9cb242ae829ffed145594f50",
      "f5587ea740514ad080fc911c24ca2223",
      "524d5e0e8447486c8b28bd76229be579",
      "f8772c28bd0b420581930f14cb56ed92",
      "4835d1b4f3af423a8297b95849c137dc",
      "e0214b478297432daea85e7111ef4349",
      "c60eb0415d494a90b2ea6adeec04bc0e",
      "6ba7db338f7946c6b5db6d0f14b3f22d",
      "62954afa3d1a4eb7b40a0df0bba4f21a",
      "0fa055b4a2034916ab7474f18be62a46",
      "c7fc1e8fd93a4baf8e1857dbfcf38942",
      "5e88015eadac45acb73c98106a91d802",
      "f4dd52cfaf8e493bbd22857f9d0efe2f",
      "3e947fe2ddb341e688465cb60c76502c",
      "ee6f61efbcac4fa7b26335e9d74772f9",
      "138e1fe2a47f44d1a79605d39f27cdb3",
      "5343f9bcfb0f42e5a9c3bac677d4ef38",
      "f2cd55606b254cefa9908aed32105fc5",
      "b1a5b5b61a9d4470941d97d73a5118fc",
      "8fda2596cd964937b36598feb83ea7ec",
      "0e585a71ec8a4a47b1427fe0d5202ed3",
      "f8787f57d648443abb7811f7732e5ece",
      "60a37e1c887a4fc19870d1a5c025bd20",
      "fdb5bb8ac41d44778b976be84185c5e0",
      "a613c336ba354a40a1644899e659efb0",
      "f7fdbf550ed74d3bb8da42bf67f9f8d1",
      "eae644b05cbe41f2b64dc4f8aca5cb87",
      "fa8409cee1674026b1cf0b1764fd8c0c",
      "d35de32e5db4406bbf8d4549b41679c7",
      "4446e7f70ba44f6195a24810dd6ebe29",
      "f9e42f04d57e43c9aba3f765459e1888",
      "e2e4663de17a4c2c8898689fea45a219",
      "435c4c2cc4eb4eb588f9b665b2714234"
     ]
    },
    "executionInfo": {
     "elapsed": 77022,
     "status": "ok",
     "timestamp": 1604890939526,
     "user": {
      "displayName": "Huang Yuxiao",
      "photoUrl": "",
      "userId": "05167076769245149404"
     },
     "user_tz": 300
    },
    "id": "6onKpDeL4ANn",
    "outputId": "39d5be52-56f9-40cc-9111-dbe2395e1618",
    "scrolled": true
   },
   "outputs": [],
   "source": [
    "import tensorflow_datasets as tfds\n",
    "\n",
    "# Get the name of the data\n",
    "data_name = 'stanford_dogs'\n",
    "\n",
    "# Load data\n",
    "data, info = tfds.load(name=data_name,\n",
    "                       data_dir=abspath_curr + '/data/',\n",
    "                       as_supervised=True,\n",
    "                       with_info=True)"
   ]
  },
  {
   "cell_type": "markdown",
   "metadata": {
    "id": "yvIqSuZUVBb8"
   },
   "source": [
    "## Getting the name of the target"
   ]
  },
  {
   "cell_type": "code",
   "execution_count": 11,
   "metadata": {
    "executionInfo": {
     "elapsed": 77021,
     "status": "ok",
     "timestamp": 1604890939528,
     "user": {
      "displayName": "Huang Yuxiao",
      "photoUrl": "",
      "userId": "05167076769245149404"
     },
     "user_tz": 300
    },
    "id": "AF5gbpOWVElL"
   },
   "outputs": [],
   "source": [
    "target = 'label'"
   ]
  },
  {
   "cell_type": "markdown",
   "metadata": {
    "id": "ugddFhUgVGWq"
   },
   "source": [
    "## Getting the info"
   ]
  },
  {
   "cell_type": "code",
   "execution_count": 12,
   "metadata": {
    "colab": {
     "base_uri": "https://localhost:8080/"
    },
    "executionInfo": {
     "elapsed": 77009,
     "status": "ok",
     "timestamp": 1604890939528,
     "user": {
      "displayName": "Huang Yuxiao",
      "photoUrl": "",
      "userId": "05167076769245149404"
     },
     "user_tz": 300
    },
    "id": "A85zWEqMjP5E",
    "outputId": "c592059c-f0a1-4e87-f67c-f970ee0a5a92"
   },
   "outputs": [
    {
     "data": {
      "text/plain": [
       "{'train': <SplitInfo num_examples=12000, num_shards=4>,\n",
       " 'test': <SplitInfo num_examples=8580, num_shards=4>}"
      ]
     },
     "execution_count": 12,
     "metadata": {},
     "output_type": "execute_result"
    }
   ],
   "source": [
    "# Print the splits\n",
    "info.splits"
   ]
  },
  {
   "cell_type": "code",
   "execution_count": 13,
   "metadata": {
    "colab": {
     "base_uri": "https://localhost:8080/"
    },
    "executionInfo": {
     "elapsed": 76997,
     "status": "ok",
     "timestamp": 1604890939529,
     "user": {
      "displayName": "Huang Yuxiao",
      "photoUrl": "",
      "userId": "05167076769245149404"
     },
     "user_tz": 300
    },
    "id": "vsSHR38vjL1G",
    "outputId": "340c36e3-eefa-4872-c322-33576755fbb0"
   },
   "outputs": [
    {
     "data": {
      "text/plain": [
       "['n02085620-chihuahua',\n",
       " 'n02085782-japanese_spaniel',\n",
       " 'n02085936-maltese_dog',\n",
       " 'n02086079-pekinese',\n",
       " 'n02086240-shih-tzu',\n",
       " 'n02086646-blenheim_spaniel',\n",
       " 'n02086910-papillon',\n",
       " 'n02087046-toy_terrier',\n",
       " 'n02087394-rhodesian_ridgeback',\n",
       " 'n02088094-afghan_hound',\n",
       " 'n02088238-basset',\n",
       " 'n02088364-beagle',\n",
       " 'n02088466-bloodhound',\n",
       " 'n02088632-bluetick',\n",
       " 'n02089078-black-and-tan_coonhound',\n",
       " 'n02089867-walker_hound',\n",
       " 'n02089973-english_foxhound',\n",
       " 'n02090379-redbone',\n",
       " 'n02090622-borzoi',\n",
       " 'n02090721-irish_wolfhound',\n",
       " 'n02091032-italian_greyhound',\n",
       " 'n02091134-whippet',\n",
       " 'n02091244-ibizan_hound',\n",
       " 'n02091467-norwegian_elkhound',\n",
       " 'n02091635-otterhound',\n",
       " 'n02091831-saluki',\n",
       " 'n02092002-scottish_deerhound',\n",
       " 'n02092339-weimaraner',\n",
       " 'n02093256-staffordshire_bullterrier',\n",
       " 'n02093428-american_staffordshire_terrier',\n",
       " 'n02093647-bedlington_terrier',\n",
       " 'n02093754-border_terrier',\n",
       " 'n02093859-kerry_blue_terrier',\n",
       " 'n02093991-irish_terrier',\n",
       " 'n02094114-norfolk_terrier',\n",
       " 'n02094258-norwich_terrier',\n",
       " 'n02094433-yorkshire_terrier',\n",
       " 'n02095314-wire-haired_fox_terrier',\n",
       " 'n02095570-lakeland_terrier',\n",
       " 'n02095889-sealyham_terrier',\n",
       " 'n02096051-airedale',\n",
       " 'n02096177-cairn',\n",
       " 'n02096294-australian_terrier',\n",
       " 'n02096437-dandie_dinmont',\n",
       " 'n02096585-boston_bull',\n",
       " 'n02097047-miniature_schnauzer',\n",
       " 'n02097130-giant_schnauzer',\n",
       " 'n02097209-standard_schnauzer',\n",
       " 'n02097298-scotch_terrier',\n",
       " 'n02097474-tibetan_terrier',\n",
       " 'n02097658-silky_terrier',\n",
       " 'n02098105-soft-coated_wheaten_terrier',\n",
       " 'n02098286-west_highland_white_terrier',\n",
       " 'n02098413-lhasa',\n",
       " 'n02099267-flat-coated_retriever',\n",
       " 'n02099429-curly-coated_retriever',\n",
       " 'n02099601-golden_retriever',\n",
       " 'n02099712-labrador_retriever',\n",
       " 'n02099849-chesapeake_bay_retriever',\n",
       " 'n02100236-german_short-haired_pointer',\n",
       " 'n02100583-vizsla',\n",
       " 'n02100735-english_setter',\n",
       " 'n02100877-irish_setter',\n",
       " 'n02101006-gordon_setter',\n",
       " 'n02101388-brittany_spaniel',\n",
       " 'n02101556-clumber',\n",
       " 'n02102040-english_springer',\n",
       " 'n02102177-welsh_springer_spaniel',\n",
       " 'n02102318-cocker_spaniel',\n",
       " 'n02102480-sussex_spaniel',\n",
       " 'n02102973-irish_water_spaniel',\n",
       " 'n02104029-kuvasz',\n",
       " 'n02104365-schipperke',\n",
       " 'n02105056-groenendael',\n",
       " 'n02105162-malinois',\n",
       " 'n02105251-briard',\n",
       " 'n02105412-kelpie',\n",
       " 'n02105505-komondor',\n",
       " 'n02105641-old_english_sheepdog',\n",
       " 'n02105855-shetland_sheepdog',\n",
       " 'n02106030-collie',\n",
       " 'n02106166-border_collie',\n",
       " 'n02106382-bouvier_des_flandres',\n",
       " 'n02106550-rottweiler',\n",
       " 'n02106662-german_shepherd',\n",
       " 'n02107142-doberman',\n",
       " 'n02107312-miniature_pinscher',\n",
       " 'n02107574-greater_swiss_mountain_dog',\n",
       " 'n02107683-bernese_mountain_dog',\n",
       " 'n02107908-appenzeller',\n",
       " 'n02108000-entlebucher',\n",
       " 'n02108089-boxer',\n",
       " 'n02108422-bull_mastiff',\n",
       " 'n02108551-tibetan_mastiff',\n",
       " 'n02108915-french_bulldog',\n",
       " 'n02109047-great_dane',\n",
       " 'n02109525-saint_bernard',\n",
       " 'n02109961-eskimo_dog',\n",
       " 'n02110063-malamute',\n",
       " 'n02110185-siberian_husky',\n",
       " 'n02110627-affenpinscher',\n",
       " 'n02110806-basenji',\n",
       " 'n02110958-pug',\n",
       " 'n02111129-leonberg',\n",
       " 'n02111277-newfoundland',\n",
       " 'n02111500-great_pyrenees',\n",
       " 'n02111889-samoyed',\n",
       " 'n02112018-pomeranian',\n",
       " 'n02112137-chow',\n",
       " 'n02112350-keeshond',\n",
       " 'n02112706-brabancon_griffon',\n",
       " 'n02113023-pembroke',\n",
       " 'n02113186-cardigan',\n",
       " 'n02113624-toy_poodle',\n",
       " 'n02113712-miniature_poodle',\n",
       " 'n02113799-standard_poodle',\n",
       " 'n02113978-mexican_hairless',\n",
       " 'n02115641-dingo',\n",
       " 'n02115913-dhole',\n",
       " 'n02116738-african_hunting_dog']"
      ]
     },
     "execution_count": 13,
     "metadata": {},
     "output_type": "execute_result"
    }
   ],
   "source": [
    "# Get the classes\n",
    "classes = info.features['label'].names\n",
    "\n",
    "# Print the classes\n",
    "classes"
   ]
  },
  {
   "cell_type": "code",
   "execution_count": 14,
   "metadata": {
    "colab": {
     "base_uri": "https://localhost:8080/"
    },
    "executionInfo": {
     "elapsed": 76984,
     "status": "ok",
     "timestamp": 1604890939529,
     "user": {
      "displayName": "Huang Yuxiao",
      "photoUrl": "",
      "userId": "05167076769245149404"
     },
     "user_tz": 300
    },
    "id": "hD0wa74kS_53",
    "outputId": "a4eff453-70a8-4c0f-a8b1-25b20ff4fb11"
   },
   "outputs": [
    {
     "data": {
      "text/plain": [
       "120"
      ]
     },
     "execution_count": 14,
     "metadata": {},
     "output_type": "execute_result"
    }
   ],
   "source": [
    "# Get the number of classes\n",
    "n_classes = info.features['label'].num_classes\n",
    "\n",
    "# Print the number of classes\n",
    "info.features['label'].num_classes"
   ]
  },
  {
   "cell_type": "markdown",
   "metadata": {
    "id": "jGLoCbmO4AN9"
   },
   "source": [
    "## Getting the training, validation and test data"
   ]
  },
  {
   "cell_type": "code",
   "execution_count": 15,
   "metadata": {
    "executionInfo": {
     "elapsed": 77196,
     "status": "ok",
     "timestamp": 1604890939743,
     "user": {
      "displayName": "Huang Yuxiao",
      "photoUrl": "",
      "userId": "05167076769245149404"
     },
     "user_tz": 300
    },
    "id": "a2P4L1vS4AN_"
   },
   "outputs": [],
   "source": [
    "# Set the training, validation and test split\n",
    "split_train, split_valid, split_test = 'train[:70%]', 'train[70%:]', 'test'\n",
    "\n",
    "# Get the training data\n",
    "data_train = tfds.load(name=data_name,\n",
    "                       split=split_train,\n",
    "                       data_dir=abspath_curr + '/data/',\n",
    "                       as_supervised=True)\n",
    "\n",
    "# Get the validation data\n",
    "data_valid = tfds.load(name=data_name,\n",
    "                       split=split_valid,\n",
    "                       data_dir=abspath_curr + '/data/',\n",
    "                       as_supervised=True)\n",
    "\n",
    "# Get the test data\n",
    "data_test = tfds.load(name=data_name,\n",
    "                      split=split_test,\n",
    "                      data_dir=abspath_curr + '/data/',\n",
    "                      as_supervised=True)"
   ]
  },
  {
   "cell_type": "markdown",
   "metadata": {
    "id": "b3zPpOR4fZjA"
   },
   "source": [
    "## Resizing the data for pretrained model"
   ]
  },
  {
   "cell_type": "code",
   "execution_count": 16,
   "metadata": {
    "executionInfo": {
     "elapsed": 77195,
     "status": "ok",
     "timestamp": 1604890939743,
     "user": {
      "displayName": "Huang Yuxiao",
      "photoUrl": "",
      "userId": "05167076769245149404"
     },
     "user_tz": 300
    },
    "id": "16kuv2xPhvVU"
   },
   "outputs": [],
   "source": [
    "# Set the default input size for the pretrained model\n",
    "global input_size\n",
    "input_size = [224, 224]"
   ]
  },
  {
   "cell_type": "code",
   "execution_count": 17,
   "metadata": {
    "executionInfo": {
     "elapsed": 77194,
     "status": "ok",
     "timestamp": 1604890939744,
     "user": {
      "displayName": "Huang Yuxiao",
      "photoUrl": "",
      "userId": "05167076769245149404"
     },
     "user_tz": 300
    },
    "id": "oSEHIJaBC3FC"
   },
   "outputs": [],
   "source": [
    "# Resize the training data\n",
    "data_train = data_train.map(resize)\n",
    "\n",
    "# Resize the validation data\n",
    "data_valid = data_valid.map(resize)\n",
    "\n",
    "# Resize the test data\n",
    "data_test = data_test.map(resize)"
   ]
  },
  {
   "cell_type": "markdown",
   "metadata": {
    "id": "RU-V2HPPcz3P"
   },
   "source": [
    "## Preprocessing the data using pretrained model"
   ]
  },
  {
   "cell_type": "code",
   "execution_count": 18,
   "metadata": {
    "executionInfo": {
     "elapsed": 77383,
     "status": "ok",
     "timestamp": 1604890939934,
     "user": {
      "displayName": "Huang Yuxiao",
      "photoUrl": "",
      "userId": "05167076769245149404"
     },
     "user_tz": 300
    },
    "id": "L0_iVsLqdbV3"
   },
   "outputs": [],
   "source": [
    "# Set the preprocess_input of the pretrained model\n",
    "global preprocess_input\n",
    "preprocess_input = tf.keras.applications.resnet.preprocess_input"
   ]
  },
  {
   "cell_type": "code",
   "execution_count": 19,
   "metadata": {
    "executionInfo": {
     "elapsed": 77381,
     "status": "ok",
     "timestamp": 1604890939935,
     "user": {
      "displayName": "Huang Yuxiao",
      "photoUrl": "",
      "userId": "05167076769245149404"
     },
     "user_tz": 300
    },
    "id": "Y0bbTGosufVb"
   },
   "outputs": [],
   "source": [
    "# Preprocess the training data using pretrained model\n",
    "data_train = data_train.map(preprocess_pretrain)\n",
    "\n",
    "# Preprocess the validation data using pretrained model\n",
    "data_valid = data_valid.map(preprocess_pretrain)\n",
    "\n",
    "# Preprocess the test data using pretrained model\n",
    "data_test = data_test.map(preprocess_pretrain)"
   ]
  },
  {
   "cell_type": "markdown",
   "metadata": {
    "id": "HBWxnpc8z6Uf"
   },
   "source": [
    "## Shuffling, batching and prefetching the data"
   ]
  },
  {
   "cell_type": "code",
   "execution_count": 20,
   "metadata": {
    "executionInfo": {
     "elapsed": 77380,
     "status": "ok",
     "timestamp": 1604890939935,
     "user": {
      "displayName": "Huang Yuxiao",
      "photoUrl": "",
      "userId": "05167076769245149404"
     },
     "user_tz": 300
    },
    "id": "SddkzxMfz8Az"
   },
   "outputs": [],
   "source": [
    "# Shuffling the training data\n",
    "data_train = data_train.shuffle(buffer_size=1000, seed=random_seed)\n",
    "\n",
    "# Set the batch size\n",
    "batch_size = 16\n",
    "\n",
    "# Batch and prefetch the training data\n",
    "data_train = data_train.batch(batch_size).prefetch(1)\n",
    "\n",
    "# Batch and prefetch the validation data\n",
    "data_valid = data_valid.batch(batch_size).prefetch(1)\n",
    "\n",
    "# Batch and prefetch the test data\n",
    "data_test = data_test.batch(batch_size).prefetch(1)"
   ]
  },
  {
   "cell_type": "markdown",
   "metadata": {
    "id": "rMLlv9xK4AO9"
   },
   "source": [
    "# Training"
   ]
  },
  {
   "cell_type": "markdown",
   "metadata": {
    "id": "5l3DrD9e8g5_"
   },
   "source": [
    "## Creating the directory for the model"
   ]
  },
  {
   "cell_type": "code",
   "execution_count": 21,
   "metadata": {
    "executionInfo": {
     "elapsed": 77379,
     "status": "ok",
     "timestamp": 1604890939936,
     "user": {
      "displayName": "Huang Yuxiao",
      "photoUrl": "",
      "userId": "05167076769245149404"
     },
     "user_tz": 300
    },
    "id": "qIxF9lEh8p7y"
   },
   "outputs": [],
   "source": [
    "# Make directory\n",
    "directory = os.path.dirname(abspath_curr + '/result/model/')\n",
    "if not os.path.exists(directory):\n",
    "    os.makedirs(directory)"
   ]
  },
  {
   "cell_type": "markdown",
   "metadata": {
    "id": "qIWW5z5WUQa8"
   },
   "source": [
    "## Building the architecture of the model"
   ]
  },
  {
   "cell_type": "code",
   "execution_count": 22,
   "metadata": {
    "colab": {
     "base_uri": "https://localhost:8080/"
    },
    "executionInfo": {
     "elapsed": 80345,
     "status": "ok",
     "timestamp": 1604890942915,
     "user": {
      "displayName": "Huang Yuxiao",
      "photoUrl": "",
      "userId": "05167076769245149404"
     },
     "user_tz": 300
    },
    "id": "jl1jL5exfwz9",
    "outputId": "9f5b4404-2cef-45fa-bcd6-f2d8eb13b529"
   },
   "outputs": [
    {
     "name": "stdout",
     "output_type": "stream",
     "text": [
      "Model: \"model\"\n",
      "__________________________________________________________________________________________________\n",
      " Layer (type)                   Output Shape         Param #     Connected to                     \n",
      "==================================================================================================\n",
      " input_1 (InputLayer)           [(None, None, None,  0           []                               \n",
      "                                 3)]                                                              \n",
      "                                                                                                  \n",
      " rescaling (Rescaling)          (None, None, None,   0           ['input_1[0][0]']                \n",
      "                                3)                                                                \n",
      "                                                                                                  \n",
      " stem_conv (Conv2D)             (None, None, None,   648         ['rescaling[0][0]']              \n",
      "                                24)                                                               \n",
      "                                                                                                  \n",
      " stem_bn (BatchNormalization)   (None, None, None,   96          ['stem_conv[0][0]']              \n",
      "                                24)                                                               \n",
      "                                                                                                  \n",
      " stem_activation (Activation)   (None, None, None,   0           ['stem_bn[0][0]']                \n",
      "                                24)                                                               \n",
      "                                                                                                  \n",
      " block1a_project_conv (Conv2D)  (None, None, None,   5184        ['stem_activation[0][0]']        \n",
      "                                24)                                                               \n",
      "                                                                                                  \n",
      " block1a_project_bn (BatchNorma  (None, None, None,   96         ['block1a_project_conv[0][0]']   \n",
      " lization)                      24)                                                               \n",
      "                                                                                                  \n",
      " block1a_project_activation (Ac  (None, None, None,   0          ['block1a_project_bn[0][0]']     \n",
      " tivation)                      24)                                                               \n",
      "                                                                                                  \n",
      " block1a_add (Add)              (None, None, None,   0           ['block1a_project_activation[0][0\n",
      "                                24)                              ]',                              \n",
      "                                                                  'stem_activation[0][0]']        \n",
      "                                                                                                  \n",
      " block1b_project_conv (Conv2D)  (None, None, None,   5184        ['block1a_add[0][0]']            \n",
      "                                24)                                                               \n",
      "                                                                                                  \n",
      " block1b_project_bn (BatchNorma  (None, None, None,   96         ['block1b_project_conv[0][0]']   \n",
      " lization)                      24)                                                               \n",
      "                                                                                                  \n",
      " block1b_project_activation (Ac  (None, None, None,   0          ['block1b_project_bn[0][0]']     \n",
      " tivation)                      24)                                                               \n",
      "                                                                                                  \n",
      " block1b_add (Add)              (None, None, None,   0           ['block1b_project_activation[0][0\n",
      "                                24)                              ]',                              \n",
      "                                                                  'block1a_add[0][0]']            \n",
      "                                                                                                  \n",
      " block2a_expand_conv (Conv2D)   (None, None, None,   20736       ['block1b_add[0][0]']            \n",
      "                                96)                                                               \n",
      "                                                                                                  \n",
      " block2a_expand_bn (BatchNormal  (None, None, None,   384        ['block2a_expand_conv[0][0]']    \n",
      " ization)                       96)                                                               \n",
      "                                                                                                  \n",
      " block2a_expand_activation (Act  (None, None, None,   0          ['block2a_expand_bn[0][0]']      \n",
      " ivation)                       96)                                                               \n",
      "                                                                                                  \n",
      " block2a_project_conv (Conv2D)  (None, None, None,   4608        ['block2a_expand_activation[0][0]\n",
      "                                48)                              ']                               \n",
      "                                                                                                  \n",
      " block2a_project_bn (BatchNorma  (None, None, None,   192        ['block2a_project_conv[0][0]']   \n",
      " lization)                      48)                                                               \n",
      "                                                                                                  \n",
      " block2b_expand_conv (Conv2D)   (None, None, None,   82944       ['block2a_project_bn[0][0]']     \n",
      "                                192)                                                              \n",
      "                                                                                                  \n",
      " block2b_expand_bn (BatchNormal  (None, None, None,   768        ['block2b_expand_conv[0][0]']    \n",
      " ization)                       192)                                                              \n",
      "                                                                                                  \n",
      " block2b_expand_activation (Act  (None, None, None,   0          ['block2b_expand_bn[0][0]']      \n",
      " ivation)                       192)                                                              \n",
      "                                                                                                  \n",
      " block2b_project_conv (Conv2D)  (None, None, None,   9216        ['block2b_expand_activation[0][0]\n",
      "                                48)                              ']                               \n",
      "                                                                                                  \n",
      " block2b_project_bn (BatchNorma  (None, None, None,   192        ['block2b_project_conv[0][0]']   \n",
      " lization)                      48)                                                               \n",
      "                                                                                                  \n",
      " block2b_add (Add)              (None, None, None,   0           ['block2b_project_bn[0][0]',     \n",
      "                                48)                               'block2a_project_bn[0][0]']     \n",
      "                                                                                                  \n",
      " block2c_expand_conv (Conv2D)   (None, None, None,   82944       ['block2b_add[0][0]']            \n",
      "                                192)                                                              \n",
      "                                                                                                  \n",
      " block2c_expand_bn (BatchNormal  (None, None, None,   768        ['block2c_expand_conv[0][0]']    \n",
      " ization)                       192)                                                              \n",
      "                                                                                                  \n"
     ]
    },
    {
     "name": "stdout",
     "output_type": "stream",
     "text": [
      " block2c_expand_activation (Act  (None, None, None,   0          ['block2c_expand_bn[0][0]']      \n",
      " ivation)                       192)                                                              \n",
      "                                                                                                  \n",
      " block2c_project_conv (Conv2D)  (None, None, None,   9216        ['block2c_expand_activation[0][0]\n",
      "                                48)                              ']                               \n",
      "                                                                                                  \n",
      " block2c_project_bn (BatchNorma  (None, None, None,   192        ['block2c_project_conv[0][0]']   \n",
      " lization)                      48)                                                               \n",
      "                                                                                                  \n",
      " block2c_add (Add)              (None, None, None,   0           ['block2c_project_bn[0][0]',     \n",
      "                                48)                               'block2b_add[0][0]']            \n",
      "                                                                                                  \n",
      " block2d_expand_conv (Conv2D)   (None, None, None,   82944       ['block2c_add[0][0]']            \n",
      "                                192)                                                              \n",
      "                                                                                                  \n",
      " block2d_expand_bn (BatchNormal  (None, None, None,   768        ['block2d_expand_conv[0][0]']    \n",
      " ization)                       192)                                                              \n",
      "                                                                                                  \n",
      " block2d_expand_activation (Act  (None, None, None,   0          ['block2d_expand_bn[0][0]']      \n",
      " ivation)                       192)                                                              \n",
      "                                                                                                  \n",
      " block2d_project_conv (Conv2D)  (None, None, None,   9216        ['block2d_expand_activation[0][0]\n",
      "                                48)                              ']                               \n",
      "                                                                                                  \n",
      " block2d_project_bn (BatchNorma  (None, None, None,   192        ['block2d_project_conv[0][0]']   \n",
      " lization)                      48)                                                               \n",
      "                                                                                                  \n",
      " block2d_add (Add)              (None, None, None,   0           ['block2d_project_bn[0][0]',     \n",
      "                                48)                               'block2c_add[0][0]']            \n",
      "                                                                                                  \n",
      " block3a_expand_conv (Conv2D)   (None, None, None,   82944       ['block2d_add[0][0]']            \n",
      "                                192)                                                              \n",
      "                                                                                                  \n",
      " block3a_expand_bn (BatchNormal  (None, None, None,   768        ['block3a_expand_conv[0][0]']    \n",
      " ization)                       192)                                                              \n",
      "                                                                                                  \n",
      " block3a_expand_activation (Act  (None, None, None,   0          ['block3a_expand_bn[0][0]']      \n",
      " ivation)                       192)                                                              \n",
      "                                                                                                  \n",
      " block3a_project_conv (Conv2D)  (None, None, None,   12288       ['block3a_expand_activation[0][0]\n",
      "                                64)                              ']                               \n",
      "                                                                                                  \n",
      " block3a_project_bn (BatchNorma  (None, None, None,   256        ['block3a_project_conv[0][0]']   \n",
      " lization)                      64)                                                               \n",
      "                                                                                                  \n",
      " block3b_expand_conv (Conv2D)   (None, None, None,   147456      ['block3a_project_bn[0][0]']     \n",
      "                                256)                                                              \n",
      "                                                                                                  \n",
      " block3b_expand_bn (BatchNormal  (None, None, None,   1024       ['block3b_expand_conv[0][0]']    \n",
      " ization)                       256)                                                              \n",
      "                                                                                                  \n",
      " block3b_expand_activation (Act  (None, None, None,   0          ['block3b_expand_bn[0][0]']      \n",
      " ivation)                       256)                                                              \n",
      "                                                                                                  \n",
      " block3b_project_conv (Conv2D)  (None, None, None,   16384       ['block3b_expand_activation[0][0]\n",
      "                                64)                              ']                               \n",
      "                                                                                                  \n",
      " block3b_project_bn (BatchNorma  (None, None, None,   256        ['block3b_project_conv[0][0]']   \n",
      " lization)                      64)                                                               \n",
      "                                                                                                  \n",
      " block3b_add (Add)              (None, None, None,   0           ['block3b_project_bn[0][0]',     \n",
      "                                64)                               'block3a_project_bn[0][0]']     \n",
      "                                                                                                  \n",
      " block3c_expand_conv (Conv2D)   (None, None, None,   147456      ['block3b_add[0][0]']            \n",
      "                                256)                                                              \n",
      "                                                                                                  \n",
      " block3c_expand_bn (BatchNormal  (None, None, None,   1024       ['block3c_expand_conv[0][0]']    \n",
      " ization)                       256)                                                              \n",
      "                                                                                                  \n",
      " block3c_expand_activation (Act  (None, None, None,   0          ['block3c_expand_bn[0][0]']      \n",
      " ivation)                       256)                                                              \n",
      "                                                                                                  \n",
      " block3c_project_conv (Conv2D)  (None, None, None,   16384       ['block3c_expand_activation[0][0]\n",
      "                                64)                              ']                               \n",
      "                                                                                                  \n",
      " block3c_project_bn (BatchNorma  (None, None, None,   256        ['block3c_project_conv[0][0]']   \n",
      " lization)                      64)                                                               \n",
      "                                                                                                  \n",
      " block3c_add (Add)              (None, None, None,   0           ['block3c_project_bn[0][0]',     \n",
      "                                64)                               'block3b_add[0][0]']            \n",
      "                                                                                                  \n",
      " block3d_expand_conv (Conv2D)   (None, None, None,   147456      ['block3c_add[0][0]']            \n",
      "                                256)                                                              \n"
     ]
    },
    {
     "name": "stdout",
     "output_type": "stream",
     "text": [
      "                                                                                                  \n",
      " block3d_expand_bn (BatchNormal  (None, None, None,   1024       ['block3d_expand_conv[0][0]']    \n",
      " ization)                       256)                                                              \n",
      "                                                                                                  \n",
      " block3d_expand_activation (Act  (None, None, None,   0          ['block3d_expand_bn[0][0]']      \n",
      " ivation)                       256)                                                              \n",
      "                                                                                                  \n",
      " block3d_project_conv (Conv2D)  (None, None, None,   16384       ['block3d_expand_activation[0][0]\n",
      "                                64)                              ']                               \n",
      "                                                                                                  \n",
      " block3d_project_bn (BatchNorma  (None, None, None,   256        ['block3d_project_conv[0][0]']   \n",
      " lization)                      64)                                                               \n",
      "                                                                                                  \n",
      " block3d_add (Add)              (None, None, None,   0           ['block3d_project_bn[0][0]',     \n",
      "                                64)                               'block3c_add[0][0]']            \n",
      "                                                                                                  \n",
      " block4a_expand_conv (Conv2D)   (None, None, None,   16384       ['block3d_add[0][0]']            \n",
      "                                256)                                                              \n",
      "                                                                                                  \n",
      " block4a_expand_bn (BatchNormal  (None, None, None,   1024       ['block4a_expand_conv[0][0]']    \n",
      " ization)                       256)                                                              \n",
      "                                                                                                  \n",
      " block4a_expand_activation (Act  (None, None, None,   0          ['block4a_expand_bn[0][0]']      \n",
      " ivation)                       256)                                                              \n",
      "                                                                                                  \n",
      " block4a_dwconv2 (DepthwiseConv  (None, None, None,   2304       ['block4a_expand_activation[0][0]\n",
      " 2D)                            256)                             ']                               \n",
      "                                                                                                  \n",
      " block4a_bn (BatchNormalization  (None, None, None,   1024       ['block4a_dwconv2[0][0]']        \n",
      " )                              256)                                                              \n",
      "                                                                                                  \n",
      " block4a_activation (Activation  (None, None, None,   0          ['block4a_bn[0][0]']             \n",
      " )                              256)                                                              \n",
      "                                                                                                  \n",
      " block4a_se_squeeze (GlobalAver  (None, 256)         0           ['block4a_activation[0][0]']     \n",
      " agePooling2D)                                                                                    \n",
      "                                                                                                  \n",
      " block4a_se_reshape (Reshape)   (None, 1, 1, 256)    0           ['block4a_se_squeeze[0][0]']     \n",
      "                                                                                                  \n",
      " block4a_se_reduce (Conv2D)     (None, 1, 1, 16)     4112        ['block4a_se_reshape[0][0]']     \n",
      "                                                                                                  \n",
      " block4a_se_expand (Conv2D)     (None, 1, 1, 256)    4352        ['block4a_se_reduce[0][0]']      \n",
      "                                                                                                  \n",
      " block4a_se_excite (Multiply)   (None, None, None,   0           ['block4a_activation[0][0]',     \n",
      "                                256)                              'block4a_se_expand[0][0]']      \n",
      "                                                                                                  \n",
      " block4a_project_conv (Conv2D)  (None, None, None,   32768       ['block4a_se_excite[0][0]']      \n",
      "                                128)                                                              \n",
      "                                                                                                  \n",
      " block4a_project_bn (BatchNorma  (None, None, None,   512        ['block4a_project_conv[0][0]']   \n",
      " lization)                      128)                                                              \n",
      "                                                                                                  \n",
      " block4b_expand_conv (Conv2D)   (None, None, None,   65536       ['block4a_project_bn[0][0]']     \n",
      "                                512)                                                              \n",
      "                                                                                                  \n",
      " block4b_expand_bn (BatchNormal  (None, None, None,   2048       ['block4b_expand_conv[0][0]']    \n",
      " ization)                       512)                                                              \n",
      "                                                                                                  \n",
      " block4b_expand_activation (Act  (None, None, None,   0          ['block4b_expand_bn[0][0]']      \n",
      " ivation)                       512)                                                              \n",
      "                                                                                                  \n",
      " block4b_dwconv2 (DepthwiseConv  (None, None, None,   4608       ['block4b_expand_activation[0][0]\n",
      " 2D)                            512)                             ']                               \n",
      "                                                                                                  \n",
      " block4b_bn (BatchNormalization  (None, None, None,   2048       ['block4b_dwconv2[0][0]']        \n",
      " )                              512)                                                              \n",
      "                                                                                                  \n",
      " block4b_activation (Activation  (None, None, None,   0          ['block4b_bn[0][0]']             \n",
      " )                              512)                                                              \n",
      "                                                                                                  \n",
      " block4b_se_squeeze (GlobalAver  (None, 512)         0           ['block4b_activation[0][0]']     \n",
      " agePooling2D)                                                                                    \n",
      "                                                                                                  \n",
      " block4b_se_reshape (Reshape)   (None, 1, 1, 512)    0           ['block4b_se_squeeze[0][0]']     \n",
      "                                                                                                  \n",
      " block4b_se_reduce (Conv2D)     (None, 1, 1, 32)     16416       ['block4b_se_reshape[0][0]']     \n",
      "                                                                                                  \n",
      " block4b_se_expand (Conv2D)     (None, 1, 1, 512)    16896       ['block4b_se_reduce[0][0]']      \n",
      "                                                                                                  \n",
      " block4b_se_excite (Multiply)   (None, None, None,   0           ['block4b_activation[0][0]',     \n",
      "                                512)                              'block4b_se_expand[0][0]']      \n",
      "                                                                                                  \n",
      " block4b_project_conv (Conv2D)  (None, None, None,   65536       ['block4b_se_excite[0][0]']      \n"
     ]
    },
    {
     "name": "stdout",
     "output_type": "stream",
     "text": [
      "                                128)                                                              \n",
      "                                                                                                  \n",
      " block4b_project_bn (BatchNorma  (None, None, None,   512        ['block4b_project_conv[0][0]']   \n",
      " lization)                      128)                                                              \n",
      "                                                                                                  \n",
      " block4b_add (Add)              (None, None, None,   0           ['block4b_project_bn[0][0]',     \n",
      "                                128)                              'block4a_project_bn[0][0]']     \n",
      "                                                                                                  \n",
      " block4c_expand_conv (Conv2D)   (None, None, None,   65536       ['block4b_add[0][0]']            \n",
      "                                512)                                                              \n",
      "                                                                                                  \n",
      " block4c_expand_bn (BatchNormal  (None, None, None,   2048       ['block4c_expand_conv[0][0]']    \n",
      " ization)                       512)                                                              \n",
      "                                                                                                  \n",
      " block4c_expand_activation (Act  (None, None, None,   0          ['block4c_expand_bn[0][0]']      \n",
      " ivation)                       512)                                                              \n",
      "                                                                                                  \n",
      " block4c_dwconv2 (DepthwiseConv  (None, None, None,   4608       ['block4c_expand_activation[0][0]\n",
      " 2D)                            512)                             ']                               \n",
      "                                                                                                  \n",
      " block4c_bn (BatchNormalization  (None, None, None,   2048       ['block4c_dwconv2[0][0]']        \n",
      " )                              512)                                                              \n",
      "                                                                                                  \n",
      " block4c_activation (Activation  (None, None, None,   0          ['block4c_bn[0][0]']             \n",
      " )                              512)                                                              \n",
      "                                                                                                  \n",
      " block4c_se_squeeze (GlobalAver  (None, 512)         0           ['block4c_activation[0][0]']     \n",
      " agePooling2D)                                                                                    \n",
      "                                                                                                  \n",
      " block4c_se_reshape (Reshape)   (None, 1, 1, 512)    0           ['block4c_se_squeeze[0][0]']     \n",
      "                                                                                                  \n",
      " block4c_se_reduce (Conv2D)     (None, 1, 1, 32)     16416       ['block4c_se_reshape[0][0]']     \n",
      "                                                                                                  \n",
      " block4c_se_expand (Conv2D)     (None, 1, 1, 512)    16896       ['block4c_se_reduce[0][0]']      \n",
      "                                                                                                  \n",
      " block4c_se_excite (Multiply)   (None, None, None,   0           ['block4c_activation[0][0]',     \n",
      "                                512)                              'block4c_se_expand[0][0]']      \n",
      "                                                                                                  \n",
      " block4c_project_conv (Conv2D)  (None, None, None,   65536       ['block4c_se_excite[0][0]']      \n",
      "                                128)                                                              \n",
      "                                                                                                  \n",
      " block4c_project_bn (BatchNorma  (None, None, None,   512        ['block4c_project_conv[0][0]']   \n",
      " lization)                      128)                                                              \n",
      "                                                                                                  \n",
      " block4c_add (Add)              (None, None, None,   0           ['block4c_project_bn[0][0]',     \n",
      "                                128)                              'block4b_add[0][0]']            \n",
      "                                                                                                  \n",
      " block4d_expand_conv (Conv2D)   (None, None, None,   65536       ['block4c_add[0][0]']            \n",
      "                                512)                                                              \n",
      "                                                                                                  \n",
      " block4d_expand_bn (BatchNormal  (None, None, None,   2048       ['block4d_expand_conv[0][0]']    \n",
      " ization)                       512)                                                              \n",
      "                                                                                                  \n",
      " block4d_expand_activation (Act  (None, None, None,   0          ['block4d_expand_bn[0][0]']      \n",
      " ivation)                       512)                                                              \n",
      "                                                                                                  \n",
      " block4d_dwconv2 (DepthwiseConv  (None, None, None,   4608       ['block4d_expand_activation[0][0]\n",
      " 2D)                            512)                             ']                               \n",
      "                                                                                                  \n",
      " block4d_bn (BatchNormalization  (None, None, None,   2048       ['block4d_dwconv2[0][0]']        \n",
      " )                              512)                                                              \n",
      "                                                                                                  \n",
      " block4d_activation (Activation  (None, None, None,   0          ['block4d_bn[0][0]']             \n",
      " )                              512)                                                              \n",
      "                                                                                                  \n",
      " block4d_se_squeeze (GlobalAver  (None, 512)         0           ['block4d_activation[0][0]']     \n",
      " agePooling2D)                                                                                    \n",
      "                                                                                                  \n",
      " block4d_se_reshape (Reshape)   (None, 1, 1, 512)    0           ['block4d_se_squeeze[0][0]']     \n",
      "                                                                                                  \n",
      " block4d_se_reduce (Conv2D)     (None, 1, 1, 32)     16416       ['block4d_se_reshape[0][0]']     \n",
      "                                                                                                  \n",
      " block4d_se_expand (Conv2D)     (None, 1, 1, 512)    16896       ['block4d_se_reduce[0][0]']      \n",
      "                                                                                                  \n",
      " block4d_se_excite (Multiply)   (None, None, None,   0           ['block4d_activation[0][0]',     \n",
      "                                512)                              'block4d_se_expand[0][0]']      \n",
      "                                                                                                  \n",
      " block4d_project_conv (Conv2D)  (None, None, None,   65536       ['block4d_se_excite[0][0]']      \n",
      "                                128)                                                              \n",
      "                                                                                                  \n",
      " block4d_project_bn (BatchNorma  (None, None, None,   512        ['block4d_project_conv[0][0]']   \n",
      " lization)                      128)                                                              \n",
      "                                                                                                  \n"
     ]
    },
    {
     "name": "stdout",
     "output_type": "stream",
     "text": [
      " block4d_add (Add)              (None, None, None,   0           ['block4d_project_bn[0][0]',     \n",
      "                                128)                              'block4c_add[0][0]']            \n",
      "                                                                                                  \n",
      " block4e_expand_conv (Conv2D)   (None, None, None,   65536       ['block4d_add[0][0]']            \n",
      "                                512)                                                              \n",
      "                                                                                                  \n",
      " block4e_expand_bn (BatchNormal  (None, None, None,   2048       ['block4e_expand_conv[0][0]']    \n",
      " ization)                       512)                                                              \n",
      "                                                                                                  \n",
      " block4e_expand_activation (Act  (None, None, None,   0          ['block4e_expand_bn[0][0]']      \n",
      " ivation)                       512)                                                              \n",
      "                                                                                                  \n",
      " block4e_dwconv2 (DepthwiseConv  (None, None, None,   4608       ['block4e_expand_activation[0][0]\n",
      " 2D)                            512)                             ']                               \n",
      "                                                                                                  \n",
      " block4e_bn (BatchNormalization  (None, None, None,   2048       ['block4e_dwconv2[0][0]']        \n",
      " )                              512)                                                              \n",
      "                                                                                                  \n",
      " block4e_activation (Activation  (None, None, None,   0          ['block4e_bn[0][0]']             \n",
      " )                              512)                                                              \n",
      "                                                                                                  \n",
      " block4e_se_squeeze (GlobalAver  (None, 512)         0           ['block4e_activation[0][0]']     \n",
      " agePooling2D)                                                                                    \n",
      "                                                                                                  \n",
      " block4e_se_reshape (Reshape)   (None, 1, 1, 512)    0           ['block4e_se_squeeze[0][0]']     \n",
      "                                                                                                  \n",
      " block4e_se_reduce (Conv2D)     (None, 1, 1, 32)     16416       ['block4e_se_reshape[0][0]']     \n",
      "                                                                                                  \n",
      " block4e_se_expand (Conv2D)     (None, 1, 1, 512)    16896       ['block4e_se_reduce[0][0]']      \n",
      "                                                                                                  \n",
      " block4e_se_excite (Multiply)   (None, None, None,   0           ['block4e_activation[0][0]',     \n",
      "                                512)                              'block4e_se_expand[0][0]']      \n",
      "                                                                                                  \n",
      " block4e_project_conv (Conv2D)  (None, None, None,   65536       ['block4e_se_excite[0][0]']      \n",
      "                                128)                                                              \n",
      "                                                                                                  \n",
      " block4e_project_bn (BatchNorma  (None, None, None,   512        ['block4e_project_conv[0][0]']   \n",
      " lization)                      128)                                                              \n",
      "                                                                                                  \n",
      " block4e_add (Add)              (None, None, None,   0           ['block4e_project_bn[0][0]',     \n",
      "                                128)                              'block4d_add[0][0]']            \n",
      "                                                                                                  \n",
      " block4f_expand_conv (Conv2D)   (None, None, None,   65536       ['block4e_add[0][0]']            \n",
      "                                512)                                                              \n",
      "                                                                                                  \n",
      " block4f_expand_bn (BatchNormal  (None, None, None,   2048       ['block4f_expand_conv[0][0]']    \n",
      " ization)                       512)                                                              \n",
      "                                                                                                  \n",
      " block4f_expand_activation (Act  (None, None, None,   0          ['block4f_expand_bn[0][0]']      \n",
      " ivation)                       512)                                                              \n",
      "                                                                                                  \n",
      " block4f_dwconv2 (DepthwiseConv  (None, None, None,   4608       ['block4f_expand_activation[0][0]\n",
      " 2D)                            512)                             ']                               \n",
      "                                                                                                  \n",
      " block4f_bn (BatchNormalization  (None, None, None,   2048       ['block4f_dwconv2[0][0]']        \n",
      " )                              512)                                                              \n",
      "                                                                                                  \n",
      " block4f_activation (Activation  (None, None, None,   0          ['block4f_bn[0][0]']             \n",
      " )                              512)                                                              \n",
      "                                                                                                  \n",
      " block4f_se_squeeze (GlobalAver  (None, 512)         0           ['block4f_activation[0][0]']     \n",
      " agePooling2D)                                                                                    \n",
      "                                                                                                  \n",
      " block4f_se_reshape (Reshape)   (None, 1, 1, 512)    0           ['block4f_se_squeeze[0][0]']     \n",
      "                                                                                                  \n",
      " block4f_se_reduce (Conv2D)     (None, 1, 1, 32)     16416       ['block4f_se_reshape[0][0]']     \n",
      "                                                                                                  \n",
      " block4f_se_expand (Conv2D)     (None, 1, 1, 512)    16896       ['block4f_se_reduce[0][0]']      \n",
      "                                                                                                  \n",
      " block4f_se_excite (Multiply)   (None, None, None,   0           ['block4f_activation[0][0]',     \n",
      "                                512)                              'block4f_se_expand[0][0]']      \n",
      "                                                                                                  \n",
      " block4f_project_conv (Conv2D)  (None, None, None,   65536       ['block4f_se_excite[0][0]']      \n",
      "                                128)                                                              \n",
      "                                                                                                  \n",
      " block4f_project_bn (BatchNorma  (None, None, None,   512        ['block4f_project_conv[0][0]']   \n",
      " lization)                      128)                                                              \n",
      "                                                                                                  \n",
      " block4f_add (Add)              (None, None, None,   0           ['block4f_project_bn[0][0]',     \n",
      "                                128)                              'block4e_add[0][0]']            \n",
      "                                                                                                  \n",
      " block5a_expand_conv (Conv2D)   (None, None, None,   98304       ['block4f_add[0][0]']            \n",
      "                                768)                                                              \n"
     ]
    },
    {
     "name": "stdout",
     "output_type": "stream",
     "text": [
      "                                                                                                  \n",
      " block5a_expand_bn (BatchNormal  (None, None, None,   3072       ['block5a_expand_conv[0][0]']    \n",
      " ization)                       768)                                                              \n",
      "                                                                                                  \n",
      " block5a_expand_activation (Act  (None, None, None,   0          ['block5a_expand_bn[0][0]']      \n",
      " ivation)                       768)                                                              \n",
      "                                                                                                  \n",
      " block5a_dwconv2 (DepthwiseConv  (None, None, None,   6912       ['block5a_expand_activation[0][0]\n",
      " 2D)                            768)                             ']                               \n",
      "                                                                                                  \n",
      " block5a_bn (BatchNormalization  (None, None, None,   3072       ['block5a_dwconv2[0][0]']        \n",
      " )                              768)                                                              \n",
      "                                                                                                  \n",
      " block5a_activation (Activation  (None, None, None,   0          ['block5a_bn[0][0]']             \n",
      " )                              768)                                                              \n",
      "                                                                                                  \n",
      " block5a_se_squeeze (GlobalAver  (None, 768)         0           ['block5a_activation[0][0]']     \n",
      " agePooling2D)                                                                                    \n",
      "                                                                                                  \n",
      " block5a_se_reshape (Reshape)   (None, 1, 1, 768)    0           ['block5a_se_squeeze[0][0]']     \n",
      "                                                                                                  \n",
      " block5a_se_reduce (Conv2D)     (None, 1, 1, 32)     24608       ['block5a_se_reshape[0][0]']     \n",
      "                                                                                                  \n",
      " block5a_se_expand (Conv2D)     (None, 1, 1, 768)    25344       ['block5a_se_reduce[0][0]']      \n",
      "                                                                                                  \n",
      " block5a_se_excite (Multiply)   (None, None, None,   0           ['block5a_activation[0][0]',     \n",
      "                                768)                              'block5a_se_expand[0][0]']      \n",
      "                                                                                                  \n",
      " block5a_project_conv (Conv2D)  (None, None, None,   122880      ['block5a_se_excite[0][0]']      \n",
      "                                160)                                                              \n",
      "                                                                                                  \n",
      " block5a_project_bn (BatchNorma  (None, None, None,   640        ['block5a_project_conv[0][0]']   \n",
      " lization)                      160)                                                              \n",
      "                                                                                                  \n",
      " block5b_expand_conv (Conv2D)   (None, None, None,   153600      ['block5a_project_bn[0][0]']     \n",
      "                                960)                                                              \n",
      "                                                                                                  \n",
      " block5b_expand_bn (BatchNormal  (None, None, None,   3840       ['block5b_expand_conv[0][0]']    \n",
      " ization)                       960)                                                              \n",
      "                                                                                                  \n",
      " block5b_expand_activation (Act  (None, None, None,   0          ['block5b_expand_bn[0][0]']      \n",
      " ivation)                       960)                                                              \n",
      "                                                                                                  \n",
      " block5b_dwconv2 (DepthwiseConv  (None, None, None,   8640       ['block5b_expand_activation[0][0]\n",
      " 2D)                            960)                             ']                               \n",
      "                                                                                                  \n",
      " block5b_bn (BatchNormalization  (None, None, None,   3840       ['block5b_dwconv2[0][0]']        \n",
      " )                              960)                                                              \n",
      "                                                                                                  \n",
      " block5b_activation (Activation  (None, None, None,   0          ['block5b_bn[0][0]']             \n",
      " )                              960)                                                              \n",
      "                                                                                                  \n",
      " block5b_se_squeeze (GlobalAver  (None, 960)         0           ['block5b_activation[0][0]']     \n",
      " agePooling2D)                                                                                    \n",
      "                                                                                                  \n",
      " block5b_se_reshape (Reshape)   (None, 1, 1, 960)    0           ['block5b_se_squeeze[0][0]']     \n",
      "                                                                                                  \n",
      " block5b_se_reduce (Conv2D)     (None, 1, 1, 40)     38440       ['block5b_se_reshape[0][0]']     \n",
      "                                                                                                  \n",
      " block5b_se_expand (Conv2D)     (None, 1, 1, 960)    39360       ['block5b_se_reduce[0][0]']      \n",
      "                                                                                                  \n",
      " block5b_se_excite (Multiply)   (None, None, None,   0           ['block5b_activation[0][0]',     \n",
      "                                960)                              'block5b_se_expand[0][0]']      \n",
      "                                                                                                  \n",
      " block5b_project_conv (Conv2D)  (None, None, None,   153600      ['block5b_se_excite[0][0]']      \n",
      "                                160)                                                              \n",
      "                                                                                                  \n",
      " block5b_project_bn (BatchNorma  (None, None, None,   640        ['block5b_project_conv[0][0]']   \n",
      " lization)                      160)                                                              \n",
      "                                                                                                  \n",
      " block5b_add (Add)              (None, None, None,   0           ['block5b_project_bn[0][0]',     \n",
      "                                160)                              'block5a_project_bn[0][0]']     \n",
      "                                                                                                  \n",
      " block5c_expand_conv (Conv2D)   (None, None, None,   153600      ['block5b_add[0][0]']            \n",
      "                                960)                                                              \n",
      "                                                                                                  \n",
      " block5c_expand_bn (BatchNormal  (None, None, None,   3840       ['block5c_expand_conv[0][0]']    \n",
      " ization)                       960)                                                              \n",
      "                                                                                                  \n",
      " block5c_expand_activation (Act  (None, None, None,   0          ['block5c_expand_bn[0][0]']      \n",
      " ivation)                       960)                                                              \n",
      "                                                                                                  \n",
      " block5c_dwconv2 (DepthwiseConv  (None, None, None,   8640       ['block5c_expand_activation[0][0]\n"
     ]
    },
    {
     "name": "stdout",
     "output_type": "stream",
     "text": [
      " 2D)                            960)                             ']                               \n",
      "                                                                                                  \n",
      " block5c_bn (BatchNormalization  (None, None, None,   3840       ['block5c_dwconv2[0][0]']        \n",
      " )                              960)                                                              \n",
      "                                                                                                  \n",
      " block5c_activation (Activation  (None, None, None,   0          ['block5c_bn[0][0]']             \n",
      " )                              960)                                                              \n",
      "                                                                                                  \n",
      " block5c_se_squeeze (GlobalAver  (None, 960)         0           ['block5c_activation[0][0]']     \n",
      " agePooling2D)                                                                                    \n",
      "                                                                                                  \n",
      " block5c_se_reshape (Reshape)   (None, 1, 1, 960)    0           ['block5c_se_squeeze[0][0]']     \n",
      "                                                                                                  \n",
      " block5c_se_reduce (Conv2D)     (None, 1, 1, 40)     38440       ['block5c_se_reshape[0][0]']     \n",
      "                                                                                                  \n",
      " block5c_se_expand (Conv2D)     (None, 1, 1, 960)    39360       ['block5c_se_reduce[0][0]']      \n",
      "                                                                                                  \n",
      " block5c_se_excite (Multiply)   (None, None, None,   0           ['block5c_activation[0][0]',     \n",
      "                                960)                              'block5c_se_expand[0][0]']      \n",
      "                                                                                                  \n",
      " block5c_project_conv (Conv2D)  (None, None, None,   153600      ['block5c_se_excite[0][0]']      \n",
      "                                160)                                                              \n",
      "                                                                                                  \n",
      " block5c_project_bn (BatchNorma  (None, None, None,   640        ['block5c_project_conv[0][0]']   \n",
      " lization)                      160)                                                              \n",
      "                                                                                                  \n",
      " block5c_add (Add)              (None, None, None,   0           ['block5c_project_bn[0][0]',     \n",
      "                                160)                              'block5b_add[0][0]']            \n",
      "                                                                                                  \n",
      " block5d_expand_conv (Conv2D)   (None, None, None,   153600      ['block5c_add[0][0]']            \n",
      "                                960)                                                              \n",
      "                                                                                                  \n",
      " block5d_expand_bn (BatchNormal  (None, None, None,   3840       ['block5d_expand_conv[0][0]']    \n",
      " ization)                       960)                                                              \n",
      "                                                                                                  \n",
      " block5d_expand_activation (Act  (None, None, None,   0          ['block5d_expand_bn[0][0]']      \n",
      " ivation)                       960)                                                              \n",
      "                                                                                                  \n",
      " block5d_dwconv2 (DepthwiseConv  (None, None, None,   8640       ['block5d_expand_activation[0][0]\n",
      " 2D)                            960)                             ']                               \n",
      "                                                                                                  \n",
      " block5d_bn (BatchNormalization  (None, None, None,   3840       ['block5d_dwconv2[0][0]']        \n",
      " )                              960)                                                              \n",
      "                                                                                                  \n",
      " block5d_activation (Activation  (None, None, None,   0          ['block5d_bn[0][0]']             \n",
      " )                              960)                                                              \n",
      "                                                                                                  \n",
      " block5d_se_squeeze (GlobalAver  (None, 960)         0           ['block5d_activation[0][0]']     \n",
      " agePooling2D)                                                                                    \n",
      "                                                                                                  \n",
      " block5d_se_reshape (Reshape)   (None, 1, 1, 960)    0           ['block5d_se_squeeze[0][0]']     \n",
      "                                                                                                  \n",
      " block5d_se_reduce (Conv2D)     (None, 1, 1, 40)     38440       ['block5d_se_reshape[0][0]']     \n",
      "                                                                                                  \n",
      " block5d_se_expand (Conv2D)     (None, 1, 1, 960)    39360       ['block5d_se_reduce[0][0]']      \n",
      "                                                                                                  \n",
      " block5d_se_excite (Multiply)   (None, None, None,   0           ['block5d_activation[0][0]',     \n",
      "                                960)                              'block5d_se_expand[0][0]']      \n",
      "                                                                                                  \n",
      " block5d_project_conv (Conv2D)  (None, None, None,   153600      ['block5d_se_excite[0][0]']      \n",
      "                                160)                                                              \n",
      "                                                                                                  \n",
      " block5d_project_bn (BatchNorma  (None, None, None,   640        ['block5d_project_conv[0][0]']   \n",
      " lization)                      160)                                                              \n",
      "                                                                                                  \n",
      " block5d_add (Add)              (None, None, None,   0           ['block5d_project_bn[0][0]',     \n",
      "                                160)                              'block5c_add[0][0]']            \n",
      "                                                                                                  \n",
      " block5e_expand_conv (Conv2D)   (None, None, None,   153600      ['block5d_add[0][0]']            \n",
      "                                960)                                                              \n",
      "                                                                                                  \n",
      " block5e_expand_bn (BatchNormal  (None, None, None,   3840       ['block5e_expand_conv[0][0]']    \n",
      " ization)                       960)                                                              \n",
      "                                                                                                  \n",
      " block5e_expand_activation (Act  (None, None, None,   0          ['block5e_expand_bn[0][0]']      \n",
      " ivation)                       960)                                                              \n",
      "                                                                                                  \n",
      " block5e_dwconv2 (DepthwiseConv  (None, None, None,   8640       ['block5e_expand_activation[0][0]\n",
      " 2D)                            960)                             ']                               \n",
      "                                                                                                  \n",
      " block5e_bn (BatchNormalization  (None, None, None,   3840       ['block5e_dwconv2[0][0]']        \n",
      " )                              960)                                                              \n",
      "                                                                                                  \n"
     ]
    },
    {
     "name": "stdout",
     "output_type": "stream",
     "text": [
      " block5e_activation (Activation  (None, None, None,   0          ['block5e_bn[0][0]']             \n",
      " )                              960)                                                              \n",
      "                                                                                                  \n",
      " block5e_se_squeeze (GlobalAver  (None, 960)         0           ['block5e_activation[0][0]']     \n",
      " agePooling2D)                                                                                    \n",
      "                                                                                                  \n",
      " block5e_se_reshape (Reshape)   (None, 1, 1, 960)    0           ['block5e_se_squeeze[0][0]']     \n",
      "                                                                                                  \n",
      " block5e_se_reduce (Conv2D)     (None, 1, 1, 40)     38440       ['block5e_se_reshape[0][0]']     \n",
      "                                                                                                  \n",
      " block5e_se_expand (Conv2D)     (None, 1, 1, 960)    39360       ['block5e_se_reduce[0][0]']      \n",
      "                                                                                                  \n",
      " block5e_se_excite (Multiply)   (None, None, None,   0           ['block5e_activation[0][0]',     \n",
      "                                960)                              'block5e_se_expand[0][0]']      \n",
      "                                                                                                  \n",
      " block5e_project_conv (Conv2D)  (None, None, None,   153600      ['block5e_se_excite[0][0]']      \n",
      "                                160)                                                              \n",
      "                                                                                                  \n",
      " block5e_project_bn (BatchNorma  (None, None, None,   640        ['block5e_project_conv[0][0]']   \n",
      " lization)                      160)                                                              \n",
      "                                                                                                  \n",
      " block5e_add (Add)              (None, None, None,   0           ['block5e_project_bn[0][0]',     \n",
      "                                160)                              'block5d_add[0][0]']            \n",
      "                                                                                                  \n",
      " block5f_expand_conv (Conv2D)   (None, None, None,   153600      ['block5e_add[0][0]']            \n",
      "                                960)                                                              \n",
      "                                                                                                  \n",
      " block5f_expand_bn (BatchNormal  (None, None, None,   3840       ['block5f_expand_conv[0][0]']    \n",
      " ization)                       960)                                                              \n",
      "                                                                                                  \n",
      " block5f_expand_activation (Act  (None, None, None,   0          ['block5f_expand_bn[0][0]']      \n",
      " ivation)                       960)                                                              \n",
      "                                                                                                  \n",
      " block5f_dwconv2 (DepthwiseConv  (None, None, None,   8640       ['block5f_expand_activation[0][0]\n",
      " 2D)                            960)                             ']                               \n",
      "                                                                                                  \n",
      " block5f_bn (BatchNormalization  (None, None, None,   3840       ['block5f_dwconv2[0][0]']        \n",
      " )                              960)                                                              \n",
      "                                                                                                  \n",
      " block5f_activation (Activation  (None, None, None,   0          ['block5f_bn[0][0]']             \n",
      " )                              960)                                                              \n",
      "                                                                                                  \n",
      " block5f_se_squeeze (GlobalAver  (None, 960)         0           ['block5f_activation[0][0]']     \n",
      " agePooling2D)                                                                                    \n",
      "                                                                                                  \n",
      " block5f_se_reshape (Reshape)   (None, 1, 1, 960)    0           ['block5f_se_squeeze[0][0]']     \n",
      "                                                                                                  \n",
      " block5f_se_reduce (Conv2D)     (None, 1, 1, 40)     38440       ['block5f_se_reshape[0][0]']     \n",
      "                                                                                                  \n",
      " block5f_se_expand (Conv2D)     (None, 1, 1, 960)    39360       ['block5f_se_reduce[0][0]']      \n",
      "                                                                                                  \n",
      " block5f_se_excite (Multiply)   (None, None, None,   0           ['block5f_activation[0][0]',     \n",
      "                                960)                              'block5f_se_expand[0][0]']      \n",
      "                                                                                                  \n",
      " block5f_project_conv (Conv2D)  (None, None, None,   153600      ['block5f_se_excite[0][0]']      \n",
      "                                160)                                                              \n",
      "                                                                                                  \n",
      " block5f_project_bn (BatchNorma  (None, None, None,   640        ['block5f_project_conv[0][0]']   \n",
      " lization)                      160)                                                              \n",
      "                                                                                                  \n",
      " block5f_add (Add)              (None, None, None,   0           ['block5f_project_bn[0][0]',     \n",
      "                                160)                              'block5e_add[0][0]']            \n",
      "                                                                                                  \n",
      " block5g_expand_conv (Conv2D)   (None, None, None,   153600      ['block5f_add[0][0]']            \n",
      "                                960)                                                              \n",
      "                                                                                                  \n",
      " block5g_expand_bn (BatchNormal  (None, None, None,   3840       ['block5g_expand_conv[0][0]']    \n",
      " ization)                       960)                                                              \n",
      "                                                                                                  \n",
      " block5g_expand_activation (Act  (None, None, None,   0          ['block5g_expand_bn[0][0]']      \n",
      " ivation)                       960)                                                              \n",
      "                                                                                                  \n",
      " block5g_dwconv2 (DepthwiseConv  (None, None, None,   8640       ['block5g_expand_activation[0][0]\n",
      " 2D)                            960)                             ']                               \n",
      "                                                                                                  \n",
      " block5g_bn (BatchNormalization  (None, None, None,   3840       ['block5g_dwconv2[0][0]']        \n",
      " )                              960)                                                              \n",
      "                                                                                                  \n",
      " block5g_activation (Activation  (None, None, None,   0          ['block5g_bn[0][0]']             \n",
      " )                              960)                                                              \n",
      "                                                                                                  \n",
      " block5g_se_squeeze (GlobalAver  (None, 960)         0           ['block5g_activation[0][0]']     \n",
      " agePooling2D)                                                                                    \n"
     ]
    },
    {
     "name": "stdout",
     "output_type": "stream",
     "text": [
      "                                                                                                  \n",
      " block5g_se_reshape (Reshape)   (None, 1, 1, 960)    0           ['block5g_se_squeeze[0][0]']     \n",
      "                                                                                                  \n",
      " block5g_se_reduce (Conv2D)     (None, 1, 1, 40)     38440       ['block5g_se_reshape[0][0]']     \n",
      "                                                                                                  \n",
      " block5g_se_expand (Conv2D)     (None, 1, 1, 960)    39360       ['block5g_se_reduce[0][0]']      \n",
      "                                                                                                  \n",
      " block5g_se_excite (Multiply)   (None, None, None,   0           ['block5g_activation[0][0]',     \n",
      "                                960)                              'block5g_se_expand[0][0]']      \n",
      "                                                                                                  \n",
      " block5g_project_conv (Conv2D)  (None, None, None,   153600      ['block5g_se_excite[0][0]']      \n",
      "                                160)                                                              \n",
      "                                                                                                  \n",
      " block5g_project_bn (BatchNorma  (None, None, None,   640        ['block5g_project_conv[0][0]']   \n",
      " lization)                      160)                                                              \n",
      "                                                                                                  \n",
      " block5g_add (Add)              (None, None, None,   0           ['block5g_project_bn[0][0]',     \n",
      "                                160)                              'block5f_add[0][0]']            \n",
      "                                                                                                  \n",
      " block5h_expand_conv (Conv2D)   (None, None, None,   153600      ['block5g_add[0][0]']            \n",
      "                                960)                                                              \n",
      "                                                                                                  \n",
      " block5h_expand_bn (BatchNormal  (None, None, None,   3840       ['block5h_expand_conv[0][0]']    \n",
      " ization)                       960)                                                              \n",
      "                                                                                                  \n",
      " block5h_expand_activation (Act  (None, None, None,   0          ['block5h_expand_bn[0][0]']      \n",
      " ivation)                       960)                                                              \n",
      "                                                                                                  \n",
      " block5h_dwconv2 (DepthwiseConv  (None, None, None,   8640       ['block5h_expand_activation[0][0]\n",
      " 2D)                            960)                             ']                               \n",
      "                                                                                                  \n",
      " block5h_bn (BatchNormalization  (None, None, None,   3840       ['block5h_dwconv2[0][0]']        \n",
      " )                              960)                                                              \n",
      "                                                                                                  \n",
      " block5h_activation (Activation  (None, None, None,   0          ['block5h_bn[0][0]']             \n",
      " )                              960)                                                              \n",
      "                                                                                                  \n",
      " block5h_se_squeeze (GlobalAver  (None, 960)         0           ['block5h_activation[0][0]']     \n",
      " agePooling2D)                                                                                    \n",
      "                                                                                                  \n",
      " block5h_se_reshape (Reshape)   (None, 1, 1, 960)    0           ['block5h_se_squeeze[0][0]']     \n",
      "                                                                                                  \n",
      " block5h_se_reduce (Conv2D)     (None, 1, 1, 40)     38440       ['block5h_se_reshape[0][0]']     \n",
      "                                                                                                  \n",
      " block5h_se_expand (Conv2D)     (None, 1, 1, 960)    39360       ['block5h_se_reduce[0][0]']      \n",
      "                                                                                                  \n",
      " block5h_se_excite (Multiply)   (None, None, None,   0           ['block5h_activation[0][0]',     \n",
      "                                960)                              'block5h_se_expand[0][0]']      \n",
      "                                                                                                  \n",
      " block5h_project_conv (Conv2D)  (None, None, None,   153600      ['block5h_se_excite[0][0]']      \n",
      "                                160)                                                              \n",
      "                                                                                                  \n",
      " block5h_project_bn (BatchNorma  (None, None, None,   640        ['block5h_project_conv[0][0]']   \n",
      " lization)                      160)                                                              \n",
      "                                                                                                  \n",
      " block5h_add (Add)              (None, None, None,   0           ['block5h_project_bn[0][0]',     \n",
      "                                160)                              'block5g_add[0][0]']            \n",
      "                                                                                                  \n",
      " block5i_expand_conv (Conv2D)   (None, None, None,   153600      ['block5h_add[0][0]']            \n",
      "                                960)                                                              \n",
      "                                                                                                  \n",
      " block5i_expand_bn (BatchNormal  (None, None, None,   3840       ['block5i_expand_conv[0][0]']    \n",
      " ization)                       960)                                                              \n",
      "                                                                                                  \n",
      " block5i_expand_activation (Act  (None, None, None,   0          ['block5i_expand_bn[0][0]']      \n",
      " ivation)                       960)                                                              \n",
      "                                                                                                  \n",
      " block5i_dwconv2 (DepthwiseConv  (None, None, None,   8640       ['block5i_expand_activation[0][0]\n",
      " 2D)                            960)                             ']                               \n",
      "                                                                                                  \n",
      " block5i_bn (BatchNormalization  (None, None, None,   3840       ['block5i_dwconv2[0][0]']        \n",
      " )                              960)                                                              \n",
      "                                                                                                  \n",
      " block5i_activation (Activation  (None, None, None,   0          ['block5i_bn[0][0]']             \n",
      " )                              960)                                                              \n",
      "                                                                                                  \n",
      " block5i_se_squeeze (GlobalAver  (None, 960)         0           ['block5i_activation[0][0]']     \n",
      " agePooling2D)                                                                                    \n",
      "                                                                                                  \n",
      " block5i_se_reshape (Reshape)   (None, 1, 1, 960)    0           ['block5i_se_squeeze[0][0]']     \n",
      "                                                                                                  \n",
      " block5i_se_reduce (Conv2D)     (None, 1, 1, 40)     38440       ['block5i_se_reshape[0][0]']     \n",
      "                                                                                                  \n"
     ]
    },
    {
     "name": "stdout",
     "output_type": "stream",
     "text": [
      " block5i_se_expand (Conv2D)     (None, 1, 1, 960)    39360       ['block5i_se_reduce[0][0]']      \n",
      "                                                                                                  \n",
      " block5i_se_excite (Multiply)   (None, None, None,   0           ['block5i_activation[0][0]',     \n",
      "                                960)                              'block5i_se_expand[0][0]']      \n",
      "                                                                                                  \n",
      " block5i_project_conv (Conv2D)  (None, None, None,   153600      ['block5i_se_excite[0][0]']      \n",
      "                                160)                                                              \n",
      "                                                                                                  \n",
      " block5i_project_bn (BatchNorma  (None, None, None,   640        ['block5i_project_conv[0][0]']   \n",
      " lization)                      160)                                                              \n",
      "                                                                                                  \n",
      " block5i_add (Add)              (None, None, None,   0           ['block5i_project_bn[0][0]',     \n",
      "                                160)                              'block5h_add[0][0]']            \n",
      "                                                                                                  \n",
      " block6a_expand_conv (Conv2D)   (None, None, None,   153600      ['block5i_add[0][0]']            \n",
      "                                960)                                                              \n",
      "                                                                                                  \n",
      " block6a_expand_bn (BatchNormal  (None, None, None,   3840       ['block6a_expand_conv[0][0]']    \n",
      " ization)                       960)                                                              \n",
      "                                                                                                  \n",
      " block6a_expand_activation (Act  (None, None, None,   0          ['block6a_expand_bn[0][0]']      \n",
      " ivation)                       960)                                                              \n",
      "                                                                                                  \n",
      " block6a_dwconv2 (DepthwiseConv  (None, None, None,   8640       ['block6a_expand_activation[0][0]\n",
      " 2D)                            960)                             ']                               \n",
      "                                                                                                  \n",
      " block6a_bn (BatchNormalization  (None, None, None,   3840       ['block6a_dwconv2[0][0]']        \n",
      " )                              960)                                                              \n",
      "                                                                                                  \n",
      " block6a_activation (Activation  (None, None, None,   0          ['block6a_bn[0][0]']             \n",
      " )                              960)                                                              \n",
      "                                                                                                  \n",
      " block6a_se_squeeze (GlobalAver  (None, 960)         0           ['block6a_activation[0][0]']     \n",
      " agePooling2D)                                                                                    \n",
      "                                                                                                  \n",
      " block6a_se_reshape (Reshape)   (None, 1, 1, 960)    0           ['block6a_se_squeeze[0][0]']     \n",
      "                                                                                                  \n",
      " block6a_se_reduce (Conv2D)     (None, 1, 1, 40)     38440       ['block6a_se_reshape[0][0]']     \n",
      "                                                                                                  \n",
      " block6a_se_expand (Conv2D)     (None, 1, 1, 960)    39360       ['block6a_se_reduce[0][0]']      \n",
      "                                                                                                  \n",
      " block6a_se_excite (Multiply)   (None, None, None,   0           ['block6a_activation[0][0]',     \n",
      "                                960)                              'block6a_se_expand[0][0]']      \n",
      "                                                                                                  \n",
      " block6a_project_conv (Conv2D)  (None, None, None,   245760      ['block6a_se_excite[0][0]']      \n",
      "                                256)                                                              \n",
      "                                                                                                  \n",
      " block6a_project_bn (BatchNorma  (None, None, None,   1024       ['block6a_project_conv[0][0]']   \n",
      " lization)                      256)                                                              \n",
      "                                                                                                  \n",
      " block6b_expand_conv (Conv2D)   (None, None, None,   393216      ['block6a_project_bn[0][0]']     \n",
      "                                1536)                                                             \n",
      "                                                                                                  \n",
      " block6b_expand_bn (BatchNormal  (None, None, None,   6144       ['block6b_expand_conv[0][0]']    \n",
      " ization)                       1536)                                                             \n",
      "                                                                                                  \n",
      " block6b_expand_activation (Act  (None, None, None,   0          ['block6b_expand_bn[0][0]']      \n",
      " ivation)                       1536)                                                             \n",
      "                                                                                                  \n",
      " block6b_dwconv2 (DepthwiseConv  (None, None, None,   13824      ['block6b_expand_activation[0][0]\n",
      " 2D)                            1536)                            ']                               \n",
      "                                                                                                  \n",
      " block6b_bn (BatchNormalization  (None, None, None,   6144       ['block6b_dwconv2[0][0]']        \n",
      " )                              1536)                                                             \n",
      "                                                                                                  \n",
      " block6b_activation (Activation  (None, None, None,   0          ['block6b_bn[0][0]']             \n",
      " )                              1536)                                                             \n",
      "                                                                                                  \n",
      " block6b_se_squeeze (GlobalAver  (None, 1536)        0           ['block6b_activation[0][0]']     \n",
      " agePooling2D)                                                                                    \n",
      "                                                                                                  \n",
      " block6b_se_reshape (Reshape)   (None, 1, 1, 1536)   0           ['block6b_se_squeeze[0][0]']     \n",
      "                                                                                                  \n",
      " block6b_se_reduce (Conv2D)     (None, 1, 1, 64)     98368       ['block6b_se_reshape[0][0]']     \n",
      "                                                                                                  \n",
      " block6b_se_expand (Conv2D)     (None, 1, 1, 1536)   99840       ['block6b_se_reduce[0][0]']      \n",
      "                                                                                                  \n",
      " block6b_se_excite (Multiply)   (None, None, None,   0           ['block6b_activation[0][0]',     \n",
      "                                1536)                             'block6b_se_expand[0][0]']      \n",
      "                                                                                                  \n",
      " block6b_project_conv (Conv2D)  (None, None, None,   393216      ['block6b_se_excite[0][0]']      \n",
      "                                256)                                                              \n",
      "                                                                                                  \n"
     ]
    },
    {
     "name": "stdout",
     "output_type": "stream",
     "text": [
      " block6b_project_bn (BatchNorma  (None, None, None,   1024       ['block6b_project_conv[0][0]']   \n",
      " lization)                      256)                                                              \n",
      "                                                                                                  \n",
      " block6b_add (Add)              (None, None, None,   0           ['block6b_project_bn[0][0]',     \n",
      "                                256)                              'block6a_project_bn[0][0]']     \n",
      "                                                                                                  \n",
      " block6c_expand_conv (Conv2D)   (None, None, None,   393216      ['block6b_add[0][0]']            \n",
      "                                1536)                                                             \n",
      "                                                                                                  \n",
      " block6c_expand_bn (BatchNormal  (None, None, None,   6144       ['block6c_expand_conv[0][0]']    \n",
      " ization)                       1536)                                                             \n",
      "                                                                                                  \n",
      " block6c_expand_activation (Act  (None, None, None,   0          ['block6c_expand_bn[0][0]']      \n",
      " ivation)                       1536)                                                             \n",
      "                                                                                                  \n",
      " block6c_dwconv2 (DepthwiseConv  (None, None, None,   13824      ['block6c_expand_activation[0][0]\n",
      " 2D)                            1536)                            ']                               \n",
      "                                                                                                  \n",
      " block6c_bn (BatchNormalization  (None, None, None,   6144       ['block6c_dwconv2[0][0]']        \n",
      " )                              1536)                                                             \n",
      "                                                                                                  \n",
      " block6c_activation (Activation  (None, None, None,   0          ['block6c_bn[0][0]']             \n",
      " )                              1536)                                                             \n",
      "                                                                                                  \n",
      " block6c_se_squeeze (GlobalAver  (None, 1536)        0           ['block6c_activation[0][0]']     \n",
      " agePooling2D)                                                                                    \n",
      "                                                                                                  \n",
      " block6c_se_reshape (Reshape)   (None, 1, 1, 1536)   0           ['block6c_se_squeeze[0][0]']     \n",
      "                                                                                                  \n",
      " block6c_se_reduce (Conv2D)     (None, 1, 1, 64)     98368       ['block6c_se_reshape[0][0]']     \n",
      "                                                                                                  \n",
      " block6c_se_expand (Conv2D)     (None, 1, 1, 1536)   99840       ['block6c_se_reduce[0][0]']      \n",
      "                                                                                                  \n",
      " block6c_se_excite (Multiply)   (None, None, None,   0           ['block6c_activation[0][0]',     \n",
      "                                1536)                             'block6c_se_expand[0][0]']      \n",
      "                                                                                                  \n",
      " block6c_project_conv (Conv2D)  (None, None, None,   393216      ['block6c_se_excite[0][0]']      \n",
      "                                256)                                                              \n",
      "                                                                                                  \n",
      " block6c_project_bn (BatchNorma  (None, None, None,   1024       ['block6c_project_conv[0][0]']   \n",
      " lization)                      256)                                                              \n",
      "                                                                                                  \n",
      " block6c_add (Add)              (None, None, None,   0           ['block6c_project_bn[0][0]',     \n",
      "                                256)                              'block6b_add[0][0]']            \n",
      "                                                                                                  \n",
      " block6d_expand_conv (Conv2D)   (None, None, None,   393216      ['block6c_add[0][0]']            \n",
      "                                1536)                                                             \n",
      "                                                                                                  \n",
      " block6d_expand_bn (BatchNormal  (None, None, None,   6144       ['block6d_expand_conv[0][0]']    \n",
      " ization)                       1536)                                                             \n",
      "                                                                                                  \n",
      " block6d_expand_activation (Act  (None, None, None,   0          ['block6d_expand_bn[0][0]']      \n",
      " ivation)                       1536)                                                             \n",
      "                                                                                                  \n",
      " block6d_dwconv2 (DepthwiseConv  (None, None, None,   13824      ['block6d_expand_activation[0][0]\n",
      " 2D)                            1536)                            ']                               \n",
      "                                                                                                  \n",
      " block6d_bn (BatchNormalization  (None, None, None,   6144       ['block6d_dwconv2[0][0]']        \n",
      " )                              1536)                                                             \n",
      "                                                                                                  \n",
      " block6d_activation (Activation  (None, None, None,   0          ['block6d_bn[0][0]']             \n",
      " )                              1536)                                                             \n",
      "                                                                                                  \n",
      " block6d_se_squeeze (GlobalAver  (None, 1536)        0           ['block6d_activation[0][0]']     \n",
      " agePooling2D)                                                                                    \n",
      "                                                                                                  \n",
      " block6d_se_reshape (Reshape)   (None, 1, 1, 1536)   0           ['block6d_se_squeeze[0][0]']     \n",
      "                                                                                                  \n",
      " block6d_se_reduce (Conv2D)     (None, 1, 1, 64)     98368       ['block6d_se_reshape[0][0]']     \n",
      "                                                                                                  \n",
      " block6d_se_expand (Conv2D)     (None, 1, 1, 1536)   99840       ['block6d_se_reduce[0][0]']      \n",
      "                                                                                                  \n",
      " block6d_se_excite (Multiply)   (None, None, None,   0           ['block6d_activation[0][0]',     \n",
      "                                1536)                             'block6d_se_expand[0][0]']      \n",
      "                                                                                                  \n",
      " block6d_project_conv (Conv2D)  (None, None, None,   393216      ['block6d_se_excite[0][0]']      \n",
      "                                256)                                                              \n",
      "                                                                                                  \n",
      " block6d_project_bn (BatchNorma  (None, None, None,   1024       ['block6d_project_conv[0][0]']   \n",
      " lization)                      256)                                                              \n",
      "                                                                                                  \n",
      " block6d_add (Add)              (None, None, None,   0           ['block6d_project_bn[0][0]',     \n",
      "                                256)                              'block6c_add[0][0]']            \n"
     ]
    },
    {
     "name": "stdout",
     "output_type": "stream",
     "text": [
      "                                                                                                  \n",
      " block6e_expand_conv (Conv2D)   (None, None, None,   393216      ['block6d_add[0][0]']            \n",
      "                                1536)                                                             \n",
      "                                                                                                  \n",
      " block6e_expand_bn (BatchNormal  (None, None, None,   6144       ['block6e_expand_conv[0][0]']    \n",
      " ization)                       1536)                                                             \n",
      "                                                                                                  \n",
      " block6e_expand_activation (Act  (None, None, None,   0          ['block6e_expand_bn[0][0]']      \n",
      " ivation)                       1536)                                                             \n",
      "                                                                                                  \n",
      " block6e_dwconv2 (DepthwiseConv  (None, None, None,   13824      ['block6e_expand_activation[0][0]\n",
      " 2D)                            1536)                            ']                               \n",
      "                                                                                                  \n",
      " block6e_bn (BatchNormalization  (None, None, None,   6144       ['block6e_dwconv2[0][0]']        \n",
      " )                              1536)                                                             \n",
      "                                                                                                  \n",
      " block6e_activation (Activation  (None, None, None,   0          ['block6e_bn[0][0]']             \n",
      " )                              1536)                                                             \n",
      "                                                                                                  \n",
      " block6e_se_squeeze (GlobalAver  (None, 1536)        0           ['block6e_activation[0][0]']     \n",
      " agePooling2D)                                                                                    \n",
      "                                                                                                  \n",
      " block6e_se_reshape (Reshape)   (None, 1, 1, 1536)   0           ['block6e_se_squeeze[0][0]']     \n",
      "                                                                                                  \n",
      " block6e_se_reduce (Conv2D)     (None, 1, 1, 64)     98368       ['block6e_se_reshape[0][0]']     \n",
      "                                                                                                  \n",
      " block6e_se_expand (Conv2D)     (None, 1, 1, 1536)   99840       ['block6e_se_reduce[0][0]']      \n",
      "                                                                                                  \n",
      " block6e_se_excite (Multiply)   (None, None, None,   0           ['block6e_activation[0][0]',     \n",
      "                                1536)                             'block6e_se_expand[0][0]']      \n",
      "                                                                                                  \n",
      " block6e_project_conv (Conv2D)  (None, None, None,   393216      ['block6e_se_excite[0][0]']      \n",
      "                                256)                                                              \n",
      "                                                                                                  \n",
      " block6e_project_bn (BatchNorma  (None, None, None,   1024       ['block6e_project_conv[0][0]']   \n",
      " lization)                      256)                                                              \n",
      "                                                                                                  \n",
      " block6e_add (Add)              (None, None, None,   0           ['block6e_project_bn[0][0]',     \n",
      "                                256)                              'block6d_add[0][0]']            \n",
      "                                                                                                  \n",
      " block6f_expand_conv (Conv2D)   (None, None, None,   393216      ['block6e_add[0][0]']            \n",
      "                                1536)                                                             \n",
      "                                                                                                  \n",
      " block6f_expand_bn (BatchNormal  (None, None, None,   6144       ['block6f_expand_conv[0][0]']    \n",
      " ization)                       1536)                                                             \n",
      "                                                                                                  \n",
      " block6f_expand_activation (Act  (None, None, None,   0          ['block6f_expand_bn[0][0]']      \n",
      " ivation)                       1536)                                                             \n",
      "                                                                                                  \n",
      " block6f_dwconv2 (DepthwiseConv  (None, None, None,   13824      ['block6f_expand_activation[0][0]\n",
      " 2D)                            1536)                            ']                               \n",
      "                                                                                                  \n",
      " block6f_bn (BatchNormalization  (None, None, None,   6144       ['block6f_dwconv2[0][0]']        \n",
      " )                              1536)                                                             \n",
      "                                                                                                  \n",
      " block6f_activation (Activation  (None, None, None,   0          ['block6f_bn[0][0]']             \n",
      " )                              1536)                                                             \n",
      "                                                                                                  \n",
      " block6f_se_squeeze (GlobalAver  (None, 1536)        0           ['block6f_activation[0][0]']     \n",
      " agePooling2D)                                                                                    \n",
      "                                                                                                  \n",
      " block6f_se_reshape (Reshape)   (None, 1, 1, 1536)   0           ['block6f_se_squeeze[0][0]']     \n",
      "                                                                                                  \n",
      " block6f_se_reduce (Conv2D)     (None, 1, 1, 64)     98368       ['block6f_se_reshape[0][0]']     \n",
      "                                                                                                  \n",
      " block6f_se_expand (Conv2D)     (None, 1, 1, 1536)   99840       ['block6f_se_reduce[0][0]']      \n",
      "                                                                                                  \n",
      " block6f_se_excite (Multiply)   (None, None, None,   0           ['block6f_activation[0][0]',     \n",
      "                                1536)                             'block6f_se_expand[0][0]']      \n",
      "                                                                                                  \n",
      " block6f_project_conv (Conv2D)  (None, None, None,   393216      ['block6f_se_excite[0][0]']      \n",
      "                                256)                                                              \n",
      "                                                                                                  \n",
      " block6f_project_bn (BatchNorma  (None, None, None,   1024       ['block6f_project_conv[0][0]']   \n",
      " lization)                      256)                                                              \n",
      "                                                                                                  \n",
      " block6f_add (Add)              (None, None, None,   0           ['block6f_project_bn[0][0]',     \n",
      "                                256)                              'block6e_add[0][0]']            \n",
      "                                                                                                  \n",
      " block6g_expand_conv (Conv2D)   (None, None, None,   393216      ['block6f_add[0][0]']            \n",
      "                                1536)                                                             \n",
      "                                                                                                  \n",
      " block6g_expand_bn (BatchNormal  (None, None, None,   6144       ['block6g_expand_conv[0][0]']    \n"
     ]
    },
    {
     "name": "stdout",
     "output_type": "stream",
     "text": [
      " ization)                       1536)                                                             \n",
      "                                                                                                  \n",
      " block6g_expand_activation (Act  (None, None, None,   0          ['block6g_expand_bn[0][0]']      \n",
      " ivation)                       1536)                                                             \n",
      "                                                                                                  \n",
      " block6g_dwconv2 (DepthwiseConv  (None, None, None,   13824      ['block6g_expand_activation[0][0]\n",
      " 2D)                            1536)                            ']                               \n",
      "                                                                                                  \n",
      " block6g_bn (BatchNormalization  (None, None, None,   6144       ['block6g_dwconv2[0][0]']        \n",
      " )                              1536)                                                             \n",
      "                                                                                                  \n",
      " block6g_activation (Activation  (None, None, None,   0          ['block6g_bn[0][0]']             \n",
      " )                              1536)                                                             \n",
      "                                                                                                  \n",
      " block6g_se_squeeze (GlobalAver  (None, 1536)        0           ['block6g_activation[0][0]']     \n",
      " agePooling2D)                                                                                    \n",
      "                                                                                                  \n",
      " block6g_se_reshape (Reshape)   (None, 1, 1, 1536)   0           ['block6g_se_squeeze[0][0]']     \n",
      "                                                                                                  \n",
      " block6g_se_reduce (Conv2D)     (None, 1, 1, 64)     98368       ['block6g_se_reshape[0][0]']     \n",
      "                                                                                                  \n",
      " block6g_se_expand (Conv2D)     (None, 1, 1, 1536)   99840       ['block6g_se_reduce[0][0]']      \n",
      "                                                                                                  \n",
      " block6g_se_excite (Multiply)   (None, None, None,   0           ['block6g_activation[0][0]',     \n",
      "                                1536)                             'block6g_se_expand[0][0]']      \n",
      "                                                                                                  \n",
      " block6g_project_conv (Conv2D)  (None, None, None,   393216      ['block6g_se_excite[0][0]']      \n",
      "                                256)                                                              \n",
      "                                                                                                  \n",
      " block6g_project_bn (BatchNorma  (None, None, None,   1024       ['block6g_project_conv[0][0]']   \n",
      " lization)                      256)                                                              \n",
      "                                                                                                  \n",
      " block6g_add (Add)              (None, None, None,   0           ['block6g_project_bn[0][0]',     \n",
      "                                256)                              'block6f_add[0][0]']            \n",
      "                                                                                                  \n",
      " block6h_expand_conv (Conv2D)   (None, None, None,   393216      ['block6g_add[0][0]']            \n",
      "                                1536)                                                             \n",
      "                                                                                                  \n",
      " block6h_expand_bn (BatchNormal  (None, None, None,   6144       ['block6h_expand_conv[0][0]']    \n",
      " ization)                       1536)                                                             \n",
      "                                                                                                  \n",
      " block6h_expand_activation (Act  (None, None, None,   0          ['block6h_expand_bn[0][0]']      \n",
      " ivation)                       1536)                                                             \n",
      "                                                                                                  \n",
      " block6h_dwconv2 (DepthwiseConv  (None, None, None,   13824      ['block6h_expand_activation[0][0]\n",
      " 2D)                            1536)                            ']                               \n",
      "                                                                                                  \n",
      " block6h_bn (BatchNormalization  (None, None, None,   6144       ['block6h_dwconv2[0][0]']        \n",
      " )                              1536)                                                             \n",
      "                                                                                                  \n",
      " block6h_activation (Activation  (None, None, None,   0          ['block6h_bn[0][0]']             \n",
      " )                              1536)                                                             \n",
      "                                                                                                  \n",
      " block6h_se_squeeze (GlobalAver  (None, 1536)        0           ['block6h_activation[0][0]']     \n",
      " agePooling2D)                                                                                    \n",
      "                                                                                                  \n",
      " block6h_se_reshape (Reshape)   (None, 1, 1, 1536)   0           ['block6h_se_squeeze[0][0]']     \n",
      "                                                                                                  \n",
      " block6h_se_reduce (Conv2D)     (None, 1, 1, 64)     98368       ['block6h_se_reshape[0][0]']     \n",
      "                                                                                                  \n",
      " block6h_se_expand (Conv2D)     (None, 1, 1, 1536)   99840       ['block6h_se_reduce[0][0]']      \n",
      "                                                                                                  \n",
      " block6h_se_excite (Multiply)   (None, None, None,   0           ['block6h_activation[0][0]',     \n",
      "                                1536)                             'block6h_se_expand[0][0]']      \n",
      "                                                                                                  \n",
      " block6h_project_conv (Conv2D)  (None, None, None,   393216      ['block6h_se_excite[0][0]']      \n",
      "                                256)                                                              \n",
      "                                                                                                  \n",
      " block6h_project_bn (BatchNorma  (None, None, None,   1024       ['block6h_project_conv[0][0]']   \n",
      " lization)                      256)                                                              \n",
      "                                                                                                  \n",
      " block6h_add (Add)              (None, None, None,   0           ['block6h_project_bn[0][0]',     \n",
      "                                256)                              'block6g_add[0][0]']            \n",
      "                                                                                                  \n",
      " block6i_expand_conv (Conv2D)   (None, None, None,   393216      ['block6h_add[0][0]']            \n",
      "                                1536)                                                             \n",
      "                                                                                                  \n",
      " block6i_expand_bn (BatchNormal  (None, None, None,   6144       ['block6i_expand_conv[0][0]']    \n",
      " ization)                       1536)                                                             \n",
      "                                                                                                  \n",
      " block6i_expand_activation (Act  (None, None, None,   0          ['block6i_expand_bn[0][0]']      \n",
      " ivation)                       1536)                                                             \n",
      "                                                                                                  \n"
     ]
    },
    {
     "name": "stdout",
     "output_type": "stream",
     "text": [
      " block6i_dwconv2 (DepthwiseConv  (None, None, None,   13824      ['block6i_expand_activation[0][0]\n",
      " 2D)                            1536)                            ']                               \n",
      "                                                                                                  \n",
      " block6i_bn (BatchNormalization  (None, None, None,   6144       ['block6i_dwconv2[0][0]']        \n",
      " )                              1536)                                                             \n",
      "                                                                                                  \n",
      " block6i_activation (Activation  (None, None, None,   0          ['block6i_bn[0][0]']             \n",
      " )                              1536)                                                             \n",
      "                                                                                                  \n",
      " block6i_se_squeeze (GlobalAver  (None, 1536)        0           ['block6i_activation[0][0]']     \n",
      " agePooling2D)                                                                                    \n",
      "                                                                                                  \n",
      " block6i_se_reshape (Reshape)   (None, 1, 1, 1536)   0           ['block6i_se_squeeze[0][0]']     \n",
      "                                                                                                  \n",
      " block6i_se_reduce (Conv2D)     (None, 1, 1, 64)     98368       ['block6i_se_reshape[0][0]']     \n",
      "                                                                                                  \n",
      " block6i_se_expand (Conv2D)     (None, 1, 1, 1536)   99840       ['block6i_se_reduce[0][0]']      \n",
      "                                                                                                  \n",
      " block6i_se_excite (Multiply)   (None, None, None,   0           ['block6i_activation[0][0]',     \n",
      "                                1536)                             'block6i_se_expand[0][0]']      \n",
      "                                                                                                  \n",
      " block6i_project_conv (Conv2D)  (None, None, None,   393216      ['block6i_se_excite[0][0]']      \n",
      "                                256)                                                              \n",
      "                                                                                                  \n",
      " block6i_project_bn (BatchNorma  (None, None, None,   1024       ['block6i_project_conv[0][0]']   \n",
      " lization)                      256)                                                              \n",
      "                                                                                                  \n",
      " block6i_add (Add)              (None, None, None,   0           ['block6i_project_bn[0][0]',     \n",
      "                                256)                              'block6h_add[0][0]']            \n",
      "                                                                                                  \n",
      " block6j_expand_conv (Conv2D)   (None, None, None,   393216      ['block6i_add[0][0]']            \n",
      "                                1536)                                                             \n",
      "                                                                                                  \n",
      " block6j_expand_bn (BatchNormal  (None, None, None,   6144       ['block6j_expand_conv[0][0]']    \n",
      " ization)                       1536)                                                             \n",
      "                                                                                                  \n",
      " block6j_expand_activation (Act  (None, None, None,   0          ['block6j_expand_bn[0][0]']      \n",
      " ivation)                       1536)                                                             \n",
      "                                                                                                  \n",
      " block6j_dwconv2 (DepthwiseConv  (None, None, None,   13824      ['block6j_expand_activation[0][0]\n",
      " 2D)                            1536)                            ']                               \n",
      "                                                                                                  \n",
      " block6j_bn (BatchNormalization  (None, None, None,   6144       ['block6j_dwconv2[0][0]']        \n",
      " )                              1536)                                                             \n",
      "                                                                                                  \n",
      " block6j_activation (Activation  (None, None, None,   0          ['block6j_bn[0][0]']             \n",
      " )                              1536)                                                             \n",
      "                                                                                                  \n",
      " block6j_se_squeeze (GlobalAver  (None, 1536)        0           ['block6j_activation[0][0]']     \n",
      " agePooling2D)                                                                                    \n",
      "                                                                                                  \n",
      " block6j_se_reshape (Reshape)   (None, 1, 1, 1536)   0           ['block6j_se_squeeze[0][0]']     \n",
      "                                                                                                  \n",
      " block6j_se_reduce (Conv2D)     (None, 1, 1, 64)     98368       ['block6j_se_reshape[0][0]']     \n",
      "                                                                                                  \n",
      " block6j_se_expand (Conv2D)     (None, 1, 1, 1536)   99840       ['block6j_se_reduce[0][0]']      \n",
      "                                                                                                  \n",
      " block6j_se_excite (Multiply)   (None, None, None,   0           ['block6j_activation[0][0]',     \n",
      "                                1536)                             'block6j_se_expand[0][0]']      \n",
      "                                                                                                  \n",
      " block6j_project_conv (Conv2D)  (None, None, None,   393216      ['block6j_se_excite[0][0]']      \n",
      "                                256)                                                              \n",
      "                                                                                                  \n",
      " block6j_project_bn (BatchNorma  (None, None, None,   1024       ['block6j_project_conv[0][0]']   \n",
      " lization)                      256)                                                              \n",
      "                                                                                                  \n",
      " block6j_add (Add)              (None, None, None,   0           ['block6j_project_bn[0][0]',     \n",
      "                                256)                              'block6i_add[0][0]']            \n",
      "                                                                                                  \n",
      " block6k_expand_conv (Conv2D)   (None, None, None,   393216      ['block6j_add[0][0]']            \n",
      "                                1536)                                                             \n",
      "                                                                                                  \n",
      " block6k_expand_bn (BatchNormal  (None, None, None,   6144       ['block6k_expand_conv[0][0]']    \n",
      " ization)                       1536)                                                             \n",
      "                                                                                                  \n",
      " block6k_expand_activation (Act  (None, None, None,   0          ['block6k_expand_bn[0][0]']      \n",
      " ivation)                       1536)                                                             \n",
      "                                                                                                  \n",
      " block6k_dwconv2 (DepthwiseConv  (None, None, None,   13824      ['block6k_expand_activation[0][0]\n",
      " 2D)                            1536)                            ']                               \n",
      "                                                                                                  \n",
      " block6k_bn (BatchNormalization  (None, None, None,   6144       ['block6k_dwconv2[0][0]']        \n",
      " )                              1536)                                                             \n"
     ]
    },
    {
     "name": "stdout",
     "output_type": "stream",
     "text": [
      "                                                                                                  \n",
      " block6k_activation (Activation  (None, None, None,   0          ['block6k_bn[0][0]']             \n",
      " )                              1536)                                                             \n",
      "                                                                                                  \n",
      " block6k_se_squeeze (GlobalAver  (None, 1536)        0           ['block6k_activation[0][0]']     \n",
      " agePooling2D)                                                                                    \n",
      "                                                                                                  \n",
      " block6k_se_reshape (Reshape)   (None, 1, 1, 1536)   0           ['block6k_se_squeeze[0][0]']     \n",
      "                                                                                                  \n",
      " block6k_se_reduce (Conv2D)     (None, 1, 1, 64)     98368       ['block6k_se_reshape[0][0]']     \n",
      "                                                                                                  \n",
      " block6k_se_expand (Conv2D)     (None, 1, 1, 1536)   99840       ['block6k_se_reduce[0][0]']      \n",
      "                                                                                                  \n",
      " block6k_se_excite (Multiply)   (None, None, None,   0           ['block6k_activation[0][0]',     \n",
      "                                1536)                             'block6k_se_expand[0][0]']      \n",
      "                                                                                                  \n",
      " block6k_project_conv (Conv2D)  (None, None, None,   393216      ['block6k_se_excite[0][0]']      \n",
      "                                256)                                                              \n",
      "                                                                                                  \n",
      " block6k_project_bn (BatchNorma  (None, None, None,   1024       ['block6k_project_conv[0][0]']   \n",
      " lization)                      256)                                                              \n",
      "                                                                                                  \n",
      " block6k_add (Add)              (None, None, None,   0           ['block6k_project_bn[0][0]',     \n",
      "                                256)                              'block6j_add[0][0]']            \n",
      "                                                                                                  \n",
      " block6l_expand_conv (Conv2D)   (None, None, None,   393216      ['block6k_add[0][0]']            \n",
      "                                1536)                                                             \n",
      "                                                                                                  \n",
      " block6l_expand_bn (BatchNormal  (None, None, None,   6144       ['block6l_expand_conv[0][0]']    \n",
      " ization)                       1536)                                                             \n",
      "                                                                                                  \n",
      " block6l_expand_activation (Act  (None, None, None,   0          ['block6l_expand_bn[0][0]']      \n",
      " ivation)                       1536)                                                             \n",
      "                                                                                                  \n",
      " block6l_dwconv2 (DepthwiseConv  (None, None, None,   13824      ['block6l_expand_activation[0][0]\n",
      " 2D)                            1536)                            ']                               \n",
      "                                                                                                  \n",
      " block6l_bn (BatchNormalization  (None, None, None,   6144       ['block6l_dwconv2[0][0]']        \n",
      " )                              1536)                                                             \n",
      "                                                                                                  \n",
      " block6l_activation (Activation  (None, None, None,   0          ['block6l_bn[0][0]']             \n",
      " )                              1536)                                                             \n",
      "                                                                                                  \n",
      " block6l_se_squeeze (GlobalAver  (None, 1536)        0           ['block6l_activation[0][0]']     \n",
      " agePooling2D)                                                                                    \n",
      "                                                                                                  \n",
      " block6l_se_reshape (Reshape)   (None, 1, 1, 1536)   0           ['block6l_se_squeeze[0][0]']     \n",
      "                                                                                                  \n",
      " block6l_se_reduce (Conv2D)     (None, 1, 1, 64)     98368       ['block6l_se_reshape[0][0]']     \n",
      "                                                                                                  \n",
      " block6l_se_expand (Conv2D)     (None, 1, 1, 1536)   99840       ['block6l_se_reduce[0][0]']      \n",
      "                                                                                                  \n",
      " block6l_se_excite (Multiply)   (None, None, None,   0           ['block6l_activation[0][0]',     \n",
      "                                1536)                             'block6l_se_expand[0][0]']      \n",
      "                                                                                                  \n",
      " block6l_project_conv (Conv2D)  (None, None, None,   393216      ['block6l_se_excite[0][0]']      \n",
      "                                256)                                                              \n",
      "                                                                                                  \n",
      " block6l_project_bn (BatchNorma  (None, None, None,   1024       ['block6l_project_conv[0][0]']   \n",
      " lization)                      256)                                                              \n",
      "                                                                                                  \n",
      " block6l_add (Add)              (None, None, None,   0           ['block6l_project_bn[0][0]',     \n",
      "                                256)                              'block6k_add[0][0]']            \n",
      "                                                                                                  \n",
      " block6m_expand_conv (Conv2D)   (None, None, None,   393216      ['block6l_add[0][0]']            \n",
      "                                1536)                                                             \n",
      "                                                                                                  \n",
      " block6m_expand_bn (BatchNormal  (None, None, None,   6144       ['block6m_expand_conv[0][0]']    \n",
      " ization)                       1536)                                                             \n",
      "                                                                                                  \n",
      " block6m_expand_activation (Act  (None, None, None,   0          ['block6m_expand_bn[0][0]']      \n",
      " ivation)                       1536)                                                             \n",
      "                                                                                                  \n",
      " block6m_dwconv2 (DepthwiseConv  (None, None, None,   13824      ['block6m_expand_activation[0][0]\n",
      " 2D)                            1536)                            ']                               \n",
      "                                                                                                  \n",
      " block6m_bn (BatchNormalization  (None, None, None,   6144       ['block6m_dwconv2[0][0]']        \n",
      " )                              1536)                                                             \n",
      "                                                                                                  \n",
      " block6m_activation (Activation  (None, None, None,   0          ['block6m_bn[0][0]']             \n",
      " )                              1536)                                                             \n",
      "                                                                                                  \n",
      " block6m_se_squeeze (GlobalAver  (None, 1536)        0           ['block6m_activation[0][0]']     \n"
     ]
    },
    {
     "name": "stdout",
     "output_type": "stream",
     "text": [
      " agePooling2D)                                                                                    \n",
      "                                                                                                  \n",
      " block6m_se_reshape (Reshape)   (None, 1, 1, 1536)   0           ['block6m_se_squeeze[0][0]']     \n",
      "                                                                                                  \n",
      " block6m_se_reduce (Conv2D)     (None, 1, 1, 64)     98368       ['block6m_se_reshape[0][0]']     \n",
      "                                                                                                  \n",
      " block6m_se_expand (Conv2D)     (None, 1, 1, 1536)   99840       ['block6m_se_reduce[0][0]']      \n",
      "                                                                                                  \n",
      " block6m_se_excite (Multiply)   (None, None, None,   0           ['block6m_activation[0][0]',     \n",
      "                                1536)                             'block6m_se_expand[0][0]']      \n",
      "                                                                                                  \n",
      " block6m_project_conv (Conv2D)  (None, None, None,   393216      ['block6m_se_excite[0][0]']      \n",
      "                                256)                                                              \n",
      "                                                                                                  \n",
      " block6m_project_bn (BatchNorma  (None, None, None,   1024       ['block6m_project_conv[0][0]']   \n",
      " lization)                      256)                                                              \n",
      "                                                                                                  \n",
      " block6m_add (Add)              (None, None, None,   0           ['block6m_project_bn[0][0]',     \n",
      "                                256)                              'block6l_add[0][0]']            \n",
      "                                                                                                  \n",
      " block6n_expand_conv (Conv2D)   (None, None, None,   393216      ['block6m_add[0][0]']            \n",
      "                                1536)                                                             \n",
      "                                                                                                  \n",
      " block6n_expand_bn (BatchNormal  (None, None, None,   6144       ['block6n_expand_conv[0][0]']    \n",
      " ization)                       1536)                                                             \n",
      "                                                                                                  \n",
      " block6n_expand_activation (Act  (None, None, None,   0          ['block6n_expand_bn[0][0]']      \n",
      " ivation)                       1536)                                                             \n",
      "                                                                                                  \n",
      " block6n_dwconv2 (DepthwiseConv  (None, None, None,   13824      ['block6n_expand_activation[0][0]\n",
      " 2D)                            1536)                            ']                               \n",
      "                                                                                                  \n",
      " block6n_bn (BatchNormalization  (None, None, None,   6144       ['block6n_dwconv2[0][0]']        \n",
      " )                              1536)                                                             \n",
      "                                                                                                  \n",
      " block6n_activation (Activation  (None, None, None,   0          ['block6n_bn[0][0]']             \n",
      " )                              1536)                                                             \n",
      "                                                                                                  \n",
      " block6n_se_squeeze (GlobalAver  (None, 1536)        0           ['block6n_activation[0][0]']     \n",
      " agePooling2D)                                                                                    \n",
      "                                                                                                  \n",
      " block6n_se_reshape (Reshape)   (None, 1, 1, 1536)   0           ['block6n_se_squeeze[0][0]']     \n",
      "                                                                                                  \n",
      " block6n_se_reduce (Conv2D)     (None, 1, 1, 64)     98368       ['block6n_se_reshape[0][0]']     \n",
      "                                                                                                  \n",
      " block6n_se_expand (Conv2D)     (None, 1, 1, 1536)   99840       ['block6n_se_reduce[0][0]']      \n",
      "                                                                                                  \n",
      " block6n_se_excite (Multiply)   (None, None, None,   0           ['block6n_activation[0][0]',     \n",
      "                                1536)                             'block6n_se_expand[0][0]']      \n",
      "                                                                                                  \n",
      " block6n_project_conv (Conv2D)  (None, None, None,   393216      ['block6n_se_excite[0][0]']      \n",
      "                                256)                                                              \n",
      "                                                                                                  \n",
      " block6n_project_bn (BatchNorma  (None, None, None,   1024       ['block6n_project_conv[0][0]']   \n",
      " lization)                      256)                                                              \n",
      "                                                                                                  \n",
      " block6n_add (Add)              (None, None, None,   0           ['block6n_project_bn[0][0]',     \n",
      "                                256)                              'block6m_add[0][0]']            \n",
      "                                                                                                  \n",
      " block6o_expand_conv (Conv2D)   (None, None, None,   393216      ['block6n_add[0][0]']            \n",
      "                                1536)                                                             \n",
      "                                                                                                  \n",
      " block6o_expand_bn (BatchNormal  (None, None, None,   6144       ['block6o_expand_conv[0][0]']    \n",
      " ization)                       1536)                                                             \n",
      "                                                                                                  \n",
      " block6o_expand_activation (Act  (None, None, None,   0          ['block6o_expand_bn[0][0]']      \n",
      " ivation)                       1536)                                                             \n",
      "                                                                                                  \n",
      " block6o_dwconv2 (DepthwiseConv  (None, None, None,   13824      ['block6o_expand_activation[0][0]\n",
      " 2D)                            1536)                            ']                               \n",
      "                                                                                                  \n",
      " block6o_bn (BatchNormalization  (None, None, None,   6144       ['block6o_dwconv2[0][0]']        \n",
      " )                              1536)                                                             \n",
      "                                                                                                  \n",
      " block6o_activation (Activation  (None, None, None,   0          ['block6o_bn[0][0]']             \n",
      " )                              1536)                                                             \n",
      "                                                                                                  \n",
      " block6o_se_squeeze (GlobalAver  (None, 1536)        0           ['block6o_activation[0][0]']     \n",
      " agePooling2D)                                                                                    \n",
      "                                                                                                  \n",
      " block6o_se_reshape (Reshape)   (None, 1, 1, 1536)   0           ['block6o_se_squeeze[0][0]']     \n",
      "                                                                                                  \n",
      " block6o_se_reduce (Conv2D)     (None, 1, 1, 64)     98368       ['block6o_se_reshape[0][0]']     \n"
     ]
    },
    {
     "name": "stdout",
     "output_type": "stream",
     "text": [
      "                                                                                                  \n",
      " block6o_se_expand (Conv2D)     (None, 1, 1, 1536)   99840       ['block6o_se_reduce[0][0]']      \n",
      "                                                                                                  \n",
      " block6o_se_excite (Multiply)   (None, None, None,   0           ['block6o_activation[0][0]',     \n",
      "                                1536)                             'block6o_se_expand[0][0]']      \n",
      "                                                                                                  \n",
      " block6o_project_conv (Conv2D)  (None, None, None,   393216      ['block6o_se_excite[0][0]']      \n",
      "                                256)                                                              \n",
      "                                                                                                  \n",
      " block6o_project_bn (BatchNorma  (None, None, None,   1024       ['block6o_project_conv[0][0]']   \n",
      " lization)                      256)                                                              \n",
      "                                                                                                  \n",
      " block6o_add (Add)              (None, None, None,   0           ['block6o_project_bn[0][0]',     \n",
      "                                256)                              'block6n_add[0][0]']            \n",
      "                                                                                                  \n",
      " top_conv (Conv2D)              (None, None, None,   327680      ['block6o_add[0][0]']            \n",
      "                                1280)                                                             \n",
      "                                                                                                  \n",
      " top_bn (BatchNormalization)    (None, None, None,   5120        ['top_conv[0][0]']               \n",
      "                                1280)                                                             \n",
      "                                                                                                  \n",
      " top_activation (Activation)    (None, None, None,   0           ['top_bn[0][0]']                 \n",
      "                                1280)                                                             \n",
      "                                                                                                  \n",
      " global_average_pooling2d (Glob  (None, 1280)        0           ['top_activation[0][0]']         \n",
      " alAveragePooling2D)                                                                              \n",
      "                                                                                                  \n",
      " dense (Dense)                  (None, 120)          153720      ['global_average_pooling2d[0][0]'\n",
      "                                                                 ]                                \n",
      "                                                                                                  \n",
      "==================================================================================================\n",
      "Total params: 20,485,080\n",
      "Trainable params: 20,331,208\n",
      "Non-trainable params: 153,872\n",
      "__________________________________________________________________________________________________\n"
     ]
    }
   ],
   "source": [
    "# Add the pretrained layers\n",
    "pretrained_model = keras.applications.EfficientNetV2S(include_top=False, weights='imagenet')\n",
    "\n",
    "# Add GlobalAveragePooling2D layer\n",
    "average_pooling = keras.layers.GlobalAveragePooling2D()(pretrained_model.output)\n",
    "\n",
    "# Add the output layer\n",
    "output = keras.layers.Dense(n_classes, activation='softmax')(average_pooling)\n",
    "\n",
    "# Get the model\n",
    "model = keras.Model(inputs=pretrained_model.input, outputs=output)\n",
    "\n",
    "model.summary()"
   ]
  },
  {
   "cell_type": "markdown",
   "metadata": {
    "id": "uz_VacxGUTD3"
   },
   "source": [
    "## Freezing the pretrained layers"
   ]
  },
  {
   "cell_type": "code",
   "execution_count": 23,
   "metadata": {
    "executionInfo": {
     "elapsed": 80344,
     "status": "ok",
     "timestamp": 1604890942915,
     "user": {
      "displayName": "Huang Yuxiao",
      "photoUrl": "",
      "userId": "05167076769245149404"
     },
     "user_tz": 300
    },
    "id": "NEMUBOTmUXfu"
   },
   "outputs": [],
   "source": [
    "# For each layer in the pretrained model\n",
    "for layer in pretrained_model.layers:\n",
    "    # Freeze the layer\n",
    "    layer.trainable = False"
   ]
  },
  {
   "cell_type": "markdown",
   "metadata": {
    "id": "u9KTlbBT8EXs"
   },
   "source": [
    "## Setting Callbacks"
   ]
  },
  {
   "cell_type": "code",
   "execution_count": 24,
   "metadata": {
    "executionInfo": {
     "elapsed": 80343,
     "status": "ok",
     "timestamp": 1604890942916,
     "user": {
      "displayName": "Huang Yuxiao",
      "photoUrl": "",
      "userId": "05167076769245149404"
     },
     "user_tz": 300
    },
    "id": "5_iUDJLP8K44"
   },
   "outputs": [],
   "source": [
    "# ModelCheckpoint callback\n",
    "model_checkpoint_cb = keras.callbacks.ModelCheckpoint(filepath=abspath_curr + '/result/model/model.h5',\n",
    "                                                      save_best_only=True,\n",
    "                                                      save_weights_only=True)\n",
    "\n",
    "# EarlyStopping callback\n",
    "early_stopping_cb = keras.callbacks.EarlyStopping(patience=2,\n",
    "                                                  restore_best_weights=True)\n",
    "\n",
    "# ReduceLROnPlateau callback\n",
    "reduce_lr_on_plateau_cb = keras.callbacks.ReduceLROnPlateau(factor=0.1,\n",
    "                                                            patience=1)"
   ]
  },
  {
   "cell_type": "markdown",
   "metadata": {
    "id": "DyXyvsiQVXph"
   },
   "source": [
    "## Compiling the model\n",
    "Here we use the default learning rate of Adam optimizer."
   ]
  },
  {
   "cell_type": "code",
   "execution_count": 25,
   "metadata": {
    "executionInfo": {
     "elapsed": 80342,
     "status": "ok",
     "timestamp": 1604890942916,
     "user": {
      "displayName": "Huang Yuxiao",
      "photoUrl": "",
      "userId": "05167076769245149404"
     },
     "user_tz": 300
    },
    "id": "u0zAElDAVK3H"
   },
   "outputs": [],
   "source": [
    "# Compile the model\n",
    "model.compile(optimizer=keras.optimizers.Adam(learning_rate=0.01),\n",
    "              loss='sparse_categorical_crossentropy',    \n",
    "              metrics=['accuracy'])"
   ]
  },
  {
   "cell_type": "markdown",
   "metadata": {
    "id": "gLdyw9n_VzUb"
   },
   "source": [
    "## Training the model"
   ]
  },
  {
   "cell_type": "code",
   "execution_count": 26,
   "metadata": {
    "colab": {
     "base_uri": "https://localhost:8080/"
    },
    "executionInfo": {
     "elapsed": 959817,
     "status": "ok",
     "timestamp": 1604891822404,
     "user": {
      "displayName": "Huang Yuxiao",
      "photoUrl": "",
      "userId": "05167076769245149404"
     },
     "user_tz": 300
    },
    "id": "0lES5CBZV176",
    "outputId": "b1826a6e-625e-4e22-8047-dfb8c13d461e"
   },
   "outputs": [
    {
     "name": "stdout",
     "output_type": "stream",
     "text": [
      "Epoch 1/5\n",
      "525/525 [==============================] - 82s 126ms/step - loss: 6.2074 - accuracy: 0.0583 - val_loss: 6.0850 - val_accuracy: 0.0733 - lr: 0.0100\n",
      "Epoch 2/5\n",
      "525/525 [==============================] - 62s 117ms/step - loss: 4.8730 - accuracy: 0.1586 - val_loss: 6.5297 - val_accuracy: 0.0778 - lr: 0.0100\n",
      "Epoch 3/5\n",
      "525/525 [==============================] - 62s 118ms/step - loss: 2.5762 - accuracy: 0.4068 - val_loss: 4.6432 - val_accuracy: 0.1131 - lr: 1.0000e-03\n",
      "Epoch 4/5\n",
      "525/525 [==============================] - 62s 118ms/step - loss: 2.2296 - accuracy: 0.4764 - val_loss: 4.5792 - val_accuracy: 0.1214 - lr: 1.0000e-03\n",
      "Epoch 5/5\n",
      "525/525 [==============================] - 62s 118ms/step - loss: 2.1312 - accuracy: 0.5035 - val_loss: 4.5249 - val_accuracy: 0.1228 - lr: 1.0000e-03\n"
     ]
    }
   ],
   "source": [
    "# Train, evaluate and save the best model\n",
    "history = model.fit(data_train,\n",
    "                    epochs=5,\n",
    "                    validation_data=data_valid,\n",
    "                    callbacks=[model_checkpoint_cb,\n",
    "                               early_stopping_cb,\n",
    "                               reduce_lr_on_plateau_cb])"
   ]
  },
  {
   "cell_type": "markdown",
   "metadata": {
    "id": "naOELFqc6pSB"
   },
   "source": [
    "## Plotting the learning curve"
   ]
  },
  {
   "cell_type": "markdown",
   "metadata": {
    "id": "-b-1nRnIgL0d"
   },
   "source": [
    "### Creating the directory for the figure"
   ]
  },
  {
   "cell_type": "code",
   "execution_count": 27,
   "metadata": {
    "executionInfo": {
     "elapsed": 959819,
     "status": "ok",
     "timestamp": 1604891822408,
     "user": {
      "displayName": "Huang Yuxiao",
      "photoUrl": "",
      "userId": "05167076769245149404"
     },
     "user_tz": 300
    },
    "id": "crm5bRITgT8Y"
   },
   "outputs": [],
   "source": [
    "# Make directory\n",
    "directory = os.path.dirname(abspath_curr + '/result/figure/')\n",
    "if not os.path.exists(directory):\n",
    "    os.makedirs(directory)"
   ]
  },
  {
   "cell_type": "code",
   "execution_count": 28,
   "metadata": {
    "colab": {
     "base_uri": "https://localhost:8080/",
     "height": 348
    },
    "executionInfo": {
     "elapsed": 960218,
     "status": "ok",
     "timestamp": 1604891822820,
     "user": {
      "displayName": "Huang Yuxiao",
      "photoUrl": "",
      "userId": "05167076769245149404"
     },
     "user_tz": 300
    },
    "id": "ZucB_4TQ4APW",
    "outputId": "a437b45c-549f-406c-eda7-3c4b8b17b1d9"
   },
   "outputs": [
    {
     "data": {
      "image/png": "[encoded data removed]",
      "text/plain": [
       "<Figure size 576x360 with 1 Axes>"
      ]
     },
     "metadata": {
      "needs_background": "light"
     },
     "output_type": "display_data"
    }
   ],
   "source": [
    "import pandas as pd\n",
    "\n",
    "# Create a figure\n",
    "pd.DataFrame(history.history).plot(figsize=(8, 5))\n",
    "\n",
    "# Set grid\n",
    "plt.grid(True)\n",
    "\n",
    "# Save and show the figure\n",
    "plt.tight_layout()\n",
    "plt.savefig(abspath_curr + '/result/figure/learning_curve_before_unfreezing.pdf')\n",
    "plt.show()"
   ]
  },
  {
   "cell_type": "markdown",
   "metadata": {
    "id": "Ey_jrLDl0bn4"
   },
   "source": [
    "## Unfreezing the pretrained layers"
   ]
  },
  {
   "cell_type": "code",
   "execution_count": 29,
   "metadata": {
    "executionInfo": {
     "elapsed": 960218,
     "status": "ok",
     "timestamp": 1604891822822,
     "user": {
      "displayName": "Huang Yuxiao",
      "photoUrl": "",
      "userId": "05167076769245149404"
     },
     "user_tz": 300
    },
    "id": "ZFgtwWQ50aky"
   },
   "outputs": [],
   "source": [
    "# For each layer in the pretrained model\n",
    "for layer in pretrained_model.layers:\n",
    "    # Unfreeze the layer\n",
    "    layer.trainable = True"
   ]
  },
  {
   "cell_type": "markdown",
   "metadata": {
    "id": "kaNpWBGD2em3"
   },
   "source": [
    "## Compiling the model\n",
    "Here we use a lower learning rate (by a factor of 10) of Adam optimizer, so that it is less likely to compromise the pretrained weights."
   ]
  },
  {
   "cell_type": "code",
   "execution_count": 30,
   "metadata": {
    "executionInfo": {
     "elapsed": 960218,
     "status": "ok",
     "timestamp": 1604891822823,
     "user": {
      "displayName": "Huang Yuxiao",
      "photoUrl": "",
      "userId": "05167076769245149404"
     },
     "user_tz": 300
    },
    "id": "dPiXJrdW21o5"
   },
   "outputs": [],
   "source": [
    "# Compile the model\n",
    "model.compile(optimizer=keras.optimizers.Adam(learning_rate=0.0005),\n",
    "              loss='sparse_categorical_crossentropy',\n",
    "              metrics=['accuracy'])"
   ]
  },
  {
   "cell_type": "markdown",
   "metadata": {
    "id": "4jF7fb1_3ypR"
   },
   "source": [
    "## Training the model"
   ]
  },
  {
   "cell_type": "code",
   "execution_count": 31,
   "metadata": {
    "colab": {
     "base_uri": "https://localhost:8080/"
    },
    "executionInfo": {
     "elapsed": 3135547,
     "status": "ok",
     "timestamp": 1604893998165,
     "user": {
      "displayName": "Huang Yuxiao",
      "photoUrl": "",
      "userId": "05167076769245149404"
     },
     "user_tz": 300
    },
    "id": "RV6dVNO532HU",
    "outputId": "f2615d0e-8708-47b4-aa37-628d16db455c"
   },
   "outputs": [
    {
     "name": "stdout",
     "output_type": "stream",
     "text": [
      "Epoch 1/20\n",
      "525/525 [==============================] - 195s 329ms/step - loss: 1.8651 - accuracy: 0.5038 - val_loss: 1.3130 - val_accuracy: 0.6292 - lr: 5.0000e-04\n",
      "Epoch 2/20\n",
      "525/525 [==============================] - 169s 321ms/step - loss: 0.7985 - accuracy: 0.7549 - val_loss: 1.4169 - val_accuracy: 0.6261 - lr: 5.0000e-04\n",
      "Epoch 3/20\n",
      "525/525 [==============================] - 171s 325ms/step - loss: 0.2511 - accuracy: 0.9254 - val_loss: 1.0175 - val_accuracy: 0.7175 - lr: 5.0000e-05\n",
      "Epoch 4/20\n",
      "525/525 [==============================] - 170s 323ms/step - loss: 0.0904 - accuracy: 0.9754 - val_loss: 1.0916 - val_accuracy: 0.7322 - lr: 5.0000e-05\n",
      "Epoch 5/20\n",
      "525/525 [==============================] - 170s 323ms/step - loss: 0.0431 - accuracy: 0.9898 - val_loss: 1.0947 - val_accuracy: 0.7331 - lr: 5.0000e-06\n"
     ]
    }
   ],
   "source": [
    "# Train, evaluate and save the best model\n",
    "history = model.fit(data_train,\n",
    "                    epochs=20,\n",
    "                    validation_data=data_valid,\n",
    "                    callbacks=[model_checkpoint_cb,\n",
    "                               early_stopping_cb,\n",
    "                               reduce_lr_on_plateau_cb])"
   ]
  },
  {
   "cell_type": "markdown",
   "metadata": {
    "id": "jooIV3Tr38rw"
   },
   "source": [
    "## Plotting the learning curve"
   ]
  },
  {
   "cell_type": "code",
   "execution_count": 32,
   "metadata": {
    "colab": {
     "base_uri": "https://localhost:8080/",
     "height": 348
    },
    "executionInfo": {
     "elapsed": 3138691,
     "status": "ok",
     "timestamp": 1604894001321,
     "user": {
      "displayName": "Huang Yuxiao",
      "photoUrl": "",
      "userId": "05167076769245149404"
     },
     "user_tz": 300
    },
    "id": "ZdftIsbI3_nV",
    "outputId": "2228f839-abdc-44e4-89bf-80d4e5a43d81"
   },
   "outputs": [
    {
     "data": {
      "image/png": "[encoded data removed]",
      "text/plain": [
       "<Figure size 576x360 with 1 Axes>"
      ]
     },
     "metadata": {
      "needs_background": "light"
     },
     "output_type": "display_data"
    }
   ],
   "source": [
    "# Create a figure\n",
    "pd.DataFrame(history.history).plot(figsize=(8, 5))\n",
    "\n",
    "# Set grid\n",
    "plt.grid(True)\n",
    "\n",
    "# Save and show the figure\n",
    "plt.tight_layout()\n",
    "plt.savefig(abspath_curr + '/result/figure/learning_curve_after_unfreezing.pdf')\n",
    "plt.show()"
   ]
  },
  {
   "cell_type": "markdown",
   "metadata": {
    "id": "IWVJ3KwUub-j"
   },
   "source": []
  },
  {
   "cell_type": "markdown",
   "metadata": {
    "id": "RkGivY_MA6m1"
   },
   "source": [
    "# Testing"
   ]
  },
  {
   "cell_type": "markdown",
   "metadata": {
    "id": "pjg97rxBvTsD"
   },
   "source": [
    "## Loading the saved model"
   ]
  },
  {
   "cell_type": "code",
   "execution_count": 33,
   "metadata": {
    "executionInfo": {
     "elapsed": 3138690,
     "status": "ok",
     "timestamp": 1604894001322,
     "user": {
      "displayName": "Huang Yuxiao",
      "photoUrl": "",
      "userId": "05167076769245149404"
     },
     "user_tz": 300
    },
    "id": "vWOYFg8BvYI9"
   },
   "outputs": [],
   "source": [
    "# Load the saved model\n",
    "model.load_weights(filepath=abspath_curr + '/result/model/model.h5')"
   ]
  },
  {
   "cell_type": "markdown",
   "metadata": {
    "id": "YAfOtSI7wajL"
   },
   "source": [
    "## Evaluating the model"
   ]
  },
  {
   "cell_type": "code",
   "execution_count": 34,
   "metadata": {
    "colab": {
     "base_uri": "https://localhost:8080/"
    },
    "executionInfo": {
     "elapsed": 3171167,
     "status": "ok",
     "timestamp": 1604894033812,
     "user": {
      "displayName": "Huang Yuxiao",
      "photoUrl": "",
      "userId": "05167076769245149404"
     },
     "user_tz": 300
    },
    "id": "aoJnAfYfYDjH",
    "outputId": "ec13f64c-69f0-48ee-e49b-986a9ea99e0d",
    "scrolled": true
   },
   "outputs": [
    {
     "name": "stdout",
     "output_type": "stream",
     "text": [
      "537/537 [==============================] - 44s 81ms/step - loss: 1.0184 - accuracy: 0.7357\n"
     ]
    }
   ],
   "source": [
    "loss, accuracy = model.evaluate(data_test)"
   ]
  },
  {
   "cell_type": "markdown",
   "metadata": {
    "id": "KeR3L0fsmq1G"
   },
   "source": [
    "# Reference\n",
    "- The code for building, compiling and training CNNs were largely inspired by the following work:\n",
    "    - Géron, A., 2019. *Hands-On Machine Learning with Scikit-Learn, Keras, and TensorFlow: Concepts, Tools, and Techniques to Build Intelligent Systems*. O'Reilly Media."
   ]
  },
  {
   "cell_type": "code",
   "execution_count": null,
   "metadata": {},
   "outputs": [],
   "source": []
  }
 ],
 "metadata": {
  "accelerator": "GPU",
  "colab": {
   "collapsed_sections": [],
   "name": "Final_Solution.ipynb",
   "provenance": []
  },
  "kernelspec": {
   "display_name": "tensorflow_gpu",
   "language": "python",
   "name": "tensorflow_gpu"
  },
  "language_info": {
   "codemirror_mode": {
    "name": "ipython",
    "version": 3
   },
   "file_extension": ".py",
   "mimetype": "text/x-python",
   "name": "python",
   "nbconvert_exporter": "python",
   "pygments_lexer": "ipython3",
   "version": "3.8.13"
  },
  "toc": {
   "base_numbering": 1,
   "nav_menu": {},
   "number_sections": true,
   "sideBar": true,
   "skip_h1_title": false,
   "title_cell": "Table of Contents",
   "title_sidebar": "Contents",
   "toc_cell": true,
   "toc_position": {},
   "toc_section_display": true,
   "toc_window_display": false
  }
 },
 "nbformat": 4,
 "nbformat_minor": 1
}
