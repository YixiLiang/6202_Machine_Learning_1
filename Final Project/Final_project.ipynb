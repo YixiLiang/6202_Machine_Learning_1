{
 "cells": [
  {
   "cell_type": "markdown",
   "id": "3d978c9c",
   "metadata": {},
   "source": [
    "<b>\n",
    "<p>\n",
    "<center>\n",
    "<font size=\"5\">\n",
    "Popular Machine Learning Methods: Idea, Practice and Math\n",
    "</font>\n",
    "</center>\n",
    "</p>\n",
    "\n",
    "<p>\n",
    "<center>\n",
    "<font size=\"4\">\n",
    "Part 3, Chapter 2, Section 3: Convolutional Neural Networks\n",
    "</font>\n",
    "</center>\n",
    "</p>\n",
    "    \n",
    "<p>\n",
    "<center>\n",
    "<font size=\"4\">\n",
    "Final project\n",
    "</font>\n",
    "</center>\n",
    "</p>\n",
    "\n",
    "<p>\n",
    "<center>\n",
    "<font size=\"3\">\n",
    "Data Science, Columbian College of Arts & Sciences, George Washington University\n",
    "</font>\n",
    "</center>\n",
    "</p>\n",
    "\n",
    "<p>\n",
    "<center>\n",
    "<font size=\"3\">\n",
    "Yixi Liang\n",
    "</font>\n",
    "</center>\n",
    "</p>\n",
    "</b>"
   ]
  },
  {
   "cell_type": "markdown",
   "id": "d6465d85",
   "metadata": {},
   "source": [
    "# Overview"
   ]
  },
  {
   "cell_type": "markdown",
   "id": "cc659938",
   "metadata": {},
   "source": [
    "- This notebook includes homework 5 for Convolutional Neural Networks (Part 3, Chapter 2, Section 3).\n",
    "- See the accompanied slides in our [github repository](https://github.com/yuxiaohuang/teaching/tree/master/gwu/machine_learning_I/spring_2021/slides/p3_deep_learning/p3_c2_supervised_learning/p3_c2_s3_convolutional_neural_networks).\n",
    "- Here we will work on TensorFlow Dataset [cifar100](https://www.tensorflow.org/datasets/catalog/cifar100).\n",
    "- The goal of this homework is tweaking the pipeline (including data preprocessing, building, compiling and training DNNs) implemented in [/p3 c2 s3 convolutional_neural_networks/case_study](https://github.com/yuxiaohuang/teaching/blob/master/gwu/machine_learning_I/spring_2021/code/p3_deep_learning/p3_c2_supervised_learning/p3_c2_s3_convolutional_neural_networks/case_study/case_study.ipynb) to make it work for the new dataset mentioned above.\n",
    "- Complete the missing parts indicated by # Implement me.\n",
    "- Particularly, the code should\n",
    "    - be bug-free (note that the output produced by your solution may not necessarily be the same as the provided output, due to version issues)\n",
    "    - be commented\n",
    "- **The baseline for this assignment is 0.7. As per the grading rubrics (section 15 of the syllabus), if the test score of your best model is lower than or the same as the baseline, you will only receive 80% of the full mark. See more details in the grading rubrics.**\n",
    "- Submit an ipynb file named homework_5.ipynb to [blackboard](https://blackboard.gwu.edu) folder /Assignments/Homework_5/."
   ]
  },
  {
   "cell_type": "markdown",
   "id": "c5112ae0",
   "metadata": {},
   "source": [
    "# Notebook Configuration"
   ]
  },
  {
   "cell_type": "code",
   "execution_count": 1,
   "id": "4db8ddc2",
   "metadata": {},
   "outputs": [],
   "source": [
    "abspath_curr = 'C:/Users/REX/Desktop/6202 Machine Learning/Final Project'\n",
    "\n",
    "# Get the absolute path of the deep utilities folder\n",
    "abspath_util_deep = 'C:/Users/REX/Desktop/teaching-master/gwu/machine_learning_I/spring_2022/code/utilities/p3_deep_learning'"
   ]
  },
  {
   "cell_type": "markdown",
   "id": "6b4a2ae4",
   "metadata": {},
   "source": [
    "## TensorFlow"
   ]
  },
  {
   "cell_type": "code",
   "execution_count": 2,
   "id": "b36d38e2",
   "metadata": {},
   "outputs": [],
   "source": [
    "import pandas as pd \n",
    "import os \n",
    "import tensorflow as tf \n",
    "from tensorflow import keras\n",
    "import matplotlib.pyplot as plt \n",
    "from tensorflow.keras.preprocessing.image import ImageDataGenerator"
   ]
  },
  {
   "cell_type": "code",
   "execution_count": 3,
   "id": "f3a3e6b8",
   "metadata": {},
   "outputs": [
    {
     "name": "stdout",
     "output_type": "stream",
     "text": [
      "Num GPUs Available 1\n"
     ]
    }
   ],
   "source": [
    "print('Num GPUs Available', len(tf.config.experimental.list_physical_devices('GPU')))"
   ]
  },
  {
   "cell_type": "code",
   "execution_count": 4,
   "id": "b63c55d9",
   "metadata": {},
   "outputs": [
    {
     "data": {
      "text/plain": [
       "True"
      ]
     },
     "execution_count": 4,
     "metadata": {},
     "output_type": "execute_result"
    }
   ],
   "source": [
    "tf.test.is_built_with_cuda()"
   ]
  },
  {
   "cell_type": "markdown",
   "id": "935f8e00",
   "metadata": {},
   "source": [
    "## Warning"
   ]
  },
  {
   "cell_type": "code",
   "execution_count": 5,
   "id": "f6f303e5",
   "metadata": {},
   "outputs": [],
   "source": [
    "# import warnings\n",
    "\n",
    "# # Ignore warnings\n",
    "# warnings.filterwarnings('ignore')"
   ]
  },
  {
   "cell_type": "markdown",
   "id": "9586c306",
   "metadata": {},
   "source": [
    "## Matplotlib"
   ]
  },
  {
   "cell_type": "code",
   "execution_count": 6,
   "id": "02f822fc",
   "metadata": {},
   "outputs": [],
   "source": [
    "# import matplotlib.pyplot as plt\n",
    "# %matplotlib inline \n",
    "\n",
    "# # Set matplotlib sizes\n",
    "# plt.rc('font', size=20)\n",
    "# plt.rc('axes', titlesize=20)\n",
    "# plt.rc('axes', labelsize=20)\n",
    "# plt.rc('xtick', labelsize=20)\n",
    "# plt.rc('ytick', labelsize=20)\n",
    "# plt.rc('legend', fontsize=20)\n",
    "# plt.rc('figure', titlesize=20)"
   ]
  },
  {
   "cell_type": "markdown",
   "id": "61e05ea1",
   "metadata": {},
   "source": [
    "## Random seed"
   ]
  },
  {
   "cell_type": "code",
   "execution_count": 7,
   "id": "28b3cad0",
   "metadata": {},
   "outputs": [],
   "source": [
    "# The random seed\n",
    "random_seed = 42\n",
    "\n",
    "# Set random seed in tensorflow\n",
    "tf.random.set_seed(random_seed)\n",
    "\n",
    "# Set random seed in numpy\n",
    "import numpy as np\n",
    "np.random.seed(random_seed)"
   ]
  },
  {
   "cell_type": "markdown",
   "id": "b4d2fbe1",
   "metadata": {},
   "source": [
    "# Data Preprocessing"
   ]
  },
  {
   "cell_type": "code",
   "execution_count": 8,
   "id": "7c2bae6c",
   "metadata": {},
   "outputs": [],
   "source": [
    "# # Change working directory to the absolute path of the deep utilities folder\n",
    "# %cd $abspath_util_deep\n",
    "\n",
    "# # Import the deep utitilities\n",
    "# %run pmlm_utilities_deep.ipynb"
   ]
  },
  {
   "cell_type": "markdown",
   "id": "919fb813",
   "metadata": {},
   "source": [
    "## Loading the data"
   ]
  },
  {
   "cell_type": "markdown",
   "id": "a3c339c0",
   "metadata": {},
   "source": [
    "In this case study, we will work on the [Plant Seedlings Classification](https://www.kaggle.com/competitions/plant-seedlings-classification/overview)."
   ]
  },
  {
   "cell_type": "markdown",
   "id": "b7c83ba5",
   "metadata": {},
   "source": [
    "### Creating the directory for the data"
   ]
  },
  {
   "cell_type": "code",
   "execution_count": 9,
   "id": "5b696936",
   "metadata": {},
   "outputs": [],
   "source": [
    "train_path = abspath_curr + '/train/'\n",
    "test_path = abspath_curr + '/test/'"
   ]
  },
  {
   "cell_type": "code",
   "execution_count": 10,
   "id": "a2318f4d",
   "metadata": {},
   "outputs": [
    {
     "name": "stdout",
     "output_type": "stream",
     "text": [
      "There are 4 directories and 4 images in 'C:/Users/REX/Desktop/6202 Machine Learning/Final Project'.\n",
      "There are 0 directories and 2 images in 'C:/Users/REX/Desktop/6202 Machine Learning/Final Project\\.ipynb_checkpoints'.\n",
      "There are 1 directories and 0 images in 'C:/Users/REX/Desktop/6202 Machine Learning/Final Project\\result'.\n",
      "There are 0 directories and 0 images in 'C:/Users/REX/Desktop/6202 Machine Learning/Final Project\\result\\model'.\n",
      "There are 0 directories and 794 images in 'C:/Users/REX/Desktop/6202 Machine Learning/Final Project\\test'.\n",
      "There are 12 directories and 0 images in 'C:/Users/REX/Desktop/6202 Machine Learning/Final Project\\train'.\n",
      "There are 0 directories and 263 images in 'C:/Users/REX/Desktop/6202 Machine Learning/Final Project\\train\\Black-grass'.\n",
      "There are 0 directories and 390 images in 'C:/Users/REX/Desktop/6202 Machine Learning/Final Project\\train\\Charlock'.\n",
      "There are 0 directories and 287 images in 'C:/Users/REX/Desktop/6202 Machine Learning/Final Project\\train\\Cleavers'.\n",
      "There are 0 directories and 611 images in 'C:/Users/REX/Desktop/6202 Machine Learning/Final Project\\train\\Common Chickweed'.\n",
      "There are 0 directories and 221 images in 'C:/Users/REX/Desktop/6202 Machine Learning/Final Project\\train\\Common wheat'.\n",
      "There are 0 directories and 475 images in 'C:/Users/REX/Desktop/6202 Machine Learning/Final Project\\train\\Fat Hen'.\n",
      "There are 0 directories and 654 images in 'C:/Users/REX/Desktop/6202 Machine Learning/Final Project\\train\\Loose Silky-bent'.\n",
      "There are 0 directories and 221 images in 'C:/Users/REX/Desktop/6202 Machine Learning/Final Project\\train\\Maize'.\n",
      "There are 0 directories and 516 images in 'C:/Users/REX/Desktop/6202 Machine Learning/Final Project\\train\\Scentless Mayweed'.\n",
      "There are 0 directories and 231 images in 'C:/Users/REX/Desktop/6202 Machine Learning/Final Project\\train\\Shepherds Purse'.\n",
      "There are 0 directories and 496 images in 'C:/Users/REX/Desktop/6202 Machine Learning/Final Project\\train\\Small-flowered Cranesbill'.\n",
      "There are 0 directories and 385 images in 'C:/Users/REX/Desktop/6202 Machine Learning/Final Project\\train\\Sugar beet'.\n"
     ]
    }
   ],
   "source": [
    "for dirpath, dirnames, filenames in os.walk(abspath_curr): \n",
    "     print(f\"There are {len(dirnames)} directories and {len(filenames)} images in '{dirpath}'.\")"
   ]
  },
  {
   "cell_type": "markdown",
   "id": "c94e54eb",
   "metadata": {},
   "source": [
    "## Load data  "
   ]
  },
  {
   "cell_type": "code",
   "execution_count": 11,
   "id": "9d359cd8",
   "metadata": {},
   "outputs": [
    {
     "name": "stdout",
     "output_type": "stream",
     "text": [
      "Found 4750 files belonging to 12 classes.\n",
      "Using 3800 files for training.\n"
     ]
    }
   ],
   "source": [
    "train_data = tf.keras.preprocessing.image_dataset_from_directory(directory=train_path,\n",
    "                                                                 label_mode=\"categorical\", \n",
    "                                                                 shuffle=True,\n",
    "                                                                 image_size=(224,224),\n",
    "                                                                batch_size = 32, \n",
    "                                                                 seed=42,\n",
    "                                                                validation_split=0.2,\n",
    "                                                                   subset=\"training\")"
   ]
  },
  {
   "cell_type": "code",
   "execution_count": 12,
   "id": "3dd01da4",
   "metadata": {},
   "outputs": [
    {
     "name": "stdout",
     "output_type": "stream",
     "text": [
      "Found 4750 files belonging to 12 classes.\n",
      "Using 950 files for validation.\n"
     ]
    }
   ],
   "source": [
    "valid_data = tf.keras.preprocessing.image_dataset_from_directory(directory=train_path,\n",
    "                                                                 label_mode=\"categorical\", \n",
    "                                                                 shuffle=False,\n",
    "                                                                 image_size=(1,1),\n",
    "                                                                batch_size = 32,\n",
    "                                                                 seed=42,\n",
    "                                                                validation_split=0.2,\n",
    "                                                                   subset=\"validation\")"
   ]
  },
  {
   "cell_type": "code",
   "execution_count": 13,
   "id": "ad70e528",
   "metadata": {},
   "outputs": [
    {
     "data": {
      "text/plain": [
       "['Black-grass',\n",
       " 'Charlock',\n",
       " 'Cleavers',\n",
       " 'Common Chickweed',\n",
       " 'Common wheat',\n",
       " 'Fat Hen',\n",
       " 'Loose Silky-bent',\n",
       " 'Maize',\n",
       " 'Scentless Mayweed',\n",
       " 'Shepherds Purse',\n",
       " 'Small-flowered Cranesbill',\n",
       " 'Sugar beet']"
      ]
     },
     "execution_count": 13,
     "metadata": {},
     "output_type": "execute_result"
    }
   ],
   "source": [
    "class_names = train_data.class_names\n",
    "class_names"
   ]
  },
  {
   "cell_type": "code",
   "execution_count": 14,
   "id": "03f44c93",
   "metadata": {},
   "outputs": [],
   "source": [
    "data = train_data.take(1)\n"
   ]
  },
  {
   "cell_type": "code",
   "execution_count": 15,
   "id": "7bb0057b",
   "metadata": {},
   "outputs": [
    {
     "data": {
      "image/png": "[encoded data removed]",
      "text/plain": [
       "<Figure size 432x288 with 1 Axes>"
      ]
     },
     "metadata": {
      "needs_background": "light"
     },
     "output_type": "display_data"
    }
   ],
   "source": [
    "for image, label in data: \n",
    "    plt.imshow(image[0]/255.)\n",
    "    plt.title(f\"Target Class: {class_names[tf.argmax(label[0])]} \")"
   ]
  },
  {
   "cell_type": "code",
   "execution_count": 16,
   "id": "a7c50e7d",
   "metadata": {},
   "outputs": [
    {
     "data": {
      "text/plain": [
       "(<tf.Tensor: shape=(224, 224, 3), dtype=float32, numpy=\n",
       " array([[[108.      , 102.      ,  86.      ],\n",
       "         [105.828125,  99.51785 ,  84.13839 ],\n",
       "         [102.046875,  95.19643 ,  80.89732 ],\n",
       "         ...,\n",
       "         [109.70088 , 100.252205,  88.401764],\n",
       "         [108.62053 ,  97.55132 ,  86.24106 ],\n",
       "         [108.      ,  96.      ,  85.      ]],\n",
       " \n",
       "        [[106.75893 , 100.44866 ,  84.13839 ],\n",
       "         [104.58705 ,  97.966515,  82.27678 ],\n",
       "         [100.8058  ,  93.64509 ,  79.03571 ],\n",
       "         ...,\n",
       "         [109.70088 , 100.65528 ,  88.80484 ],\n",
       "         [108.62053 ,  98.2896  ,  86.97933 ],\n",
       "         [108.      ,  96.9308  ,  85.9308  ]],\n",
       " \n",
       "        [[104.59821 ,  97.747765,  80.89732 ],\n",
       "         [102.42634 ,  95.26562 ,  79.03571 ],\n",
       "         [ 98.64509 ,  90.94419 ,  75.79465 ],\n",
       "         ...,\n",
       "         [109.70088 , 101.35703 ,  89.50659 ],\n",
       "         [108.62053 ,  99.574936,  88.26467 ],\n",
       "         [108.      ,  98.55134 ,  87.55134 ]],\n",
       " \n",
       "        ...,\n",
       " \n",
       "        [[ 75.14956 ,  58.14956 ,  46.14956 ],\n",
       "         [ 76.63994 ,  59.950207,  47.593536],\n",
       "         [ 79.2347  ,  63.085148,  50.107513],\n",
       "         ...,\n",
       "         [ 78.29912 ,  57.897354,  45.725426],\n",
       "         [ 75.598236,  55.73665 ,  45.10446 ],\n",
       "         [ 74.04691 ,  54.49559 ,  44.747795]],\n",
       " \n",
       "        [[ 75.689735,  58.689735,  46.689735],\n",
       "         [ 75.83932 ,  59.14959 ,  46.625317],\n",
       "         [ 76.099754,  59.950195,  46.51317 ],\n",
       "         ...,\n",
       "         [ 82.08035 ,  63.299118,  48.885696],\n",
       "         [ 79.37947 ,  61.138412,  47.972942],\n",
       "         [ 77.82815 ,  59.897354,  47.448677]],\n",
       " \n",
       "        [[ 76.      ,  59.      ,  47.      ],\n",
       "         [ 75.37946 ,  58.68973 ,  46.069195],\n",
       "         [ 74.29911 ,  58.149555,  44.44866 ],\n",
       "         ...,\n",
       "         [ 84.252205,  66.401764,  50.700882],\n",
       "         [ 81.55132 ,  64.24106 ,  49.62053 ],\n",
       "         [ 80.      ,  63.      ,  49.      ]]], dtype=float32)>,\n",
       " <tf.Tensor: shape=(12,), dtype=float32, numpy=array([0., 0., 1., 0., 0., 0., 0., 0., 0., 0., 0., 0.], dtype=float32)>)"
      ]
     },
     "execution_count": 16,
     "metadata": {},
     "output_type": "execute_result"
    }
   ],
   "source": [
    "image[0], label[0]"
   ]
  },
  {
   "cell_type": "code",
   "execution_count": 17,
   "id": "b078e411",
   "metadata": {},
   "outputs": [],
   "source": [
    "base_model = tf.keras.applications.EfficientNetB0(include_top= False)\n",
    "\n",
    "base_model.trainable = False \n",
    "\n",
    "inputs = tf.keras.layers.Input(shape=(224,224,3), name='Input_Layer') \n",
    "\n",
    "x = base_model(inputs) \n",
    "\n",
    "x = tf.keras.layers.GlobalAveragePooling2D(name=\"global_average_pooling_layer\")(x)\n",
    "\n",
    "outputs = tf.keras.layers.Dense(len(class_names), activation='softmax', name='output_layer')(x)\n",
    "\n",
    "model = tf.keras.Model(inputs, outputs)\n",
    "\n"
   ]
  },
  {
   "cell_type": "code",
   "execution_count": 18,
   "id": "785f6138",
   "metadata": {},
   "outputs": [],
   "source": [
    "# ModelCheckpoint callback\n",
    "model_checkpoint_cb = keras.callbacks.ModelCheckpoint(filepath=abspath_curr + '/result/model/model.h5',\n",
    "                                                     save_best_only=True,\n",
    "                                                     save_weights_only=True)\n",
    "\n",
    "# EarlyStopping callback\n",
    "early_stopping_cb = keras.callbacks.EarlyStopping(patience=2,\n",
    "                                                 restore_best_weights=True)\n",
    "\n",
    "# ReduceLROnPlateau callback\n",
    "reduce_lr_on_plateau_cb = keras.callbacks.ReduceLROnPlateau(factor=0.1,\n",
    "                                                            patience=1)"
   ]
  },
  {
   "cell_type": "code",
   "execution_count": 19,
   "id": "d6861ab9",
   "metadata": {},
   "outputs": [],
   "source": [
    "model.compile(loss='categorical_crossentropy',\n",
    "             optimizer = tf.keras.optimizers.Adam(learning_rate=0.01), \n",
    "             metrics=['accuracy']) \n",
    "\n"
   ]
  },
  {
   "cell_type": "code",
   "execution_count": null,
   "id": "0a7e649a",
   "metadata": {},
   "outputs": [
    {
     "name": "stdout",
     "output_type": "stream",
     "text": [
      "Epoch 1/5\n"
     ]
    }
   ],
   "source": [
    "model_history = model.fit(train_data, \n",
    "                          validation_data= valid_data,\n",
    "                          epochs=5,\n",
    "                          callbacks=[model_checkpoint_cb,\n",
    "                             early_stopping_cb,\n",
    "                             reduce_lr_on_plateau_cb]\n",
    "                         )"
   ]
  },
  {
   "cell_type": "code",
   "execution_count": null,
   "id": "e4368323",
   "metadata": {},
   "outputs": [],
   "source": []
  },
  {
   "cell_type": "code",
   "execution_count": null,
   "id": "7d7dd4ee",
   "metadata": {},
   "outputs": [],
   "source": []
  },
  {
   "cell_type": "code",
   "execution_count": null,
   "id": "75ce73ee",
   "metadata": {},
   "outputs": [],
   "source": []
  },
  {
   "cell_type": "code",
   "execution_count": null,
   "id": "0fdb7fc4",
   "metadata": {},
   "outputs": [],
   "source": []
  },
  {
   "cell_type": "code",
   "execution_count": null,
   "id": "a57fe702",
   "metadata": {},
   "outputs": [],
   "source": []
  },
  {
   "cell_type": "code",
   "execution_count": null,
   "id": "c8fda337",
   "metadata": {},
   "outputs": [],
   "source": []
  },
  {
   "cell_type": "code",
   "execution_count": null,
   "id": "d2556f8a",
   "metadata": {},
   "outputs": [],
   "source": []
  },
  {
   "cell_type": "code",
   "execution_count": null,
   "id": "347cf182",
   "metadata": {},
   "outputs": [],
   "source": []
  },
  {
   "cell_type": "markdown",
   "id": "34a50565",
   "metadata": {},
   "source": [
    "# Training"
   ]
  },
  {
   "cell_type": "markdown",
   "id": "bb75507d",
   "metadata": {},
   "source": [
    "## Creating the directory for the model"
   ]
  },
  {
   "cell_type": "code",
   "execution_count": null,
   "id": "a508dd0f",
   "metadata": {},
   "outputs": [],
   "source": [
    "# # Make directory\n",
    "# directory = os.path.dirname(abspath_curr + '/result/model/')\n",
    "# if not os.path.exists(directory):\n",
    "#     os.makedirs(directory)"
   ]
  },
  {
   "cell_type": "markdown",
   "id": "71e4e370",
   "metadata": {},
   "source": [
    "## Building the architecture of the model"
   ]
  },
  {
   "cell_type": "code",
   "execution_count": null,
   "id": "f5263a6b",
   "metadata": {},
   "outputs": [],
   "source": [
    "# # Add the pretrained layers\n",
    "# pretrained_model = keras.applications.EfficientNetB0(include_top=False, weights='imagenet')\n",
    "\n",
    "# inputs = tf.keras.layers.Input(shape=(224,224,3), name='Input_Layer') \n",
    "\n",
    "# # Add GlobalAveragePooling2D layer\n",
    "# average_pooling = keras.layers.GlobalAveragePooling2D()(pretrained_model.output)\n",
    "\n",
    "# # Add the output layer\n",
    "# output = keras.layers.Dense(12, activation='softmax')(average_pooling)\n",
    "\n",
    "# # Get the model\n",
    "# model = keras.Model(inputs=inputs, outputs=output)\n",
    "\n",
    "# model.summary()"
   ]
  },
  {
   "cell_type": "code",
   "execution_count": null,
   "id": "13eeefdd",
   "metadata": {},
   "outputs": [],
   "source": [
    "base_model = tf.keras.applications.ResNet50(include_top= False)\n",
    "\n",
    "base_model.trainable = False \n",
    "\n",
    "inputs = tf.keras.layers.Input(shape=(224,224,3), name='Input_Layer') \n",
    "\n",
    "x = base_model(inputs) \n",
    "\n",
    "x = tf.keras.layers.GlobalAveragePooling2D(name=\"global_average_pooling_layer\")(x)\n",
    "\n",
    "outputs = tf.keras.layers.Dense(len(class_names), activation='softmax', name='output_layer')(x)\n",
    "\n",
    "model = tf.keras.Model(inputs, outputs)\n",
    "\n",
    "model.compile(loss='categorical_crossentropy',\n",
    "             optimizer = tf.keras.optimizers.Adam(), \n",
    "             metrics=['accuracy']) \n",
    "\n",
    "model_history = model.fit(data_train, \n",
    "                          steps_per_epoch=len(data_train),\n",
    "                          validation_data= data_valid,\n",
    "                        validation_steps= len(data_valid),\n",
    "                         epochs=5\n",
    "                         )"
   ]
  },
  {
   "cell_type": "markdown",
   "id": "28656699",
   "metadata": {},
   "source": [
    "## Freezing the pretrained layers"
   ]
  },
  {
   "cell_type": "code",
   "execution_count": null,
   "id": "20d99102",
   "metadata": {},
   "outputs": [],
   "source": [
    "# # For each layer in the pretrained model\n",
    "# for layer in pretrained_model.layers:\n",
    "#     # Freeze the layer\n",
    "#     layer.trainable = False"
   ]
  },
  {
   "cell_type": "markdown",
   "id": "092a7d5c",
   "metadata": {},
   "source": [
    "## Setting Callbacks"
   ]
  },
  {
   "cell_type": "code",
   "execution_count": null,
   "id": "c4b20463",
   "metadata": {},
   "outputs": [],
   "source": [
    "# # ModelCheckpoint callback\n",
    "# model_checkpoint_cb = keras.callbacks.ModelCheckpoint(filepath=abspath_curr + '/result/model/model.h5',\n",
    "#                                                      save_best_only=True,\n",
    "#                                                      save_weights_only=True)\n",
    "\n",
    "# # EarlyStopping callback\n",
    "# early_stopping_cb = keras.callbacks.EarlyStopping(patience=2,\n",
    "#                                                  restore_best_weights=True)\n",
    "\n",
    "# # ReduceLROnPlateau callback\n",
    "# reduce_lr_on_plateau_cb = keras.callbacks.ReduceLROnPlateau(factor=0.1,\n",
    "#                                                             patience=1)"
   ]
  },
  {
   "cell_type": "markdown",
   "id": "9933688d",
   "metadata": {},
   "source": [
    "## Compiling the model\n",
    "Here we use the default learning rate of Adam optimizer."
   ]
  },
  {
   "cell_type": "code",
   "execution_count": null,
   "id": "068c466b",
   "metadata": {},
   "outputs": [],
   "source": [
    "# # Compile the model\n",
    "# model.compile(optimizer=keras.optimizers.Adam(learning_rate=0.01),\n",
    "#              loss='sparse_categorical_crossentropy',\n",
    "#              metrics=['accuracy'])"
   ]
  },
  {
   "cell_type": "markdown",
   "id": "23ecc264",
   "metadata": {},
   "source": [
    "## Training the model"
   ]
  },
  {
   "cell_type": "code",
   "execution_count": null,
   "id": "9cf4832c",
   "metadata": {},
   "outputs": [],
   "source": [
    "# # Train, evaluate and save the best model\n",
    "# history = model.fit(data_train,\n",
    "#                    epochs=5,\n",
    "#                    validation_data=data_valid,\n",
    "#                    callbacks=[model_checkpoint_cb,\n",
    "#                              early_stopping_cb,\n",
    "#                              reduce_lr_on_plateau_cb])"
   ]
  },
  {
   "cell_type": "markdown",
   "id": "33033299",
   "metadata": {},
   "source": [
    "## Plotting the learning curve"
   ]
  },
  {
   "cell_type": "markdown",
   "id": "07069611",
   "metadata": {},
   "source": [
    "### Creating the directory for the figure"
   ]
  },
  {
   "cell_type": "code",
   "execution_count": null,
   "id": "13cc553b",
   "metadata": {},
   "outputs": [],
   "source": [
    "# Make directory\n",
    "directory = os.path.dirname(abspath_curr + '/result/figure/')\n",
    "if not os.path.exists(directory):\n",
    "    os.makedirs(directory)"
   ]
  },
  {
   "cell_type": "code",
   "execution_count": null,
   "id": "25efe4e0",
   "metadata": {},
   "outputs": [],
   "source": [
    "import pandas as pd\n",
    "\n",
    "# Create a figure\n",
    "pd.DataFrame(history.history).plot(figsize=(8,5))\n",
    "\n",
    "# Set grid\n",
    "plt.grid(True)\n",
    "\n",
    "# Save and show the figure\n",
    "plt.tight_layout()\n",
    "plt.savefig(abspath_curr + '/result/figure/learning_curve_before_unfreezing.pdf')\n",
    "plt.show()"
   ]
  },
  {
   "cell_type": "markdown",
   "id": "f260a46d",
   "metadata": {},
   "source": [
    "## Unfreezing the pretrained layers"
   ]
  },
  {
   "cell_type": "code",
   "execution_count": null,
   "id": "176f602f",
   "metadata": {},
   "outputs": [],
   "source": [
    "# For each layer in the pretrained model\n",
    "for layer in pretrained_model.layers:\n",
    "    # Unfreeze the layer\n",
    "    layer.trainable = True"
   ]
  },
  {
   "cell_type": "markdown",
   "id": "2531aa09",
   "metadata": {},
   "source": [
    "## Compiling the model\n",
    "Here we use a lower learning rate (by a factor of 10) of Adam optimizer, so that it is less likely to compromise the pretrained weights."
   ]
  },
  {
   "cell_type": "code",
   "execution_count": null,
   "id": "f44314ec",
   "metadata": {},
   "outputs": [],
   "source": [
    "# Compile the model\n",
    "model.compile(optimizer=keras.optimizers.Adam(learning_rate=0.001),\n",
    "              loss='sparse_categorical_crossentropy',\n",
    "              metrics=['accuracy'])"
   ]
  },
  {
   "cell_type": "markdown",
   "id": "6776620d",
   "metadata": {},
   "source": [
    "## Training the model"
   ]
  },
  {
   "cell_type": "code",
   "execution_count": null,
   "id": "58b6403a",
   "metadata": {},
   "outputs": [],
   "source": [
    "# Train, evaluate and save the best model\n",
    "history = model.fit(data_train,\n",
    "                    epochs=10,\n",
    "                    validation_data=data_valid,\n",
    "                    callbacks=[model_checkpoint_cb,\n",
    "                               early_stopping_cb,\n",
    "                               reduce_lr_on_plateau_cb])"
   ]
  },
  {
   "cell_type": "markdown",
   "id": "e0d4927f",
   "metadata": {},
   "source": [
    "## Plotting the learning curve"
   ]
  },
  {
   "cell_type": "code",
   "execution_count": null,
   "id": "faf53776",
   "metadata": {},
   "outputs": [],
   "source": [
    "# Create a figure\n",
    "pd.DataFrame(history.history).plot(figsize=(8, 5))\n",
    "\n",
    "# Set grid\n",
    "plt.grid(True)\n",
    "\n",
    "# Save and show the figure\n",
    "plt.tight_layout()\n",
    "plt.savefig(abspath_curr + '/result/figure/learning_curve_after_unfreezing.pdf')\n",
    "plt.show()"
   ]
  },
  {
   "cell_type": "markdown",
   "id": "bf6cc145",
   "metadata": {},
   "source": [
    "# Testing"
   ]
  },
  {
   "cell_type": "code",
   "execution_count": null,
   "id": "222fdc12",
   "metadata": {},
   "outputs": [],
   "source": [
    "## Shuffling, batching and prefetching the data\n",
    "\n",
    "# Shuffling the training data\n",
    "data_train = data_train.shuffle(buffer_size=1000, seed=random_seed)\n",
    "\n",
    "# Set the batch size\n",
    "batch_size = 16\n",
    "\n",
    "# Batch and prefetch the training data\n",
    "data_train = data_train.batch(batch_size).prefetch(1)\n",
    "\n",
    "# Batch and prefetch the validation data\n",
    "data_valid = data_valid.batch(batch_size).prefetch(1)\n",
    "\n",
    "# Batch and prefetch the test data\n",
    "data_test = data_test.batch(batch_size).prefetch(1)\n",
    "\n",
    "# Training\n",
    "\n",
    "## Creating the directory for the model\n",
    "\n",
    "# Make directory\n",
    "directory = os.path.dirname(abspath_curr + '/result/model/')\n",
    "if not os.path.exists(directory):\n",
    "    os.makedirs(directory)\n",
    "\n",
    "## Building the architecture of the model\n",
    "\n",
    "# Add the pretrained layers\n",
    "pretrained_model = keras.applications.EfficientNetV2B2(include_top=False, weights='imagenet')\n",
    "\n",
    "# Add GlobalAveragePooling2D layer\n",
    "average_pooling = keras.layers.GlobalAveragePooling2D()(pretrained_model.output)\n",
    "\n",
    "# Add the output layer\n",
    "output = keras.layers.Dense(n_classes, activation='softmax')(average_pooling)\n",
    "\n",
    "# Get the model\n",
    "model = keras.Model(inputs=pretrained_model.input, outputs=output)\n",
    "\n",
    "model.summary()\n",
    "\n",
    "## Freezing the pretrained layers\n",
    "\n",
    "# For each layer in the pretrained model\n",
    "for layer in pretrained_model.layers:\n",
    "    # Freeze the layer\n",
    "    layer.trainable = False\n",
    "\n",
    "## Setting Callbacks\n",
    "\n",
    "# ModelCheckpoint callback\n",
    "model_checkpoint_cb = keras.callbacks.ModelCheckpoint(filepath=abspath_curr + '/result/model/model.h5',\n",
    "                                                     save_best_only=True,\n",
    "                                                     save_weights_only=True)\n",
    "\n",
    "# EarlyStopping callback\n",
    "early_stopping_cb = keras.callbacks.EarlyStopping(patience=2,\n",
    "                                                 restore_best_weights=True)\n",
    "\n",
    "# ReduceLROnPlateau callback\n",
    "reduce_lr_on_plateau_cb = keras.callbacks.ReduceLROnPlateau(factor=0.1,\n",
    "                                                            patience=1)\n",
    "\n",
    "## Compiling the model\n",
    "Here we use the default learning rate of Adam optimizer.\n",
    "\n",
    "# Compile the model\n",
    "model.compile(optimizer=keras.optimizers.Adam(learning_rate=0.01),\n",
    "             loss='sparse_categorical_crossentropy',\n",
    "             metrics=['accuracy'])\n",
    "\n",
    "## Training the model\n",
    "\n",
    "# Train, evaluate and save the best model\n",
    "history = model.fit(data_train,\n",
    "                   epochs=5,\n",
    "                   validation_data=data_valid,\n",
    "                   callbacks=[model_checkpoint_cb,\n",
    "                             early_stopping_cb,\n",
    "                             reduce_lr_on_plateau_cb])\n",
    "\n",
    "## Plotting the learning curve\n",
    "\n",
    "### Creating the directory for the figure\n",
    "\n",
    "# Make directory\n",
    "directory = os.path.dirname(abspath_curr + '/result/figure/')\n",
    "if not os.path.exists(directory):\n",
    "    os.makedirs(directory)\n",
    "\n",
    "import pandas as pd\n",
    "\n",
    "# Create a figure\n",
    "pd.DataFrame(history.history).plot(figsize=(8,5))\n",
    "\n",
    "# Set grid\n",
    "plt.grid(True)\n",
    "\n",
    "# Save and show the figure\n",
    "plt.tight_layout()\n",
    "plt.savefig(abspath_curr + '/result/figure/learning_curve_before_unfreezing.pdf')\n",
    "plt.show()\n",
    "\n",
    "## Unfreezing the pretrained layers\n",
    "\n",
    "# For each layer in the pretrained model\n",
    "for layer in pretrained_model.layers:\n",
    "    # Unfreeze the layer\n",
    "    layer.trainable = True\n",
    "\n",
    "## Compiling the model\n",
    "Here we use a lower learning rate (by a factor of 10) of Adam optimizer, so that it is less likely to compromise the pretrained weights.\n",
    "\n",
    "# Compile the model\n",
    "model.compile(optimizer=keras.optimizers.Adam(learning_rate=0.001),\n",
    "              loss='sparse_categorical_crossentropy',\n",
    "              metrics=['accuracy'])\n",
    "\n",
    "## Training the model\n",
    "\n",
    "# Train, evaluate and save the best model\n",
    "history = model.fit(data_train,\n",
    "                    epochs=10,\n",
    "                    validation_data=data_valid,\n",
    "                    callbacks=[model_checkpoint_cb,\n",
    "                               early_stopping_cb,\n",
    "                               reduce_lr_on_plateau_cb])\n",
    "\n",
    "## Plotting the learning curve\n",
    "\n",
    "# Create a figure\n",
    "pd.DataFrame(history.history).plot(figsize=(8, 5))\n",
    "\n",
    "# Set grid\n",
    "plt.grid(True)\n",
    "\n",
    "# Save and show the figure\n",
    "plt.tight_layout()\n",
    "plt.savefig(abspath_curr + '/result/figure/learning_curve_after_unfreezing.pdf')\n",
    "plt.show()\n",
    "\n",
    "# Testing"
   ]
  }
 ],
 "metadata": {
  "kernelspec": {
   "display_name": "tensorflow_gpu",
   "language": "python",
   "name": "tensorflow_gpu"
  },
  "language_info": {
   "codemirror_mode": {
    "name": "ipython",
    "version": 3
   },
   "file_extension": ".py",
   "mimetype": "text/x-python",
   "name": "python",
   "nbconvert_exporter": "python",
   "pygments_lexer": "ipython3",
   "version": "3.8.13"
  }
 },
 "nbformat": 4,
 "nbformat_minor": 5
}
