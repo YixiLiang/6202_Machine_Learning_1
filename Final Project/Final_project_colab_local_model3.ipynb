{
 "cells": [
  {
   "cell_type": "markdown",
   "id": "3d978c9c",
   "metadata": {
    "id": "3d978c9c"
   },
   "source": [
    "<b>\n",
    "<p>\n",
    "<center>\n",
    "<font size=\"5\">\n",
    "Popular Machine Learning Methods: Idea, Practice and Math\n",
    "</font>\n",
    "</center>\n",
    "</p>\n",
    "\n",
    "<p>\n",
    "<center>\n",
    "<font size=\"4\">\n",
    "Part 3, Chapter 2, Section 3: Convolutional Neural Networks\n",
    "</font>\n",
    "</center>\n",
    "</p>\n",
    "    \n",
    "<p>\n",
    "<center>\n",
    "<font size=\"4\">\n",
    "Final project\n",
    "</font>\n",
    "</center>\n",
    "</p>\n",
    "\n",
    "<p>\n",
    "<center>\n",
    "<font size=\"3\">\n",
    "Data Science, Columbian College of Arts & Sciences, George Washington University\n",
    "</font>\n",
    "</center>\n",
    "</p>\n",
    "\n",
    "<p>\n",
    "<center>\n",
    "<font size=\"3\">\n",
    "Yixi Liang\n",
    "</font>\n",
    "</center>\n",
    "</p>\n",
    "</b>"
   ]
  },
  {
   "cell_type": "markdown",
   "id": "af695efa",
   "metadata": {
    "id": "af695efa"
   },
   "source": [
    "## Google drive"
   ]
  },
  {
   "cell_type": "code",
   "execution_count": 1,
   "id": "b8c49afd",
   "metadata": {
    "colab": {
     "base_uri": "https://localhost:8080/"
    },
    "executionInfo": {
     "elapsed": 846,
     "status": "ok",
     "timestamp": 1650327563951,
     "user": {
      "displayName": "Yixi Liang",
      "userId": "08617022926448896029"
     },
     "user_tz": 240
    },
    "id": "b8c49afd",
    "outputId": "ada55462-cefe-4fdb-efc9-6d037619eef9",
    "scrolled": true
   },
   "outputs": [],
   "source": [
    "abspath_curr = 'C:/Users/REX/Desktop/6202 Machine Learning/Final Project'\n",
    "\n",
    "# Get the absolute path of the deep utilities folder\n",
    "abspath_util_deep = 'C:/Users/REX/Desktop/teaching-master/gwu/machine_learning_I/spring_2022/code/utilities/p3_deep_learning'"
   ]
  },
  {
   "cell_type": "markdown",
   "id": "92ebf345",
   "metadata": {},
   "source": [
    "## Warning"
   ]
  },
  {
   "cell_type": "code",
   "execution_count": 2,
   "id": "6bd0b77e",
   "metadata": {},
   "outputs": [],
   "source": [
    "import warnings\n",
    "\n",
    "# Ignore warnings\n",
    "warnings.filterwarnings('ignore')"
   ]
  },
  {
   "cell_type": "markdown",
   "id": "6b4a2ae4",
   "metadata": {
    "id": "6b4a2ae4"
   },
   "source": [
    "## Matplotlib"
   ]
  },
  {
   "cell_type": "code",
   "execution_count": 3,
   "id": "f1dbba6e",
   "metadata": {},
   "outputs": [],
   "source": [
    "import matplotlib.pyplot as plt\n",
    "%matplotlib inline \n",
    "\n",
    "# Set matplotlib sizes\n",
    "plt.rc('font', size=20)\n",
    "plt.rc('axes', titlesize=20)\n",
    "plt.rc('axes', labelsize=20)\n",
    "plt.rc('xtick', labelsize=20)\n",
    "plt.rc('ytick', labelsize=20)\n",
    "plt.rc('legend', fontsize=20)\n",
    "plt.rc('figure', titlesize=20)"
   ]
  },
  {
   "cell_type": "code",
   "execution_count": 4,
   "id": "b36d38e2",
   "metadata": {
    "executionInfo": {
     "elapsed": 121,
     "status": "ok",
     "timestamp": 1650327566766,
     "user": {
      "displayName": "Yixi Liang",
      "userId": "08617022926448896029"
     },
     "user_tz": 240
    },
    "id": "b36d38e2"
   },
   "outputs": [],
   "source": [
    "# %tensorflow_version 2.x \n",
    "import pandas as pd \n",
    "import os \n",
    "import tensorflow as tf \n",
    "from tensorflow import keras\n",
    "import matplotlib.pyplot as plt \n",
    "from tensorflow.keras.preprocessing.image import ImageDataGenerator"
   ]
  },
  {
   "cell_type": "markdown",
   "id": "61e05ea1",
   "metadata": {
    "id": "61e05ea1"
   },
   "source": [
    "## Random seed"
   ]
  },
  {
   "cell_type": "code",
   "execution_count": 5,
   "id": "28b3cad0",
   "metadata": {
    "executionInfo": {
     "elapsed": 127,
     "status": "ok",
     "timestamp": 1650327568487,
     "user": {
      "displayName": "Yixi Liang",
      "userId": "08617022926448896029"
     },
     "user_tz": 240
    },
    "id": "28b3cad0"
   },
   "outputs": [],
   "source": [
    "# The random seed\n",
    "random_seed = 42\n",
    "\n",
    "# Set random seed in tensorflow\n",
    "tf.random.set_seed(random_seed)\n",
    "\n",
    "# Set random seed in numpy\n",
    "import numpy as np\n",
    "np.random.seed(random_seed)"
   ]
  },
  {
   "cell_type": "code",
   "execution_count": 6,
   "id": "0xu9P79FL-YE",
   "metadata": {
    "colab": {
     "base_uri": "https://localhost:8080/"
    },
    "executionInfo": {
     "elapsed": 1306,
     "status": "ok",
     "timestamp": 1650327571070,
     "user": {
      "displayName": "Yixi Liang",
      "userId": "08617022926448896029"
     },
     "user_tz": 240
    },
    "id": "0xu9P79FL-YE",
    "outputId": "73e4a128-9998-47f7-f3fe-d08f21a8b91e"
   },
   "outputs": [
    {
     "name": "stdout",
     "output_type": "stream",
     "text": [
      "C:\\Users\\REX\\Desktop\\teaching-master\\gwu\\machine_learning_I\\spring_2022\\code\\utilities\\p3_deep_learning\n"
     ]
    }
   ],
   "source": [
    "# Change working directory to the absolute path of the deep utilities folder\n",
    "%cd $abspath_util_deep\n",
    "\n",
    "# Import the deep utitilities\n",
    "%run pmlm_utilities_deep.ipynb"
   ]
  },
  {
   "cell_type": "markdown",
   "id": "919fb813",
   "metadata": {
    "id": "919fb813"
   },
   "source": [
    "## Loading the data"
   ]
  },
  {
   "cell_type": "markdown",
   "id": "a3c339c0",
   "metadata": {
    "id": "a3c339c0"
   },
   "source": [
    "In this case study, we will work on the [Plant Seedlings Classification](https://www.kaggle.com/competitions/plant-seedlings-classification/overview)."
   ]
  },
  {
   "cell_type": "markdown",
   "id": "b7c83ba5",
   "metadata": {
    "id": "b7c83ba5"
   },
   "source": [
    "### Creating the directory for the data"
   ]
  },
  {
   "cell_type": "code",
   "execution_count": 7,
   "id": "5b696936",
   "metadata": {
    "executionInfo": {
     "elapsed": 159,
     "status": "ok",
     "timestamp": 1650327574231,
     "user": {
      "displayName": "Yixi Liang",
      "userId": "08617022926448896029"
     },
     "user_tz": 240
    },
    "id": "5b696936"
   },
   "outputs": [],
   "source": [
    "train_path = abspath_curr + '/train/'\n",
    "test_path = abspath_curr "
   ]
  },
  {
   "cell_type": "code",
   "execution_count": 8,
   "id": "a2318f4d",
   "metadata": {
    "colab": {
     "base_uri": "https://localhost:8080/"
    },
    "executionInfo": {
     "elapsed": 243,
     "status": "ok",
     "timestamp": 1650327576009,
     "user": {
      "displayName": "Yixi Liang",
      "userId": "08617022926448896029"
     },
     "user_tz": 240
    },
    "id": "a2318f4d",
    "outputId": "69e40def-42a5-4949-b9b2-fea19e9a7f70"
   },
   "outputs": [
    {
     "name": "stdout",
     "output_type": "stream",
     "text": [
      "There are 4 directories and 10 images in 'C:/Users/REX/Desktop/6202 Machine Learning/Final Project'.\n",
      "There are 0 directories and 6 images in 'C:/Users/REX/Desktop/6202 Machine Learning/Final Project\\.ipynb_checkpoints'.\n",
      "There are 4 directories and 0 images in 'C:/Users/REX/Desktop/6202 Machine Learning/Final Project\\result'.\n",
      "There are 0 directories and 5 images in 'C:/Users/REX/Desktop/6202 Machine Learning/Final Project\\result\\figure'.\n",
      "There are 0 directories and 1 images in 'C:/Users/REX/Desktop/6202 Machine Learning/Final Project\\result\\model'.\n",
      "There are 0 directories and 1 images in 'C:/Users/REX/Desktop/6202 Machine Learning/Final Project\\result\\model2'.\n",
      "There are 0 directories and 1 images in 'C:/Users/REX/Desktop/6202 Machine Learning/Final Project\\result\\model3'.\n",
      "There are 0 directories and 794 images in 'C:/Users/REX/Desktop/6202 Machine Learning/Final Project\\test'.\n",
      "There are 12 directories and 0 images in 'C:/Users/REX/Desktop/6202 Machine Learning/Final Project\\train'.\n",
      "There are 0 directories and 263 images in 'C:/Users/REX/Desktop/6202 Machine Learning/Final Project\\train\\Black-grass'.\n",
      "There are 0 directories and 390 images in 'C:/Users/REX/Desktop/6202 Machine Learning/Final Project\\train\\Charlock'.\n",
      "There are 0 directories and 287 images in 'C:/Users/REX/Desktop/6202 Machine Learning/Final Project\\train\\Cleavers'.\n",
      "There are 0 directories and 611 images in 'C:/Users/REX/Desktop/6202 Machine Learning/Final Project\\train\\Common Chickweed'.\n",
      "There are 0 directories and 221 images in 'C:/Users/REX/Desktop/6202 Machine Learning/Final Project\\train\\Common wheat'.\n",
      "There are 0 directories and 475 images in 'C:/Users/REX/Desktop/6202 Machine Learning/Final Project\\train\\Fat Hen'.\n",
      "There are 0 directories and 654 images in 'C:/Users/REX/Desktop/6202 Machine Learning/Final Project\\train\\Loose Silky-bent'.\n",
      "There are 0 directories and 221 images in 'C:/Users/REX/Desktop/6202 Machine Learning/Final Project\\train\\Maize'.\n",
      "There are 0 directories and 516 images in 'C:/Users/REX/Desktop/6202 Machine Learning/Final Project\\train\\Scentless Mayweed'.\n",
      "There are 0 directories and 231 images in 'C:/Users/REX/Desktop/6202 Machine Learning/Final Project\\train\\Shepherds Purse'.\n",
      "There are 0 directories and 496 images in 'C:/Users/REX/Desktop/6202 Machine Learning/Final Project\\train\\Small-flowered Cranesbill'.\n",
      "There are 0 directories and 385 images in 'C:/Users/REX/Desktop/6202 Machine Learning/Final Project\\train\\Sugar beet'.\n"
     ]
    }
   ],
   "source": [
    "for dirpath, dirnames, filenames in os.walk(abspath_curr): \n",
    "     print(f\"There are {len(dirnames)} directories and {len(filenames)} images in '{dirpath}'.\")"
   ]
  },
  {
   "cell_type": "markdown",
   "id": "c94e54eb",
   "metadata": {
    "id": "c94e54eb"
   },
   "source": [
    "## Load data  "
   ]
  },
  {
   "cell_type": "code",
   "execution_count": 9,
   "id": "9d359cd8",
   "metadata": {
    "colab": {
     "base_uri": "https://localhost:8080/"
    },
    "executionInfo": {
     "elapsed": 402,
     "status": "ok",
     "timestamp": 1650327577983,
     "user": {
      "displayName": "Yixi Liang",
      "userId": "08617022926448896029"
     },
     "user_tz": 240
    },
    "id": "9d359cd8",
    "outputId": "6236209b-250f-4bf3-cf22-20d99fb8ddf5"
   },
   "outputs": [
    {
     "name": "stdout",
     "output_type": "stream",
     "text": [
      "Found 4750 files belonging to 12 classes.\n",
      "Using 3800 files for training.\n"
     ]
    }
   ],
   "source": [
    "data_train = tf.keras.preprocessing.image_dataset_from_directory(directory=train_path,\n",
    "                                                                 label_mode=\"categorical\", \n",
    "                                                                 shuffle=True,\n",
    "                                                                 image_size=(224,224),\n",
    "                                                                batch_size = 16, \n",
    "                                                                 seed=42,\n",
    "                                                                validation_split=0.2,\n",
    "                                                                   subset=\"training\")"
   ]
  },
  {
   "cell_type": "code",
   "execution_count": 10,
   "id": "3dd01da4",
   "metadata": {
    "colab": {
     "base_uri": "https://localhost:8080/"
    },
    "executionInfo": {
     "elapsed": 382,
     "status": "ok",
     "timestamp": 1650327579554,
     "user": {
      "displayName": "Yixi Liang",
      "userId": "08617022926448896029"
     },
     "user_tz": 240
    },
    "id": "3dd01da4",
    "outputId": "e4065ba1-416e-4d3f-b4b4-eac270e46e74"
   },
   "outputs": [
    {
     "name": "stdout",
     "output_type": "stream",
     "text": [
      "Found 4750 files belonging to 12 classes.\n",
      "Using 950 files for validation.\n"
     ]
    }
   ],
   "source": [
    "data_valid = tf.keras.preprocessing.image_dataset_from_directory(directory=train_path,\n",
    "                                                                 label_mode=\"categorical\", \n",
    "                                                                 shuffle=False,\n",
    "                                                                 image_size=(224,224),\n",
    "                                                                batch_size = 16,\n",
    "                                                                 seed=42,\n",
    "                                                                validation_split=0.2,\n",
    "                                                                   subset=\"validation\")"
   ]
  },
  {
   "cell_type": "code",
   "execution_count": 11,
   "id": "f38108a2",
   "metadata": {},
   "outputs": [
    {
     "name": "stdout",
     "output_type": "stream",
     "text": [
      "Found 794 images belonging to 1 classes.\n"
     ]
    }
   ],
   "source": [
    "datagen = ImageDataGenerator()\n",
    "data_test = datagen.flow_from_directory(test_path ,shuffle =False,batch_size=100,\n",
    "                              target_size = (224,224),classes = ['test'])"
   ]
  },
  {
   "cell_type": "code",
   "execution_count": 12,
   "id": "ad70e528",
   "metadata": {
    "executionInfo": {
     "elapsed": 106,
     "status": "ok",
     "timestamp": 1650327581347,
     "user": {
      "displayName": "Yixi Liang",
      "userId": "08617022926448896029"
     },
     "user_tz": 240
    },
    "id": "ad70e528"
   },
   "outputs": [],
   "source": [
    "class_names = data_train.class_names\n",
    "n_classes = len(class_names)"
   ]
  },
  {
   "cell_type": "markdown",
   "id": "34a50565",
   "metadata": {
    "id": "34a50565"
   },
   "source": [
    "# Training VGG16"
   ]
  },
  {
   "cell_type": "code",
   "execution_count": 13,
   "id": "MSRHbD-BLVp0",
   "metadata": {
    "executionInfo": {
     "elapsed": 111,
     "status": "ok",
     "timestamp": 1650327582380,
     "user": {
      "displayName": "Yixi Liang",
      "userId": "08617022926448896029"
     },
     "user_tz": 240
    },
    "id": "MSRHbD-BLVp0"
   },
   "outputs": [],
   "source": [
    "# Make directory\n",
    "directory = os.path.dirname(abspath_curr + '/result/model3/')\n",
    "if not os.path.exists(directory):\n",
    "    os.makedirs(directory)"
   ]
  },
  {
   "cell_type": "markdown",
   "id": "71e4e370",
   "metadata": {
    "id": "71e4e370"
   },
   "source": [
    "## Building the architecture of the model"
   ]
  },
  {
   "cell_type": "code",
   "execution_count": 16,
   "id": "f5263a6b",
   "metadata": {
    "colab": {
     "base_uri": "https://localhost:8080/"
    },
    "executionInfo": {
     "elapsed": 7109,
     "status": "ok",
     "timestamp": 1650327590975,
     "user": {
      "displayName": "Yixi Liang",
      "userId": "08617022926448896029"
     },
     "user_tz": 240
    },
    "id": "f5263a6b",
    "outputId": "8aca7588-b531-410b-d292-0c0387cea2a3",
    "scrolled": true
   },
   "outputs": [
    {
     "name": "stdout",
     "output_type": "stream",
     "text": [
      "Model: \"model_1\"\n",
      "_________________________________________________________________\n",
      " Layer (type)                Output Shape              Param #   \n",
      "=================================================================\n",
      " input_2 (InputLayer)        [(None, None, None, 3)]   0         \n",
      "                                                                 \n",
      " block1_conv1 (Conv2D)       (None, None, None, 64)    1792      \n",
      "                                                                 \n",
      " block1_conv2 (Conv2D)       (None, None, None, 64)    36928     \n",
      "                                                                 \n",
      " block1_pool (MaxPooling2D)  (None, None, None, 64)    0         \n",
      "                                                                 \n",
      " block2_conv1 (Conv2D)       (None, None, None, 128)   73856     \n",
      "                                                                 \n",
      " block2_conv2 (Conv2D)       (None, None, None, 128)   147584    \n",
      "                                                                 \n",
      " block2_pool (MaxPooling2D)  (None, None, None, 128)   0         \n",
      "                                                                 \n",
      " block3_conv1 (Conv2D)       (None, None, None, 256)   295168    \n",
      "                                                                 \n",
      " block3_conv2 (Conv2D)       (None, None, None, 256)   590080    \n",
      "                                                                 \n",
      " block3_conv3 (Conv2D)       (None, None, None, 256)   590080    \n",
      "                                                                 \n",
      " block3_pool (MaxPooling2D)  (None, None, None, 256)   0         \n",
      "                                                                 \n",
      " block4_conv1 (Conv2D)       (None, None, None, 512)   1180160   \n",
      "                                                                 \n",
      " block4_conv2 (Conv2D)       (None, None, None, 512)   2359808   \n",
      "                                                                 \n",
      " block4_conv3 (Conv2D)       (None, None, None, 512)   2359808   \n",
      "                                                                 \n",
      " block4_pool (MaxPooling2D)  (None, None, None, 512)   0         \n",
      "                                                                 \n",
      " block5_conv1 (Conv2D)       (None, None, None, 512)   2359808   \n",
      "                                                                 \n",
      " block5_conv2 (Conv2D)       (None, None, None, 512)   2359808   \n",
      "                                                                 \n",
      " block5_conv3 (Conv2D)       (None, None, None, 512)   2359808   \n",
      "                                                                 \n",
      " block5_pool (MaxPooling2D)  (None, None, None, 512)   0         \n",
      "                                                                 \n",
      " global_average_pooling2d_1   (None, 512)              0         \n",
      " (GlobalAveragePooling2D)                                        \n",
      "                                                                 \n",
      " dense_1 (Dense)             (None, 12)                6156      \n",
      "                                                                 \n",
      "=================================================================\n",
      "Total params: 14,720,844\n",
      "Trainable params: 14,720,844\n",
      "Non-trainable params: 0\n",
      "_________________________________________________________________\n"
     ]
    }
   ],
   "source": [
    "# Add the pretrained layers\n",
    "pretrained_model = keras.applications.VGG16(include_top=False, weights='imagenet')\n",
    "\n",
    "# Add GlobalAveragePooling2D layer\n",
    "average_pooling = keras.layers.GlobalAveragePooling2D()(pretrained_model.output)\n",
    "\n",
    "# Add the output layer\n",
    "output = keras.layers.Dense(n_classes, activation='softmax')(average_pooling)\n",
    "\n",
    "# Get the model\n",
    "model = keras.Model(inputs=pretrained_model.input, outputs=output)\n",
    "\n",
    "model.summary()"
   ]
  },
  {
   "cell_type": "code",
   "execution_count": 17,
   "id": "SxYeZqSTKlDO",
   "metadata": {
    "executionInfo": {
     "elapsed": 122,
     "status": "ok",
     "timestamp": 1650327598207,
     "user": {
      "displayName": "Yixi Liang",
      "userId": "08617022926448896029"
     },
     "user_tz": 240
    },
    "id": "SxYeZqSTKlDO"
   },
   "outputs": [],
   "source": [
    "# For each layer in the pretrained model\n",
    "for layer in pretrained_model.layers:\n",
    "    # Freeze the layer\n",
    "    layer.trainable = False"
   ]
  },
  {
   "cell_type": "code",
   "execution_count": 18,
   "id": "pWHL0qcpKlTE",
   "metadata": {
    "executionInfo": {
     "elapsed": 2,
     "status": "ok",
     "timestamp": 1650328297469,
     "user": {
      "displayName": "Yixi Liang",
      "userId": "08617022926448896029"
     },
     "user_tz": 240
    },
    "id": "pWHL0qcpKlTE"
   },
   "outputs": [],
   "source": [
    "# ModelCheckpoint callback\n",
    "model_checkpoint_cb = keras.callbacks.ModelCheckpoint(filepath=abspath_curr + '/result/model3/model.h5',\n",
    "                                                      save_best_only=True,\n",
    "                                                      save_weights_only=True)\n",
    "\n",
    "# EarlyStopping callback\n",
    "early_stopping_cb = keras.callbacks.EarlyStopping(patience=2,\n",
    "                                                  restore_best_weights=True)\n",
    "\n",
    "# ReduceLROnPlateau callback\n",
    "reduce_lr_on_plateau_cb = keras.callbacks.ReduceLROnPlateau(factor=0.1,\n",
    "                                                            patience=1)"
   ]
  },
  {
   "cell_type": "code",
   "execution_count": 19,
   "id": "5RUjJDUJKlWM",
   "metadata": {
    "executionInfo": {
     "elapsed": 117,
     "status": "ok",
     "timestamp": 1650327602852,
     "user": {
      "displayName": "Yixi Liang",
      "userId": "08617022926448896029"
     },
     "user_tz": 240
    },
    "id": "5RUjJDUJKlWM"
   },
   "outputs": [],
   "source": [
    "# Compile the model\n",
    "model.compile(loss='categorical_crossentropy',\n",
    "             optimizer = tf.keras.optimizers.SGD(learning_rate=0.01), \n",
    "             metrics=['accuracy']) "
   ]
  },
  {
   "cell_type": "code",
   "execution_count": 20,
   "id": "DaZHfyOGKqos",
   "metadata": {
    "colab": {
     "base_uri": "https://localhost:8080/",
     "height": 1000
    },
    "executionInfo": {
     "elapsed": 3011,
     "status": "error",
     "timestamp": 1650328326337,
     "user": {
      "displayName": "Yixi Liang",
      "userId": "08617022926448896029"
     },
     "user_tz": 240
    },
    "id": "DaZHfyOGKqos",
    "outputId": "95e7e128-27c0-40db-9e6c-660c87ea4b76"
   },
   "outputs": [
    {
     "name": "stdout",
     "output_type": "stream",
     "text": [
      "Epoch 1/5\n",
      "238/238 [==============================] - 31s 112ms/step - loss: 1.6129 - accuracy: 0.5234 - val_loss: 1.2159 - val_accuracy: 0.5800 - lr: 0.0100\n",
      "Epoch 2/5\n",
      "238/238 [==============================] - 24s 100ms/step - loss: 0.7761 - accuracy: 0.7363 - val_loss: 0.4929 - val_accuracy: 0.8484 - lr: 0.0100\n",
      "Epoch 3/5\n",
      "238/238 [==============================] - 24s 99ms/step - loss: 0.6244 - accuracy: 0.7955 - val_loss: 0.8338 - val_accuracy: 0.7568 - lr: 0.0100\n",
      "Epoch 4/5\n",
      "238/238 [==============================] - 24s 101ms/step - loss: 0.4730 - accuracy: 0.8503 - val_loss: 0.3885 - val_accuracy: 0.8926 - lr: 1.0000e-03\n",
      "Epoch 5/5\n",
      "238/238 [==============================] - 24s 100ms/step - loss: 0.4490 - accuracy: 0.8579 - val_loss: 0.3887 - val_accuracy: 0.8895 - lr: 1.0000e-03\n"
     ]
    }
   ],
   "source": [
    "# Train, evaluate and save the best model\n",
    "history = model.fit(data_train,\n",
    "                    epochs=5,\n",
    "                    validation_data=data_valid,\n",
    "                    callbacks=[model_checkpoint_cb,\n",
    "                               early_stopping_cb,\n",
    "                               reduce_lr_on_plateau_cb])"
   ]
  },
  {
   "cell_type": "code",
   "execution_count": 21,
   "id": "0kBZQonWqR9r",
   "metadata": {
    "colab": {
     "base_uri": "https://localhost:8080/",
     "height": 332
    },
    "executionInfo": {
     "elapsed": 133,
     "status": "error",
     "timestamp": 1650327118867,
     "user": {
      "displayName": "Yixi Liang",
      "userId": "08617022926448896029"
     },
     "user_tz": 240
    },
    "id": "0kBZQonWqR9r",
    "outputId": "71ac6836-244b-44bb-b0e9-fa099382d706"
   },
   "outputs": [
    {
     "name": "stdout",
     "output_type": "stream",
     "text": [
      "60/60 [==============================] - 5s 79ms/step - loss: 0.3887 - accuracy: 0.8895\n"
     ]
    },
    {
     "data": {
      "text/plain": [
       "[0.3887452185153961, 0.8894736766815186]"
      ]
     },
     "execution_count": 21,
     "metadata": {},
     "output_type": "execute_result"
    }
   ],
   "source": [
    "#Evaluate on full data\n",
    "model.evaluate(data_valid)"
   ]
  },
  {
   "cell_type": "code",
   "execution_count": 22,
   "id": "a4c0e89f",
   "metadata": {
    "executionInfo": {
     "elapsed": 3,
     "status": "ok",
     "timestamp": 1650319045059,
     "user": {
      "displayName": "黄河",
      "userId": "11207666093797166698"
     },
     "user_tz": 240
    },
    "id": "crm5bRITgT8Y"
   },
   "outputs": [],
   "source": [
    "# Make directory\n",
    "directory = os.path.dirname(abspath_curr + '/result/figure/')\n",
    "if not os.path.exists(directory):\n",
    "    os.makedirs(directory)"
   ]
  },
  {
   "cell_type": "code",
   "execution_count": 23,
   "id": "025cd36e",
   "metadata": {
    "colab": {
     "base_uri": "https://localhost:8080/",
     "height": 348
    },
    "executionInfo": {
     "elapsed": 1018,
     "status": "ok",
     "timestamp": 1650319046075,
     "user": {
      "displayName": "黄河",
      "userId": "11207666093797166698"
     },
     "user_tz": 240
    },
    "id": "ZucB_4TQ4APW",
    "outputId": "a2ab0b6c-5390-4bf3-92cb-7c4faafa2175"
   },
   "outputs": [
    {
     "data": {
      "image/png": "[encoded data removed]",
      "text/plain": [
       "<Figure size 576x360 with 1 Axes>"
      ]
     },
     "metadata": {
      "needs_background": "light"
     },
     "output_type": "display_data"
    }
   ],
   "source": [
    "import pandas as pd\n",
    "\n",
    "# Create a figure\n",
    "pd.DataFrame(history.history).plot(figsize=(8, 5))\n",
    "\n",
    "# Set grid\n",
    "plt.grid(True)\n",
    "\n",
    "# Save and show the figure\n",
    "plt.tight_layout()\n",
    "plt.savefig(abspath_curr + '/result/figure/learning_curve_before_unfreezing-model3.pdf')\n",
    "plt.show()"
   ]
  },
  {
   "cell_type": "markdown",
   "id": "9d726dcd",
   "metadata": {
    "id": "Ey_jrLDl0bn4"
   },
   "source": [
    "## Unfreezing the pretrained layers"
   ]
  },
  {
   "cell_type": "code",
   "execution_count": 24,
   "id": "eGFfhv12s6nz",
   "metadata": {
    "colab": {
     "base_uri": "https://localhost:8080/"
    },
    "executionInfo": {
     "elapsed": 270,
     "status": "ok",
     "timestamp": 1650319406063,
     "user": {
      "displayName": "Yixi Liang",
      "userId": "08617022926448896029"
     },
     "user_tz": 240
    },
    "id": "eGFfhv12s6nz",
    "outputId": "8cc1cd6c-6b10-4861-b965-33db232f00e6"
   },
   "outputs": [
    {
     "name": "stdout",
     "output_type": "stream",
     "text": [
      "Found 4750 files belonging to 12 classes.\n"
     ]
    }
   ],
   "source": [
    "train_data = tf.keras.preprocessing.image_dataset_from_directory(directory=train_path,\n",
    "                                                                 label_mode=\"categorical\", \n",
    "                                                                 shuffle=True,\n",
    "                                                                 image_size=(224,224),\n",
    "                                                                batch_size = 32)"
   ]
  },
  {
   "cell_type": "code",
   "execution_count": 25,
   "id": "e064e538",
   "metadata": {
    "id": "ZFgtwWQ50aky"
   },
   "outputs": [],
   "source": [
    "# For each layer in the pretrained model\n",
    "for layer in pretrained_model.layers:\n",
    "    # Unfreeze the layer\n",
    "    layer.trainable = True"
   ]
  },
  {
   "cell_type": "markdown",
   "id": "8cc167c9",
   "metadata": {
    "id": "kaNpWBGD2em3"
   },
   "source": [
    "## Compiling the model\n",
    "Here we use a lower learning rate (by a factor of 10) of Adam optimizer, so that it is less likely to compromise the pretrained weights."
   ]
  },
  {
   "cell_type": "code",
   "execution_count": 26,
   "id": "b5eb706d",
   "metadata": {
    "id": "dPiXJrdW21o5"
   },
   "outputs": [],
   "source": [
    "# Compile the model\n",
    "model.compile(optimizer=keras.optimizers.SGD(learning_rate=0.001),\n",
    "              loss='categorical_crossentropy',\n",
    "              metrics=['accuracy'])"
   ]
  },
  {
   "cell_type": "markdown",
   "id": "f246081d",
   "metadata": {
    "id": "4jF7fb1_3ypR"
   },
   "source": [
    "## Training the model"
   ]
  },
  {
   "cell_type": "code",
   "execution_count": 27,
   "id": "11d17eed",
   "metadata": {
    "colab": {
     "base_uri": "https://localhost:8080/"
    },
    "executionInfo": {
     "elapsed": 11679694,
     "status": "ok",
     "timestamp": 1649564174502,
     "user": {
      "displayName": "黄河",
      "userId": "11207666093797166698"
     },
     "user_tz": 240
    },
    "id": "RV6dVNO532HU",
    "outputId": "e955634d-bef0-4089-9350-d6af4e5315ac"
   },
   "outputs": [
    {
     "name": "stdout",
     "output_type": "stream",
     "text": [
      "Epoch 1/1000\n",
      "238/238 [==============================] - 62s 243ms/step - loss: 0.6613 - accuracy: 0.7874 - val_loss: 0.3304 - val_accuracy: 0.8937 - lr: 0.0010\n",
      "Epoch 2/1000\n",
      "238/238 [==============================] - 57s 239ms/step - loss: 0.2277 - accuracy: 0.9237 - val_loss: 0.1124 - val_accuracy: 0.9621 - lr: 0.0010\n",
      "Epoch 3/1000\n",
      "238/238 [==============================] - 56s 236ms/step - loss: 0.1037 - accuracy: 0.9639 - val_loss: 0.0970 - val_accuracy: 0.9737 - lr: 0.0010\n",
      "Epoch 4/1000\n",
      "238/238 [==============================] - 56s 236ms/step - loss: 0.0612 - accuracy: 0.9829 - val_loss: 0.0498 - val_accuracy: 0.9884 - lr: 0.0010\n",
      "Epoch 5/1000\n",
      "238/238 [==============================] - 58s 242ms/step - loss: 0.0295 - accuracy: 0.9921 - val_loss: 0.0290 - val_accuracy: 0.9947 - lr: 0.0010\n",
      "Epoch 6/1000\n",
      "238/238 [==============================] - 57s 241ms/step - loss: 0.0651 - accuracy: 0.9853 - val_loss: 0.0247 - val_accuracy: 0.9937 - lr: 0.0010\n",
      "Epoch 7/1000\n",
      "238/238 [==============================] - 57s 240ms/step - loss: 0.0107 - accuracy: 0.9984 - val_loss: 0.0150 - val_accuracy: 0.9947 - lr: 0.0010\n",
      "Epoch 8/1000\n",
      "238/238 [==============================] - 58s 241ms/step - loss: 0.0046 - accuracy: 0.9992 - val_loss: 0.0135 - val_accuracy: 0.9958 - lr: 0.0010\n",
      "Epoch 9/1000\n",
      "238/238 [==============================] - 57s 241ms/step - loss: 0.0020 - accuracy: 1.0000 - val_loss: 0.0134 - val_accuracy: 0.9968 - lr: 0.0010\n",
      "Epoch 10/1000\n",
      "238/238 [==============================] - 57s 241ms/step - loss: 0.0015 - accuracy: 1.0000 - val_loss: 0.0135 - val_accuracy: 0.9968 - lr: 1.0000e-04\n",
      "Epoch 11/1000\n",
      "238/238 [==============================] - 58s 243ms/step - loss: 0.0014 - accuracy: 1.0000 - val_loss: 0.0135 - val_accuracy: 0.9968 - lr: 1.0000e-05\n"
     ]
    }
   ],
   "source": [
    "# Train, evaluate and save the best model\n",
    "history = model.fit(data_train,\n",
    "                    epochs=1000,\n",
    "                    validation_data=data_valid,\n",
    "                    callbacks=[model_checkpoint_cb,\n",
    "                               early_stopping_cb,\n",
    "                               reduce_lr_on_plateau_cb])"
   ]
  },
  {
   "cell_type": "markdown",
   "id": "369af1b9",
   "metadata": {
    "id": "jooIV3Tr38rw"
   },
   "source": [
    "## Plotting the learning curve"
   ]
  },
  {
   "cell_type": "code",
   "execution_count": 28,
   "id": "b476e3e1",
   "metadata": {
    "colab": {
     "base_uri": "https://localhost:8080/",
     "height": 348
    },
    "executionInfo": {
     "elapsed": 31083,
     "status": "ok",
     "timestamp": 1649568368516,
     "user": {
      "displayName": "黄河",
      "userId": "11207666093797166698"
     },
     "user_tz": 240
    },
    "id": "ZdftIsbI3_nV",
    "outputId": "1f084780-9af2-4e42-e57e-981bf0f47271"
   },
   "outputs": [
    {
     "data": {
      "image/png": "[encoded data removed]",
      "text/plain": [
       "<Figure size 576x360 with 1 Axes>"
      ]
     },
     "metadata": {
      "needs_background": "light"
     },
     "output_type": "display_data"
    }
   ],
   "source": [
    "# Create a figure\n",
    "pd.DataFrame(history.history).plot(figsize=(8, 5))\n",
    "\n",
    "# Set grid\n",
    "plt.grid(True)\n",
    "\n",
    "# Save and show the figure\n",
    "plt.tight_layout()\n",
    "plt.savefig(abspath_curr + '/result/figure/learning_curve_after_unfreezing_model3.pdf')\n",
    "plt.show()"
   ]
  },
  {
   "cell_type": "markdown",
   "id": "70337424",
   "metadata": {},
   "source": [
    "# Testing"
   ]
  },
  {
   "cell_type": "markdown",
   "id": "69f9b00f",
   "metadata": {},
   "source": [
    "## Loading the saved model"
   ]
  },
  {
   "cell_type": "code",
   "execution_count": 29,
   "id": "f62da55d",
   "metadata": {},
   "outputs": [],
   "source": [
    "# Load the saved model\n",
    "model.load_weights(filepath=abspath_curr + '/result/model3/model.h5')"
   ]
  },
  {
   "cell_type": "code",
   "execution_count": 30,
   "id": "_0C-_7LcuB5T",
   "metadata": {
    "colab": {
     "base_uri": "https://localhost:8080/"
    },
    "executionInfo": {
     "elapsed": 298,
     "status": "ok",
     "timestamp": 1650320794741,
     "user": {
      "displayName": "Yixi Liang",
      "userId": "08617022926448896029"
     },
     "user_tz": 240
    },
    "id": "_0C-_7LcuB5T",
    "outputId": "3f2d938a-da3c-44d9-dd77-c0892d383590"
   },
   "outputs": [
    {
     "name": "stdout",
     "output_type": "stream",
     "text": [
      "Found 794 images belonging to 1 classes.\n"
     ]
    }
   ],
   "source": [
    "#Prepare the Test data using Tensorflow Image Generator\n",
    "\n",
    "datagen = ImageDataGenerator()\n",
    "gen = datagen.flow_from_directory(test_path ,shuffle =False,batch_size=100,\n",
    "                              target_size = (224,224),classes = ['test'])"
   ]
  },
  {
   "cell_type": "code",
   "execution_count": 31,
   "id": "OXeIQ4M7uEEL",
   "metadata": {
    "colab": {
     "base_uri": "https://localhost:8080/"
    },
    "executionInfo": {
     "elapsed": 24351,
     "status": "ok",
     "timestamp": 1650320826854,
     "user": {
      "displayName": "Yixi Liang",
      "userId": "08617022926448896029"
     },
     "user_tz": 240
    },
    "id": "OXeIQ4M7uEEL",
    "outputId": "61604ea4-e75d-46dd-f5d9-6a77fff113e7"
   },
   "outputs": [
    {
     "data": {
      "text/plain": [
       "(794, 12)"
      ]
     },
     "execution_count": 31,
     "metadata": {},
     "output_type": "execute_result"
    }
   ],
   "source": [
    "prediction = model.predict(gen)\n",
    "prediction.shape"
   ]
  },
  {
   "cell_type": "code",
   "execution_count": 32,
   "id": "eNFUxJAEuFsF",
   "metadata": {
    "colab": {
     "base_uri": "https://localhost:8080/",
     "height": 35
    },
    "executionInfo": {
     "elapsed": 400,
     "status": "ok",
     "timestamp": 1650320846820,
     "user": {
      "displayName": "Yixi Liang",
      "userId": "08617022926448896029"
     },
     "user_tz": 240
    },
    "id": "eNFUxJAEuFsF",
    "outputId": "019f4f2e-0521-4ea0-b24e-b28ff29fd4d7"
   },
   "outputs": [
    {
     "data": {
      "text/plain": [
       "'Sugar beet'"
      ]
     },
     "execution_count": 32,
     "metadata": {},
     "output_type": "execute_result"
    }
   ],
   "source": [
    "class_names[tf.argmax(prediction[2])]"
   ]
  },
  {
   "cell_type": "code",
   "execution_count": 33,
   "id": "KCDgJe8kuHbW",
   "metadata": {
    "colab": {
     "base_uri": "https://localhost:8080/",
     "height": 206
    },
    "executionInfo": {
     "elapsed": 1003,
     "status": "ok",
     "timestamp": 1650320926714,
     "user": {
      "displayName": "Yixi Liang",
      "userId": "08617022926448896029"
     },
     "user_tz": 240
    },
    "id": "KCDgJe8kuHbW",
    "outputId": "f3ced969-5bc3-4703-9240-edc47e21cf04"
   },
   "outputs": [
    {
     "data": {
      "text/html": [
       "<div>\n",
       "<style scoped>\n",
       "    .dataframe tbody tr th:only-of-type {\n",
       "        vertical-align: middle;\n",
       "    }\n",
       "\n",
       "    .dataframe tbody tr th {\n",
       "        vertical-align: top;\n",
       "    }\n",
       "\n",
       "    .dataframe thead th {\n",
       "        text-align: right;\n",
       "    }\n",
       "</style>\n",
       "<table border=\"1\" class=\"dataframe\">\n",
       "  <thead>\n",
       "    <tr style=\"text-align: right;\">\n",
       "      <th></th>\n",
       "      <th>file</th>\n",
       "      <th>species</th>\n",
       "    </tr>\n",
       "  </thead>\n",
       "  <tbody>\n",
       "    <tr>\n",
       "      <th>0</th>\n",
       "      <td>0021e90e4.png</td>\n",
       "      <td>Sugar beet</td>\n",
       "    </tr>\n",
       "    <tr>\n",
       "      <th>1</th>\n",
       "      <td>003d61042.png</td>\n",
       "      <td>Sugar beet</td>\n",
       "    </tr>\n",
       "    <tr>\n",
       "      <th>2</th>\n",
       "      <td>007b3da8b.png</td>\n",
       "      <td>Sugar beet</td>\n",
       "    </tr>\n",
       "    <tr>\n",
       "      <th>3</th>\n",
       "      <td>0086a6340.png</td>\n",
       "      <td>Sugar beet</td>\n",
       "    </tr>\n",
       "    <tr>\n",
       "      <th>4</th>\n",
       "      <td>00c47e980.png</td>\n",
       "      <td>Sugar beet</td>\n",
       "    </tr>\n",
       "  </tbody>\n",
       "</table>\n",
       "</div>"
      ],
      "text/plain": [
       "            file     species\n",
       "0  0021e90e4.png  Sugar beet\n",
       "1  003d61042.png  Sugar beet\n",
       "2  007b3da8b.png  Sugar beet\n",
       "3  0086a6340.png  Sugar beet\n",
       "4  00c47e980.png  Sugar beet"
      ]
     },
     "execution_count": 33,
     "metadata": {},
     "output_type": "execute_result"
    }
   ],
   "source": [
    "#Read sample submission file \n",
    "sample_submission = pd.read_csv(abspath_curr + '/sample_submission.csv')\n",
    "sample_submission.head()"
   ]
  },
  {
   "cell_type": "code",
   "execution_count": 34,
   "id": "Stsr3yqtuI_R",
   "metadata": {
    "id": "Stsr3yqtuI_R"
   },
   "outputs": [
    {
     "data": {
      "text/plain": [
       "794"
      ]
     },
     "execution_count": 34,
     "metadata": {},
     "output_type": "execute_result"
    }
   ],
   "source": [
    "len(sample_submission)"
   ]
  },
  {
   "cell_type": "code",
   "execution_count": 35,
   "id": "-kCyV9fJuMHo",
   "metadata": {
    "colab": {
     "base_uri": "https://localhost:8080/"
    },
    "executionInfo": {
     "elapsed": 665,
     "status": "ok",
     "timestamp": 1650320930957,
     "user": {
      "displayName": "Yixi Liang",
      "userId": "08617022926448896029"
     },
     "user_tz": 240
    },
    "id": "-kCyV9fJuMHo",
    "outputId": "e5840293-e1a3-4711-ec47-385873fc7055"
   },
   "outputs": [
    {
     "data": {
      "text/plain": [
       "['Small-flowered Cranesbill',\n",
       " 'Fat Hen',\n",
       " 'Sugar beet',\n",
       " 'Common Chickweed',\n",
       " 'Sugar beet',\n",
       " 'Loose Silky-bent',\n",
       " 'Common Chickweed',\n",
       " 'Fat Hen',\n",
       " 'Loose Silky-bent',\n",
       " 'Loose Silky-bent']"
      ]
     },
     "execution_count": 35,
     "metadata": {},
     "output_type": "execute_result"
    }
   ],
   "source": [
    "#Prepare prediction results\n",
    "predict_class = []\n",
    "for pred in prediction: \n",
    "    predict_class.append(class_names[tf.argmax(pred)])\n",
    "\n",
    "predict_class[:10]"
   ]
  },
  {
   "cell_type": "code",
   "execution_count": 36,
   "id": "0mSJP3vKuOhQ",
   "metadata": {
    "colab": {
     "base_uri": "https://localhost:8080/",
     "height": 206
    },
    "executionInfo": {
     "elapsed": 292,
     "status": "ok",
     "timestamp": 1650320932860,
     "user": {
      "displayName": "Yixi Liang",
      "userId": "08617022926448896029"
     },
     "user_tz": 240
    },
    "id": "0mSJP3vKuOhQ",
    "outputId": "a34ba802-6104-4c8c-f792-c9ba4f0c856f"
   },
   "outputs": [
    {
     "data": {
      "text/html": [
       "<div>\n",
       "<style scoped>\n",
       "    .dataframe tbody tr th:only-of-type {\n",
       "        vertical-align: middle;\n",
       "    }\n",
       "\n",
       "    .dataframe tbody tr th {\n",
       "        vertical-align: top;\n",
       "    }\n",
       "\n",
       "    .dataframe thead th {\n",
       "        text-align: right;\n",
       "    }\n",
       "</style>\n",
       "<table border=\"1\" class=\"dataframe\">\n",
       "  <thead>\n",
       "    <tr style=\"text-align: right;\">\n",
       "      <th></th>\n",
       "      <th>file</th>\n",
       "      <th>species</th>\n",
       "    </tr>\n",
       "  </thead>\n",
       "  <tbody>\n",
       "    <tr>\n",
       "      <th>0</th>\n",
       "      <td>0021e90e4.png</td>\n",
       "      <td>Small-flowered Cranesbill</td>\n",
       "    </tr>\n",
       "    <tr>\n",
       "      <th>1</th>\n",
       "      <td>003d61042.png</td>\n",
       "      <td>Fat Hen</td>\n",
       "    </tr>\n",
       "    <tr>\n",
       "      <th>2</th>\n",
       "      <td>007b3da8b.png</td>\n",
       "      <td>Sugar beet</td>\n",
       "    </tr>\n",
       "    <tr>\n",
       "      <th>3</th>\n",
       "      <td>0086a6340.png</td>\n",
       "      <td>Common Chickweed</td>\n",
       "    </tr>\n",
       "    <tr>\n",
       "      <th>4</th>\n",
       "      <td>00c47e980.png</td>\n",
       "      <td>Sugar beet</td>\n",
       "    </tr>\n",
       "  </tbody>\n",
       "</table>\n",
       "</div>"
      ],
      "text/plain": [
       "            file                    species\n",
       "0  0021e90e4.png  Small-flowered Cranesbill\n",
       "1  003d61042.png                    Fat Hen\n",
       "2  007b3da8b.png                 Sugar beet\n",
       "3  0086a6340.png           Common Chickweed\n",
       "4  00c47e980.png                 Sugar beet"
      ]
     },
     "execution_count": 36,
     "metadata": {},
     "output_type": "execute_result"
    }
   ],
   "source": [
    "submission = pd.DataFrame({'file':sample_submission['file'],'species':predict_class})\n",
    "submission.head()"
   ]
  },
  {
   "cell_type": "code",
   "execution_count": 37,
   "id": "sCMxIQPruQBG",
   "metadata": {
    "id": "sCMxIQPruQBG"
   },
   "outputs": [],
   "source": [
    "submission.to_csv(abspath_curr + '/submission3.csv', index=False)"
   ]
  },
  {
   "cell_type": "code",
   "execution_count": 38,
   "id": "90bc4baf",
   "metadata": {},
   "outputs": [
    {
     "name": "stdout",
     "output_type": "stream",
     "text": [
      "Model: \"model_1\"\n",
      "_________________________________________________________________\n",
      " Layer (type)                Output Shape              Param #   \n",
      "=================================================================\n",
      " input_2 (InputLayer)        [(None, None, None, 3)]   0         \n",
      "                                                                 \n",
      " block1_conv1 (Conv2D)       (None, None, None, 64)    1792      \n",
      "                                                                 \n",
      " block1_conv2 (Conv2D)       (None, None, None, 64)    36928     \n",
      "                                                                 \n",
      " block1_pool (MaxPooling2D)  (None, None, None, 64)    0         \n",
      "                                                                 \n",
      " block2_conv1 (Conv2D)       (None, None, None, 128)   73856     \n",
      "                                                                 \n",
      " block2_conv2 (Conv2D)       (None, None, None, 128)   147584    \n",
      "                                                                 \n",
      " block2_pool (MaxPooling2D)  (None, None, None, 128)   0         \n",
      "                                                                 \n",
      " block3_conv1 (Conv2D)       (None, None, None, 256)   295168    \n",
      "                                                                 \n",
      " block3_conv2 (Conv2D)       (None, None, None, 256)   590080    \n",
      "                                                                 \n",
      " block3_conv3 (Conv2D)       (None, None, None, 256)   590080    \n",
      "                                                                 \n",
      " block3_pool (MaxPooling2D)  (None, None, None, 256)   0         \n",
      "                                                                 \n",
      " block4_conv1 (Conv2D)       (None, None, None, 512)   1180160   \n",
      "                                                                 \n",
      " block4_conv2 (Conv2D)       (None, None, None, 512)   2359808   \n",
      "                                                                 \n",
      " block4_conv3 (Conv2D)       (None, None, None, 512)   2359808   \n",
      "                                                                 \n",
      " block4_pool (MaxPooling2D)  (None, None, None, 512)   0         \n",
      "                                                                 \n",
      " block5_conv1 (Conv2D)       (None, None, None, 512)   2359808   \n",
      "                                                                 \n",
      " block5_conv2 (Conv2D)       (None, None, None, 512)   2359808   \n",
      "                                                                 \n",
      " block5_conv3 (Conv2D)       (None, None, None, 512)   2359808   \n",
      "                                                                 \n",
      " block5_pool (MaxPooling2D)  (None, None, None, 512)   0         \n",
      "                                                                 \n",
      " global_average_pooling2d_1   (None, 512)              0         \n",
      " (GlobalAveragePooling2D)                                        \n",
      "                                                                 \n",
      " dense_1 (Dense)             (None, 12)                6156      \n",
      "                                                                 \n",
      "=================================================================\n",
      "Total params: 14,720,844\n",
      "Trainable params: 14,720,844\n",
      "Non-trainable params: 0\n",
      "_________________________________________________________________\n"
     ]
    }
   ],
   "source": [
    "model.summary()"
   ]
  },
  {
   "cell_type": "code",
   "execution_count": null,
   "id": "608a7473",
   "metadata": {},
   "outputs": [],
   "source": []
  }
 ],
 "metadata": {
  "accelerator": "GPU",
  "colab": {
   "name": "Final_project_colab.ipynb",
   "provenance": []
  },
  "kernelspec": {
   "display_name": "tensorflow_gpu",
   "language": "python",
   "name": "tensorflow_gpu"
  },
  "language_info": {
   "codemirror_mode": {
    "name": "ipython",
    "version": 3
   },
   "file_extension": ".py",
   "mimetype": "text/x-python",
   "name": "python",
   "nbconvert_exporter": "python",
   "pygments_lexer": "ipython3",
   "version": "3.8.13"
  }
 },
 "nbformat": 4,
 "nbformat_minor": 5
}
