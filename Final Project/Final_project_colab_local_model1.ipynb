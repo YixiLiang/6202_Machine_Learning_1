{
 "cells": [
  {
   "cell_type": "markdown",
   "id": "3d978c9c",
   "metadata": {
    "id": "3d978c9c"
   },
   "source": [
    "<b>\n",
    "<p>\n",
    "<center>\n",
    "<font size=\"5\">\n",
    "Popular Machine Learning Methods: Idea, Practice and Math\n",
    "</font>\n",
    "</center>\n",
    "</p>\n",
    "\n",
    "<p>\n",
    "<center>\n",
    "<font size=\"4\">\n",
    "Part 3, Chapter 2, Section 3: Convolutional Neural Networks\n",
    "</font>\n",
    "</center>\n",
    "</p>\n",
    "    \n",
    "<p>\n",
    "<center>\n",
    "<font size=\"4\">\n",
    "Final project\n",
    "</font>\n",
    "</center>\n",
    "</p>\n",
    "\n",
    "<p>\n",
    "<center>\n",
    "<font size=\"3\">\n",
    "Data Science, Columbian College of Arts & Sciences, George Washington University\n",
    "</font>\n",
    "</center>\n",
    "</p>\n",
    "\n",
    "<p>\n",
    "<center>\n",
    "<font size=\"3\">\n",
    "Yixi Liang\n",
    "</font>\n",
    "</center>\n",
    "</p>\n",
    "</b>"
   ]
  },
  {
   "cell_type": "markdown",
   "id": "af695efa",
   "metadata": {
    "id": "af695efa"
   },
   "source": [
    "## Google drive"
   ]
  },
  {
   "cell_type": "code",
   "execution_count": 1,
   "id": "b8c49afd",
   "metadata": {
    "colab": {
     "base_uri": "https://localhost:8080/"
    },
    "executionInfo": {
     "elapsed": 846,
     "status": "ok",
     "timestamp": 1650327563951,
     "user": {
      "displayName": "Yixi Liang",
      "userId": "08617022926448896029"
     },
     "user_tz": 240
    },
    "id": "b8c49afd",
    "outputId": "ada55462-cefe-4fdb-efc9-6d037619eef9",
    "scrolled": true
   },
   "outputs": [],
   "source": [
    "abspath_curr = 'C:/Users/REX/Desktop/6202 Machine Learning/Final Project'\n",
    "\n",
    "# Get the absolute path of the deep utilities folder\n",
    "abspath_util_deep = 'C:/Users/REX/Desktop/teaching-master/gwu/machine_learning_I/spring_2022/code/utilities/p3_deep_learning'"
   ]
  },
  {
   "cell_type": "markdown",
   "id": "92ebf345",
   "metadata": {},
   "source": [
    "## Warning"
   ]
  },
  {
   "cell_type": "code",
   "execution_count": 2,
   "id": "6bd0b77e",
   "metadata": {},
   "outputs": [],
   "source": [
    "import warnings\n",
    "\n",
    "# Ignore warnings\n",
    "warnings.filterwarnings('ignore')"
   ]
  },
  {
   "cell_type": "markdown",
   "id": "6b4a2ae4",
   "metadata": {
    "id": "6b4a2ae4"
   },
   "source": [
    "## Matplotlib"
   ]
  },
  {
   "cell_type": "code",
   "execution_count": 3,
   "id": "f1dbba6e",
   "metadata": {},
   "outputs": [],
   "source": [
    "import matplotlib.pyplot as plt\n",
    "%matplotlib inline \n",
    "\n",
    "# Set matplotlib sizes\n",
    "plt.rc('font', size=20)\n",
    "plt.rc('axes', titlesize=20)\n",
    "plt.rc('axes', labelsize=20)\n",
    "plt.rc('xtick', labelsize=20)\n",
    "plt.rc('ytick', labelsize=20)\n",
    "plt.rc('legend', fontsize=20)\n",
    "plt.rc('figure', titlesize=20)"
   ]
  },
  {
   "cell_type": "code",
   "execution_count": 4,
   "id": "b36d38e2",
   "metadata": {
    "executionInfo": {
     "elapsed": 121,
     "status": "ok",
     "timestamp": 1650327566766,
     "user": {
      "displayName": "Yixi Liang",
      "userId": "08617022926448896029"
     },
     "user_tz": 240
    },
    "id": "b36d38e2"
   },
   "outputs": [],
   "source": [
    "# %tensorflow_version 2.x \n",
    "import pandas as pd \n",
    "import os \n",
    "import tensorflow as tf \n",
    "from tensorflow import keras\n",
    "import matplotlib.pyplot as plt \n",
    "from tensorflow.keras.preprocessing.image import ImageDataGenerator"
   ]
  },
  {
   "cell_type": "markdown",
   "id": "61e05ea1",
   "metadata": {
    "id": "61e05ea1"
   },
   "source": [
    "## Random seed"
   ]
  },
  {
   "cell_type": "code",
   "execution_count": 5,
   "id": "28b3cad0",
   "metadata": {
    "executionInfo": {
     "elapsed": 127,
     "status": "ok",
     "timestamp": 1650327568487,
     "user": {
      "displayName": "Yixi Liang",
      "userId": "08617022926448896029"
     },
     "user_tz": 240
    },
    "id": "28b3cad0"
   },
   "outputs": [],
   "source": [
    "# The random seed\n",
    "random_seed = 42\n",
    "\n",
    "# Set random seed in tensorflow\n",
    "tf.random.set_seed(random_seed)\n",
    "\n",
    "# Set random seed in numpy\n",
    "import numpy as np\n",
    "np.random.seed(random_seed)"
   ]
  },
  {
   "cell_type": "code",
   "execution_count": 6,
   "id": "0xu9P79FL-YE",
   "metadata": {
    "colab": {
     "base_uri": "https://localhost:8080/"
    },
    "executionInfo": {
     "elapsed": 1306,
     "status": "ok",
     "timestamp": 1650327571070,
     "user": {
      "displayName": "Yixi Liang",
      "userId": "08617022926448896029"
     },
     "user_tz": 240
    },
    "id": "0xu9P79FL-YE",
    "outputId": "73e4a128-9998-47f7-f3fe-d08f21a8b91e"
   },
   "outputs": [
    {
     "name": "stdout",
     "output_type": "stream",
     "text": [
      "C:\\Users\\REX\\Desktop\\teaching-master\\gwu\\machine_learning_I\\spring_2022\\code\\utilities\\p3_deep_learning\n"
     ]
    }
   ],
   "source": [
    "# Change working directory to the absolute path of the deep utilities folder\n",
    "%cd $abspath_util_deep\n",
    "\n",
    "# Import the deep utitilities\n",
    "%run pmlm_utilities_deep.ipynb"
   ]
  },
  {
   "cell_type": "markdown",
   "id": "919fb813",
   "metadata": {
    "id": "919fb813"
   },
   "source": [
    "## Loading the data"
   ]
  },
  {
   "cell_type": "markdown",
   "id": "a3c339c0",
   "metadata": {
    "id": "a3c339c0"
   },
   "source": [
    "In this case study, we will work on the [Plant Seedlings Classification](https://www.kaggle.com/competitions/plant-seedlings-classification/overview)."
   ]
  },
  {
   "cell_type": "markdown",
   "id": "b7c83ba5",
   "metadata": {
    "id": "b7c83ba5"
   },
   "source": [
    "### Creating the directory for the data"
   ]
  },
  {
   "cell_type": "code",
   "execution_count": 7,
   "id": "5b696936",
   "metadata": {
    "executionInfo": {
     "elapsed": 159,
     "status": "ok",
     "timestamp": 1650327574231,
     "user": {
      "displayName": "Yixi Liang",
      "userId": "08617022926448896029"
     },
     "user_tz": 240
    },
    "id": "5b696936"
   },
   "outputs": [],
   "source": [
    "train_path = abspath_curr + '/train/'\n",
    "test_path = abspath_curr "
   ]
  },
  {
   "cell_type": "code",
   "execution_count": 8,
   "id": "a2318f4d",
   "metadata": {
    "colab": {
     "base_uri": "https://localhost:8080/"
    },
    "executionInfo": {
     "elapsed": 243,
     "status": "ok",
     "timestamp": 1650327576009,
     "user": {
      "displayName": "Yixi Liang",
      "userId": "08617022926448896029"
     },
     "user_tz": 240
    },
    "id": "a2318f4d",
    "outputId": "69e40def-42a5-4949-b9b2-fea19e9a7f70"
   },
   "outputs": [
    {
     "name": "stdout",
     "output_type": "stream",
     "text": [
      "There are 4 directories and 5 images in 'C:/Users/REX/Desktop/6202 Machine Learning/Final Project'.\n",
      "There are 0 directories and 3 images in 'C:/Users/REX/Desktop/6202 Machine Learning/Final Project\\.ipynb_checkpoints'.\n",
      "There are 2 directories and 0 images in 'C:/Users/REX/Desktop/6202 Machine Learning/Final Project\\result'.\n",
      "There are 0 directories and 0 images in 'C:/Users/REX/Desktop/6202 Machine Learning/Final Project\\result\\figure'.\n",
      "There are 0 directories and 1 images in 'C:/Users/REX/Desktop/6202 Machine Learning/Final Project\\result\\model'.\n",
      "There are 0 directories and 794 images in 'C:/Users/REX/Desktop/6202 Machine Learning/Final Project\\test'.\n",
      "There are 12 directories and 0 images in 'C:/Users/REX/Desktop/6202 Machine Learning/Final Project\\train'.\n",
      "There are 0 directories and 263 images in 'C:/Users/REX/Desktop/6202 Machine Learning/Final Project\\train\\Black-grass'.\n",
      "There are 0 directories and 390 images in 'C:/Users/REX/Desktop/6202 Machine Learning/Final Project\\train\\Charlock'.\n",
      "There are 0 directories and 287 images in 'C:/Users/REX/Desktop/6202 Machine Learning/Final Project\\train\\Cleavers'.\n",
      "There are 0 directories and 611 images in 'C:/Users/REX/Desktop/6202 Machine Learning/Final Project\\train\\Common Chickweed'.\n",
      "There are 0 directories and 221 images in 'C:/Users/REX/Desktop/6202 Machine Learning/Final Project\\train\\Common wheat'.\n",
      "There are 0 directories and 475 images in 'C:/Users/REX/Desktop/6202 Machine Learning/Final Project\\train\\Fat Hen'.\n",
      "There are 0 directories and 654 images in 'C:/Users/REX/Desktop/6202 Machine Learning/Final Project\\train\\Loose Silky-bent'.\n",
      "There are 0 directories and 221 images in 'C:/Users/REX/Desktop/6202 Machine Learning/Final Project\\train\\Maize'.\n",
      "There are 0 directories and 516 images in 'C:/Users/REX/Desktop/6202 Machine Learning/Final Project\\train\\Scentless Mayweed'.\n",
      "There are 0 directories and 231 images in 'C:/Users/REX/Desktop/6202 Machine Learning/Final Project\\train\\Shepherds Purse'.\n",
      "There are 0 directories and 496 images in 'C:/Users/REX/Desktop/6202 Machine Learning/Final Project\\train\\Small-flowered Cranesbill'.\n",
      "There are 0 directories and 385 images in 'C:/Users/REX/Desktop/6202 Machine Learning/Final Project\\train\\Sugar beet'.\n"
     ]
    }
   ],
   "source": [
    "for dirpath, dirnames, filenames in os.walk(abspath_curr): \n",
    "     print(f\"There are {len(dirnames)} directories and {len(filenames)} images in '{dirpath}'.\")"
   ]
  },
  {
   "cell_type": "markdown",
   "id": "c94e54eb",
   "metadata": {
    "id": "c94e54eb"
   },
   "source": [
    "## Load data  "
   ]
  },
  {
   "cell_type": "code",
   "execution_count": 9,
   "id": "9d359cd8",
   "metadata": {
    "colab": {
     "base_uri": "https://localhost:8080/"
    },
    "executionInfo": {
     "elapsed": 402,
     "status": "ok",
     "timestamp": 1650327577983,
     "user": {
      "displayName": "Yixi Liang",
      "userId": "08617022926448896029"
     },
     "user_tz": 240
    },
    "id": "9d359cd8",
    "outputId": "6236209b-250f-4bf3-cf22-20d99fb8ddf5"
   },
   "outputs": [
    {
     "name": "stdout",
     "output_type": "stream",
     "text": [
      "Found 4750 files belonging to 12 classes.\n",
      "Using 3800 files for training.\n"
     ]
    }
   ],
   "source": [
    "data_train = tf.keras.preprocessing.image_dataset_from_directory(directory=train_path,\n",
    "                                                                 label_mode=\"categorical\", \n",
    "                                                                 shuffle=True,\n",
    "                                                                 image_size=(224,224),\n",
    "                                                                batch_size = 16, \n",
    "                                                                 seed=42,\n",
    "                                                                validation_split=0.2,\n",
    "                                                                   subset=\"training\")"
   ]
  },
  {
   "cell_type": "code",
   "execution_count": 10,
   "id": "3dd01da4",
   "metadata": {
    "colab": {
     "base_uri": "https://localhost:8080/"
    },
    "executionInfo": {
     "elapsed": 382,
     "status": "ok",
     "timestamp": 1650327579554,
     "user": {
      "displayName": "Yixi Liang",
      "userId": "08617022926448896029"
     },
     "user_tz": 240
    },
    "id": "3dd01da4",
    "outputId": "e4065ba1-416e-4d3f-b4b4-eac270e46e74"
   },
   "outputs": [
    {
     "name": "stdout",
     "output_type": "stream",
     "text": [
      "Found 4750 files belonging to 12 classes.\n",
      "Using 950 files for validation.\n"
     ]
    }
   ],
   "source": [
    "data_valid = tf.keras.preprocessing.image_dataset_from_directory(directory=train_path,\n",
    "                                                                 label_mode=\"categorical\", \n",
    "                                                                 shuffle=False,\n",
    "                                                                 image_size=(224,224),\n",
    "                                                                batch_size = 16,\n",
    "                                                                 seed=42,\n",
    "                                                                validation_split=0.2,\n",
    "                                                                   subset=\"validation\")"
   ]
  },
  {
   "cell_type": "code",
   "execution_count": 11,
   "id": "f38108a2",
   "metadata": {},
   "outputs": [
    {
     "name": "stdout",
     "output_type": "stream",
     "text": [
      "Found 794 images belonging to 1 classes.\n"
     ]
    }
   ],
   "source": [
    "datagen = ImageDataGenerator()\n",
    "data_test = datagen.flow_from_directory(test_path ,shuffle =False,batch_size=100,\n",
    "                              target_size = (224,224),classes = ['test'])"
   ]
  },
  {
   "cell_type": "code",
   "execution_count": 12,
   "id": "ad70e528",
   "metadata": {
    "executionInfo": {
     "elapsed": 106,
     "status": "ok",
     "timestamp": 1650327581347,
     "user": {
      "displayName": "Yixi Liang",
      "userId": "08617022926448896029"
     },
     "user_tz": 240
    },
    "id": "ad70e528"
   },
   "outputs": [],
   "source": [
    "class_names = data_train.class_names\n",
    "n_classes = len(class_names)"
   ]
  },
  {
   "cell_type": "code",
   "execution_count": null,
   "id": "0f2756ba",
   "metadata": {},
   "outputs": [],
   "source": [
    "class_names"
   ]
  },
  {
   "cell_type": "code",
   "execution_count": null,
   "id": "9c13376a",
   "metadata": {},
   "outputs": [],
   "source": [
    "n_classes"
   ]
  },
  {
   "cell_type": "markdown",
   "id": "34a50565",
   "metadata": {
    "id": "34a50565"
   },
   "source": [
    "# Training EfficientNetV2B2"
   ]
  },
  {
   "cell_type": "code",
   "execution_count": 13,
   "id": "MSRHbD-BLVp0",
   "metadata": {
    "executionInfo": {
     "elapsed": 111,
     "status": "ok",
     "timestamp": 1650327582380,
     "user": {
      "displayName": "Yixi Liang",
      "userId": "08617022926448896029"
     },
     "user_tz": 240
    },
    "id": "MSRHbD-BLVp0"
   },
   "outputs": [],
   "source": [
    "# Make directory\n",
    "directory = os.path.dirname(abspath_curr + '/result/model/')\n",
    "if not os.path.exists(directory):\n",
    "    os.makedirs(directory)"
   ]
  },
  {
   "cell_type": "markdown",
   "id": "71e4e370",
   "metadata": {
    "id": "71e4e370"
   },
   "source": [
    "## Building the architecture of the model"
   ]
  },
  {
   "cell_type": "code",
   "execution_count": 14,
   "id": "f5263a6b",
   "metadata": {
    "colab": {
     "base_uri": "https://localhost:8080/"
    },
    "executionInfo": {
     "elapsed": 7109,
     "status": "ok",
     "timestamp": 1650327590975,
     "user": {
      "displayName": "Yixi Liang",
      "userId": "08617022926448896029"
     },
     "user_tz": 240
    },
    "id": "f5263a6b",
    "outputId": "8aca7588-b531-410b-d292-0c0387cea2a3"
   },
   "outputs": [
    {
     "name": "stdout",
     "output_type": "stream",
     "text": [
      "Model: \"model\"\n",
      "__________________________________________________________________________________________________\n",
      " Layer (type)                   Output Shape         Param #     Connected to                     \n",
      "==================================================================================================\n",
      " input_1 (InputLayer)           [(None, None, None,  0           []                               \n",
      "                                 3)]                                                              \n",
      "                                                                                                  \n",
      " rescaling (Rescaling)          (None, None, None,   0           ['input_1[0][0]']                \n",
      "                                3)                                                                \n",
      "                                                                                                  \n",
      " normalization (Normalization)  (None, None, None,   0           ['rescaling[0][0]']              \n",
      "                                3)                                                                \n",
      "                                                                                                  \n",
      " stem_conv (Conv2D)             (None, None, None,   864         ['normalization[0][0]']          \n",
      "                                32)                                                               \n",
      "                                                                                                  \n",
      " stem_bn (BatchNormalization)   (None, None, None,   128         ['stem_conv[0][0]']              \n",
      "                                32)                                                               \n",
      "                                                                                                  \n",
      " stem_activation (Activation)   (None, None, None,   0           ['stem_bn[0][0]']                \n",
      "                                32)                                                               \n",
      "                                                                                                  \n",
      " block1a_project_conv (Conv2D)  (None, None, None,   4608        ['stem_activation[0][0]']        \n",
      "                                16)                                                               \n",
      "                                                                                                  \n",
      " block1a_project_bn (BatchNorma  (None, None, None,   64         ['block1a_project_conv[0][0]']   \n",
      " lization)                      16)                                                               \n",
      "                                                                                                  \n",
      " block1a_project_activation (Ac  (None, None, None,   0          ['block1a_project_bn[0][0]']     \n",
      " tivation)                      16)                                                               \n",
      "                                                                                                  \n",
      " block1b_project_conv (Conv2D)  (None, None, None,   2304        ['block1a_project_activation[0][0\n",
      "                                16)                              ]']                              \n",
      "                                                                                                  \n",
      " block1b_project_bn (BatchNorma  (None, None, None,   64         ['block1b_project_conv[0][0]']   \n",
      " lization)                      16)                                                               \n",
      "                                                                                                  \n",
      " block1b_project_activation (Ac  (None, None, None,   0          ['block1b_project_bn[0][0]']     \n",
      " tivation)                      16)                                                               \n",
      "                                                                                                  \n",
      " block1b_add (Add)              (None, None, None,   0           ['block1b_project_activation[0][0\n",
      "                                16)                              ]',                              \n",
      "                                                                  'block1a_project_activation[0][0\n",
      "                                                                 ]']                              \n",
      "                                                                                                  \n",
      " block2a_expand_conv (Conv2D)   (None, None, None,   9216        ['block1b_add[0][0]']            \n",
      "                                64)                                                               \n",
      "                                                                                                  \n",
      " block2a_expand_bn (BatchNormal  (None, None, None,   256        ['block2a_expand_conv[0][0]']    \n",
      " ization)                       64)                                                               \n",
      "                                                                                                  \n",
      " block2a_expand_activation (Act  (None, None, None,   0          ['block2a_expand_bn[0][0]']      \n",
      " ivation)                       64)                                                               \n",
      "                                                                                                  \n",
      " block2a_project_conv (Conv2D)  (None, None, None,   2048        ['block2a_expand_activation[0][0]\n",
      "                                32)                              ']                               \n",
      "                                                                                                  \n",
      " block2a_project_bn (BatchNorma  (None, None, None,   128        ['block2a_project_conv[0][0]']   \n",
      " lization)                      32)                                                               \n",
      "                                                                                                  \n",
      " block2b_expand_conv (Conv2D)   (None, None, None,   36864       ['block2a_project_bn[0][0]']     \n",
      "                                128)                                                              \n",
      "                                                                                                  \n",
      " block2b_expand_bn (BatchNormal  (None, None, None,   512        ['block2b_expand_conv[0][0]']    \n",
      " ization)                       128)                                                              \n",
      "                                                                                                  \n",
      " block2b_expand_activation (Act  (None, None, None,   0          ['block2b_expand_bn[0][0]']      \n",
      " ivation)                       128)                                                              \n",
      "                                                                                                  \n",
      " block2b_project_conv (Conv2D)  (None, None, None,   4096        ['block2b_expand_activation[0][0]\n",
      "                                32)                              ']                               \n",
      "                                                                                                  \n",
      " block2b_project_bn (BatchNorma  (None, None, None,   128        ['block2b_project_conv[0][0]']   \n",
      " lization)                      32)                                                               \n",
      "                                                                                                  \n",
      " block2b_add (Add)              (None, None, None,   0           ['block2b_project_bn[0][0]',     \n",
      "                                32)                               'block2a_project_bn[0][0]']     \n",
      "                                                                                                  \n",
      " block2c_expand_conv (Conv2D)   (None, None, None,   36864       ['block2b_add[0][0]']            \n",
      "                                128)                                                              \n",
      "                                                                                                  \n",
      " block2c_expand_bn (BatchNormal  (None, None, None,   512        ['block2c_expand_conv[0][0]']    \n",
      " ization)                       128)                                                              \n",
      "                                                                                                  \n"
     ]
    },
    {
     "name": "stdout",
     "output_type": "stream",
     "text": [
      " block2c_expand_activation (Act  (None, None, None,   0          ['block2c_expand_bn[0][0]']      \n",
      " ivation)                       128)                                                              \n",
      "                                                                                                  \n",
      " block2c_project_conv (Conv2D)  (None, None, None,   4096        ['block2c_expand_activation[0][0]\n",
      "                                32)                              ']                               \n",
      "                                                                                                  \n",
      " block2c_project_bn (BatchNorma  (None, None, None,   128        ['block2c_project_conv[0][0]']   \n",
      " lization)                      32)                                                               \n",
      "                                                                                                  \n",
      " block2c_add (Add)              (None, None, None,   0           ['block2c_project_bn[0][0]',     \n",
      "                                32)                               'block2b_add[0][0]']            \n",
      "                                                                                                  \n",
      " block3a_expand_conv (Conv2D)   (None, None, None,   36864       ['block2c_add[0][0]']            \n",
      "                                128)                                                              \n",
      "                                                                                                  \n",
      " block3a_expand_bn (BatchNormal  (None, None, None,   512        ['block3a_expand_conv[0][0]']    \n",
      " ization)                       128)                                                              \n",
      "                                                                                                  \n",
      " block3a_expand_activation (Act  (None, None, None,   0          ['block3a_expand_bn[0][0]']      \n",
      " ivation)                       128)                                                              \n",
      "                                                                                                  \n",
      " block3a_project_conv (Conv2D)  (None, None, None,   7168        ['block3a_expand_activation[0][0]\n",
      "                                56)                              ']                               \n",
      "                                                                                                  \n",
      " block3a_project_bn (BatchNorma  (None, None, None,   224        ['block3a_project_conv[0][0]']   \n",
      " lization)                      56)                                                               \n",
      "                                                                                                  \n",
      " block3b_expand_conv (Conv2D)   (None, None, None,   112896      ['block3a_project_bn[0][0]']     \n",
      "                                224)                                                              \n",
      "                                                                                                  \n",
      " block3b_expand_bn (BatchNormal  (None, None, None,   896        ['block3b_expand_conv[0][0]']    \n",
      " ization)                       224)                                                              \n",
      "                                                                                                  \n",
      " block3b_expand_activation (Act  (None, None, None,   0          ['block3b_expand_bn[0][0]']      \n",
      " ivation)                       224)                                                              \n",
      "                                                                                                  \n",
      " block3b_project_conv (Conv2D)  (None, None, None,   12544       ['block3b_expand_activation[0][0]\n",
      "                                56)                              ']                               \n",
      "                                                                                                  \n",
      " block3b_project_bn (BatchNorma  (None, None, None,   224        ['block3b_project_conv[0][0]']   \n",
      " lization)                      56)                                                               \n",
      "                                                                                                  \n",
      " block3b_add (Add)              (None, None, None,   0           ['block3b_project_bn[0][0]',     \n",
      "                                56)                               'block3a_project_bn[0][0]']     \n",
      "                                                                                                  \n",
      " block3c_expand_conv (Conv2D)   (None, None, None,   112896      ['block3b_add[0][0]']            \n",
      "                                224)                                                              \n",
      "                                                                                                  \n",
      " block3c_expand_bn (BatchNormal  (None, None, None,   896        ['block3c_expand_conv[0][0]']    \n",
      " ization)                       224)                                                              \n",
      "                                                                                                  \n",
      " block3c_expand_activation (Act  (None, None, None,   0          ['block3c_expand_bn[0][0]']      \n",
      " ivation)                       224)                                                              \n",
      "                                                                                                  \n",
      " block3c_project_conv (Conv2D)  (None, None, None,   12544       ['block3c_expand_activation[0][0]\n",
      "                                56)                              ']                               \n",
      "                                                                                                  \n",
      " block3c_project_bn (BatchNorma  (None, None, None,   224        ['block3c_project_conv[0][0]']   \n",
      " lization)                      56)                                                               \n",
      "                                                                                                  \n",
      " block3c_add (Add)              (None, None, None,   0           ['block3c_project_bn[0][0]',     \n",
      "                                56)                               'block3b_add[0][0]']            \n",
      "                                                                                                  \n",
      " block4a_expand_conv (Conv2D)   (None, None, None,   12544       ['block3c_add[0][0]']            \n",
      "                                224)                                                              \n",
      "                                                                                                  \n",
      " block4a_expand_bn (BatchNormal  (None, None, None,   896        ['block4a_expand_conv[0][0]']    \n",
      " ization)                       224)                                                              \n",
      "                                                                                                  \n",
      " block4a_expand_activation (Act  (None, None, None,   0          ['block4a_expand_bn[0][0]']      \n",
      " ivation)                       224)                                                              \n",
      "                                                                                                  \n",
      " block4a_dwconv2 (DepthwiseConv  (None, None, None,   2016       ['block4a_expand_activation[0][0]\n",
      " 2D)                            224)                             ']                               \n",
      "                                                                                                  \n",
      " block4a_bn (BatchNormalization  (None, None, None,   896        ['block4a_dwconv2[0][0]']        \n",
      " )                              224)                                                              \n",
      "                                                                                                  \n",
      " block4a_activation (Activation  (None, None, None,   0          ['block4a_bn[0][0]']             \n",
      " )                              224)                                                              \n",
      "                                                                                                  \n",
      " block4a_se_squeeze (GlobalAver  (None, 224)         0           ['block4a_activation[0][0]']     \n",
      " agePooling2D)                                                                                    \n"
     ]
    },
    {
     "name": "stdout",
     "output_type": "stream",
     "text": [
      "                                                                                                  \n",
      " block4a_se_reshape (Reshape)   (None, 1, 1, 224)    0           ['block4a_se_squeeze[0][0]']     \n",
      "                                                                                                  \n",
      " block4a_se_reduce (Conv2D)     (None, 1, 1, 14)     3150        ['block4a_se_reshape[0][0]']     \n",
      "                                                                                                  \n",
      " block4a_se_expand (Conv2D)     (None, 1, 1, 224)    3360        ['block4a_se_reduce[0][0]']      \n",
      "                                                                                                  \n",
      " block4a_se_excite (Multiply)   (None, None, None,   0           ['block4a_activation[0][0]',     \n",
      "                                224)                              'block4a_se_expand[0][0]']      \n",
      "                                                                                                  \n",
      " block4a_project_conv (Conv2D)  (None, None, None,   23296       ['block4a_se_excite[0][0]']      \n",
      "                                104)                                                              \n",
      "                                                                                                  \n",
      " block4a_project_bn (BatchNorma  (None, None, None,   416        ['block4a_project_conv[0][0]']   \n",
      " lization)                      104)                                                              \n",
      "                                                                                                  \n",
      " block4b_expand_conv (Conv2D)   (None, None, None,   43264       ['block4a_project_bn[0][0]']     \n",
      "                                416)                                                              \n",
      "                                                                                                  \n",
      " block4b_expand_bn (BatchNormal  (None, None, None,   1664       ['block4b_expand_conv[0][0]']    \n",
      " ization)                       416)                                                              \n",
      "                                                                                                  \n",
      " block4b_expand_activation (Act  (None, None, None,   0          ['block4b_expand_bn[0][0]']      \n",
      " ivation)                       416)                                                              \n",
      "                                                                                                  \n",
      " block4b_dwconv2 (DepthwiseConv  (None, None, None,   3744       ['block4b_expand_activation[0][0]\n",
      " 2D)                            416)                             ']                               \n",
      "                                                                                                  \n",
      " block4b_bn (BatchNormalization  (None, None, None,   1664       ['block4b_dwconv2[0][0]']        \n",
      " )                              416)                                                              \n",
      "                                                                                                  \n",
      " block4b_activation (Activation  (None, None, None,   0          ['block4b_bn[0][0]']             \n",
      " )                              416)                                                              \n",
      "                                                                                                  \n",
      " block4b_se_squeeze (GlobalAver  (None, 416)         0           ['block4b_activation[0][0]']     \n",
      " agePooling2D)                                                                                    \n",
      "                                                                                                  \n",
      " block4b_se_reshape (Reshape)   (None, 1, 1, 416)    0           ['block4b_se_squeeze[0][0]']     \n",
      "                                                                                                  \n",
      " block4b_se_reduce (Conv2D)     (None, 1, 1, 26)     10842       ['block4b_se_reshape[0][0]']     \n",
      "                                                                                                  \n",
      " block4b_se_expand (Conv2D)     (None, 1, 1, 416)    11232       ['block4b_se_reduce[0][0]']      \n",
      "                                                                                                  \n",
      " block4b_se_excite (Multiply)   (None, None, None,   0           ['block4b_activation[0][0]',     \n",
      "                                416)                              'block4b_se_expand[0][0]']      \n",
      "                                                                                                  \n",
      " block4b_project_conv (Conv2D)  (None, None, None,   43264       ['block4b_se_excite[0][0]']      \n",
      "                                104)                                                              \n",
      "                                                                                                  \n",
      " block4b_project_bn (BatchNorma  (None, None, None,   416        ['block4b_project_conv[0][0]']   \n",
      " lization)                      104)                                                              \n",
      "                                                                                                  \n",
      " block4b_add (Add)              (None, None, None,   0           ['block4b_project_bn[0][0]',     \n",
      "                                104)                              'block4a_project_bn[0][0]']     \n",
      "                                                                                                  \n",
      " block4c_expand_conv (Conv2D)   (None, None, None,   43264       ['block4b_add[0][0]']            \n",
      "                                416)                                                              \n",
      "                                                                                                  \n",
      " block4c_expand_bn (BatchNormal  (None, None, None,   1664       ['block4c_expand_conv[0][0]']    \n",
      " ization)                       416)                                                              \n",
      "                                                                                                  \n",
      " block4c_expand_activation (Act  (None, None, None,   0          ['block4c_expand_bn[0][0]']      \n",
      " ivation)                       416)                                                              \n",
      "                                                                                                  \n",
      " block4c_dwconv2 (DepthwiseConv  (None, None, None,   3744       ['block4c_expand_activation[0][0]\n",
      " 2D)                            416)                             ']                               \n",
      "                                                                                                  \n",
      " block4c_bn (BatchNormalization  (None, None, None,   1664       ['block4c_dwconv2[0][0]']        \n",
      " )                              416)                                                              \n",
      "                                                                                                  \n",
      " block4c_activation (Activation  (None, None, None,   0          ['block4c_bn[0][0]']             \n",
      " )                              416)                                                              \n",
      "                                                                                                  \n",
      " block4c_se_squeeze (GlobalAver  (None, 416)         0           ['block4c_activation[0][0]']     \n",
      " agePooling2D)                                                                                    \n",
      "                                                                                                  \n",
      " block4c_se_reshape (Reshape)   (None, 1, 1, 416)    0           ['block4c_se_squeeze[0][0]']     \n",
      "                                                                                                  \n",
      " block4c_se_reduce (Conv2D)     (None, 1, 1, 26)     10842       ['block4c_se_reshape[0][0]']     \n",
      "                                                                                                  \n",
      " block4c_se_expand (Conv2D)     (None, 1, 1, 416)    11232       ['block4c_se_reduce[0][0]']      \n",
      "                                                                                                  \n",
      " block4c_se_excite (Multiply)   (None, None, None,   0           ['block4c_activation[0][0]',     \n"
     ]
    },
    {
     "name": "stdout",
     "output_type": "stream",
     "text": [
      "                                416)                              'block4c_se_expand[0][0]']      \n",
      "                                                                                                  \n",
      " block4c_project_conv (Conv2D)  (None, None, None,   43264       ['block4c_se_excite[0][0]']      \n",
      "                                104)                                                              \n",
      "                                                                                                  \n",
      " block4c_project_bn (BatchNorma  (None, None, None,   416        ['block4c_project_conv[0][0]']   \n",
      " lization)                      104)                                                              \n",
      "                                                                                                  \n",
      " block4c_add (Add)              (None, None, None,   0           ['block4c_project_bn[0][0]',     \n",
      "                                104)                              'block4b_add[0][0]']            \n",
      "                                                                                                  \n",
      " block4d_expand_conv (Conv2D)   (None, None, None,   43264       ['block4c_add[0][0]']            \n",
      "                                416)                                                              \n",
      "                                                                                                  \n",
      " block4d_expand_bn (BatchNormal  (None, None, None,   1664       ['block4d_expand_conv[0][0]']    \n",
      " ization)                       416)                                                              \n",
      "                                                                                                  \n",
      " block4d_expand_activation (Act  (None, None, None,   0          ['block4d_expand_bn[0][0]']      \n",
      " ivation)                       416)                                                              \n",
      "                                                                                                  \n",
      " block4d_dwconv2 (DepthwiseConv  (None, None, None,   3744       ['block4d_expand_activation[0][0]\n",
      " 2D)                            416)                             ']                               \n",
      "                                                                                                  \n",
      " block4d_bn (BatchNormalization  (None, None, None,   1664       ['block4d_dwconv2[0][0]']        \n",
      " )                              416)                                                              \n",
      "                                                                                                  \n",
      " block4d_activation (Activation  (None, None, None,   0          ['block4d_bn[0][0]']             \n",
      " )                              416)                                                              \n",
      "                                                                                                  \n",
      " block4d_se_squeeze (GlobalAver  (None, 416)         0           ['block4d_activation[0][0]']     \n",
      " agePooling2D)                                                                                    \n",
      "                                                                                                  \n",
      " block4d_se_reshape (Reshape)   (None, 1, 1, 416)    0           ['block4d_se_squeeze[0][0]']     \n",
      "                                                                                                  \n",
      " block4d_se_reduce (Conv2D)     (None, 1, 1, 26)     10842       ['block4d_se_reshape[0][0]']     \n",
      "                                                                                                  \n",
      " block4d_se_expand (Conv2D)     (None, 1, 1, 416)    11232       ['block4d_se_reduce[0][0]']      \n",
      "                                                                                                  \n",
      " block4d_se_excite (Multiply)   (None, None, None,   0           ['block4d_activation[0][0]',     \n",
      "                                416)                              'block4d_se_expand[0][0]']      \n",
      "                                                                                                  \n",
      " block4d_project_conv (Conv2D)  (None, None, None,   43264       ['block4d_se_excite[0][0]']      \n",
      "                                104)                                                              \n",
      "                                                                                                  \n",
      " block4d_project_bn (BatchNorma  (None, None, None,   416        ['block4d_project_conv[0][0]']   \n",
      " lization)                      104)                                                              \n",
      "                                                                                                  \n",
      " block4d_add (Add)              (None, None, None,   0           ['block4d_project_bn[0][0]',     \n",
      "                                104)                              'block4c_add[0][0]']            \n",
      "                                                                                                  \n",
      " block5a_expand_conv (Conv2D)   (None, None, None,   64896       ['block4d_add[0][0]']            \n",
      "                                624)                                                              \n",
      "                                                                                                  \n",
      " block5a_expand_bn (BatchNormal  (None, None, None,   2496       ['block5a_expand_conv[0][0]']    \n",
      " ization)                       624)                                                              \n",
      "                                                                                                  \n",
      " block5a_expand_activation (Act  (None, None, None,   0          ['block5a_expand_bn[0][0]']      \n",
      " ivation)                       624)                                                              \n",
      "                                                                                                  \n",
      " block5a_dwconv2 (DepthwiseConv  (None, None, None,   5616       ['block5a_expand_activation[0][0]\n",
      " 2D)                            624)                             ']                               \n",
      "                                                                                                  \n",
      " block5a_bn (BatchNormalization  (None, None, None,   2496       ['block5a_dwconv2[0][0]']        \n",
      " )                              624)                                                              \n",
      "                                                                                                  \n",
      " block5a_activation (Activation  (None, None, None,   0          ['block5a_bn[0][0]']             \n",
      " )                              624)                                                              \n",
      "                                                                                                  \n",
      " block5a_se_squeeze (GlobalAver  (None, 624)         0           ['block5a_activation[0][0]']     \n",
      " agePooling2D)                                                                                    \n",
      "                                                                                                  \n",
      " block5a_se_reshape (Reshape)   (None, 1, 1, 624)    0           ['block5a_se_squeeze[0][0]']     \n",
      "                                                                                                  \n",
      " block5a_se_reduce (Conv2D)     (None, 1, 1, 26)     16250       ['block5a_se_reshape[0][0]']     \n",
      "                                                                                                  \n",
      " block5a_se_expand (Conv2D)     (None, 1, 1, 624)    16848       ['block5a_se_reduce[0][0]']      \n",
      "                                                                                                  \n",
      " block5a_se_excite (Multiply)   (None, None, None,   0           ['block5a_activation[0][0]',     \n",
      "                                624)                              'block5a_se_expand[0][0]']      \n",
      "                                                                                                  \n",
      " block5a_project_conv (Conv2D)  (None, None, None,   74880       ['block5a_se_excite[0][0]']      \n",
      "                                120)                                                              \n",
      "                                                                                                  \n"
     ]
    },
    {
     "name": "stdout",
     "output_type": "stream",
     "text": [
      " block5a_project_bn (BatchNorma  (None, None, None,   480        ['block5a_project_conv[0][0]']   \n",
      " lization)                      120)                                                              \n",
      "                                                                                                  \n",
      " block5b_expand_conv (Conv2D)   (None, None, None,   86400       ['block5a_project_bn[0][0]']     \n",
      "                                720)                                                              \n",
      "                                                                                                  \n",
      " block5b_expand_bn (BatchNormal  (None, None, None,   2880       ['block5b_expand_conv[0][0]']    \n",
      " ization)                       720)                                                              \n",
      "                                                                                                  \n",
      " block5b_expand_activation (Act  (None, None, None,   0          ['block5b_expand_bn[0][0]']      \n",
      " ivation)                       720)                                                              \n",
      "                                                                                                  \n",
      " block5b_dwconv2 (DepthwiseConv  (None, None, None,   6480       ['block5b_expand_activation[0][0]\n",
      " 2D)                            720)                             ']                               \n",
      "                                                                                                  \n",
      " block5b_bn (BatchNormalization  (None, None, None,   2880       ['block5b_dwconv2[0][0]']        \n",
      " )                              720)                                                              \n",
      "                                                                                                  \n",
      " block5b_activation (Activation  (None, None, None,   0          ['block5b_bn[0][0]']             \n",
      " )                              720)                                                              \n",
      "                                                                                                  \n",
      " block5b_se_squeeze (GlobalAver  (None, 720)         0           ['block5b_activation[0][0]']     \n",
      " agePooling2D)                                                                                    \n",
      "                                                                                                  \n",
      " block5b_se_reshape (Reshape)   (None, 1, 1, 720)    0           ['block5b_se_squeeze[0][0]']     \n",
      "                                                                                                  \n",
      " block5b_se_reduce (Conv2D)     (None, 1, 1, 30)     21630       ['block5b_se_reshape[0][0]']     \n",
      "                                                                                                  \n",
      " block5b_se_expand (Conv2D)     (None, 1, 1, 720)    22320       ['block5b_se_reduce[0][0]']      \n",
      "                                                                                                  \n",
      " block5b_se_excite (Multiply)   (None, None, None,   0           ['block5b_activation[0][0]',     \n",
      "                                720)                              'block5b_se_expand[0][0]']      \n",
      "                                                                                                  \n",
      " block5b_project_conv (Conv2D)  (None, None, None,   86400       ['block5b_se_excite[0][0]']      \n",
      "                                120)                                                              \n",
      "                                                                                                  \n",
      " block5b_project_bn (BatchNorma  (None, None, None,   480        ['block5b_project_conv[0][0]']   \n",
      " lization)                      120)                                                              \n",
      "                                                                                                  \n",
      " block5b_add (Add)              (None, None, None,   0           ['block5b_project_bn[0][0]',     \n",
      "                                120)                              'block5a_project_bn[0][0]']     \n",
      "                                                                                                  \n",
      " block5c_expand_conv (Conv2D)   (None, None, None,   86400       ['block5b_add[0][0]']            \n",
      "                                720)                                                              \n",
      "                                                                                                  \n",
      " block5c_expand_bn (BatchNormal  (None, None, None,   2880       ['block5c_expand_conv[0][0]']    \n",
      " ization)                       720)                                                              \n",
      "                                                                                                  \n",
      " block5c_expand_activation (Act  (None, None, None,   0          ['block5c_expand_bn[0][0]']      \n",
      " ivation)                       720)                                                              \n",
      "                                                                                                  \n",
      " block5c_dwconv2 (DepthwiseConv  (None, None, None,   6480       ['block5c_expand_activation[0][0]\n",
      " 2D)                            720)                             ']                               \n",
      "                                                                                                  \n",
      " block5c_bn (BatchNormalization  (None, None, None,   2880       ['block5c_dwconv2[0][0]']        \n",
      " )                              720)                                                              \n",
      "                                                                                                  \n",
      " block5c_activation (Activation  (None, None, None,   0          ['block5c_bn[0][0]']             \n",
      " )                              720)                                                              \n",
      "                                                                                                  \n",
      " block5c_se_squeeze (GlobalAver  (None, 720)         0           ['block5c_activation[0][0]']     \n",
      " agePooling2D)                                                                                    \n",
      "                                                                                                  \n",
      " block5c_se_reshape (Reshape)   (None, 1, 1, 720)    0           ['block5c_se_squeeze[0][0]']     \n",
      "                                                                                                  \n",
      " block5c_se_reduce (Conv2D)     (None, 1, 1, 30)     21630       ['block5c_se_reshape[0][0]']     \n",
      "                                                                                                  \n",
      " block5c_se_expand (Conv2D)     (None, 1, 1, 720)    22320       ['block5c_se_reduce[0][0]']      \n",
      "                                                                                                  \n",
      " block5c_se_excite (Multiply)   (None, None, None,   0           ['block5c_activation[0][0]',     \n",
      "                                720)                              'block5c_se_expand[0][0]']      \n",
      "                                                                                                  \n",
      " block5c_project_conv (Conv2D)  (None, None, None,   86400       ['block5c_se_excite[0][0]']      \n",
      "                                120)                                                              \n",
      "                                                                                                  \n",
      " block5c_project_bn (BatchNorma  (None, None, None,   480        ['block5c_project_conv[0][0]']   \n",
      " lization)                      120)                                                              \n",
      "                                                                                                  \n",
      " block5c_add (Add)              (None, None, None,   0           ['block5c_project_bn[0][0]',     \n",
      "                                120)                              'block5b_add[0][0]']            \n",
      "                                                                                                  \n",
      " block5d_expand_conv (Conv2D)   (None, None, None,   86400       ['block5c_add[0][0]']            \n",
      "                                720)                                                              \n"
     ]
    },
    {
     "name": "stdout",
     "output_type": "stream",
     "text": [
      "                                                                                                  \n",
      " block5d_expand_bn (BatchNormal  (None, None, None,   2880       ['block5d_expand_conv[0][0]']    \n",
      " ization)                       720)                                                              \n",
      "                                                                                                  \n",
      " block5d_expand_activation (Act  (None, None, None,   0          ['block5d_expand_bn[0][0]']      \n",
      " ivation)                       720)                                                              \n",
      "                                                                                                  \n",
      " block5d_dwconv2 (DepthwiseConv  (None, None, None,   6480       ['block5d_expand_activation[0][0]\n",
      " 2D)                            720)                             ']                               \n",
      "                                                                                                  \n",
      " block5d_bn (BatchNormalization  (None, None, None,   2880       ['block5d_dwconv2[0][0]']        \n",
      " )                              720)                                                              \n",
      "                                                                                                  \n",
      " block5d_activation (Activation  (None, None, None,   0          ['block5d_bn[0][0]']             \n",
      " )                              720)                                                              \n",
      "                                                                                                  \n",
      " block5d_se_squeeze (GlobalAver  (None, 720)         0           ['block5d_activation[0][0]']     \n",
      " agePooling2D)                                                                                    \n",
      "                                                                                                  \n",
      " block5d_se_reshape (Reshape)   (None, 1, 1, 720)    0           ['block5d_se_squeeze[0][0]']     \n",
      "                                                                                                  \n",
      " block5d_se_reduce (Conv2D)     (None, 1, 1, 30)     21630       ['block5d_se_reshape[0][0]']     \n",
      "                                                                                                  \n",
      " block5d_se_expand (Conv2D)     (None, 1, 1, 720)    22320       ['block5d_se_reduce[0][0]']      \n",
      "                                                                                                  \n",
      " block5d_se_excite (Multiply)   (None, None, None,   0           ['block5d_activation[0][0]',     \n",
      "                                720)                              'block5d_se_expand[0][0]']      \n",
      "                                                                                                  \n",
      " block5d_project_conv (Conv2D)  (None, None, None,   86400       ['block5d_se_excite[0][0]']      \n",
      "                                120)                                                              \n",
      "                                                                                                  \n",
      " block5d_project_bn (BatchNorma  (None, None, None,   480        ['block5d_project_conv[0][0]']   \n",
      " lization)                      120)                                                              \n",
      "                                                                                                  \n",
      " block5d_add (Add)              (None, None, None,   0           ['block5d_project_bn[0][0]',     \n",
      "                                120)                              'block5c_add[0][0]']            \n",
      "                                                                                                  \n",
      " block5e_expand_conv (Conv2D)   (None, None, None,   86400       ['block5d_add[0][0]']            \n",
      "                                720)                                                              \n",
      "                                                                                                  \n",
      " block5e_expand_bn (BatchNormal  (None, None, None,   2880       ['block5e_expand_conv[0][0]']    \n",
      " ization)                       720)                                                              \n",
      "                                                                                                  \n",
      " block5e_expand_activation (Act  (None, None, None,   0          ['block5e_expand_bn[0][0]']      \n",
      " ivation)                       720)                                                              \n",
      "                                                                                                  \n",
      " block5e_dwconv2 (DepthwiseConv  (None, None, None,   6480       ['block5e_expand_activation[0][0]\n",
      " 2D)                            720)                             ']                               \n",
      "                                                                                                  \n",
      " block5e_bn (BatchNormalization  (None, None, None,   2880       ['block5e_dwconv2[0][0]']        \n",
      " )                              720)                                                              \n",
      "                                                                                                  \n",
      " block5e_activation (Activation  (None, None, None,   0          ['block5e_bn[0][0]']             \n",
      " )                              720)                                                              \n",
      "                                                                                                  \n",
      " block5e_se_squeeze (GlobalAver  (None, 720)         0           ['block5e_activation[0][0]']     \n",
      " agePooling2D)                                                                                    \n",
      "                                                                                                  \n",
      " block5e_se_reshape (Reshape)   (None, 1, 1, 720)    0           ['block5e_se_squeeze[0][0]']     \n",
      "                                                                                                  \n",
      " block5e_se_reduce (Conv2D)     (None, 1, 1, 30)     21630       ['block5e_se_reshape[0][0]']     \n",
      "                                                                                                  \n",
      " block5e_se_expand (Conv2D)     (None, 1, 1, 720)    22320       ['block5e_se_reduce[0][0]']      \n",
      "                                                                                                  \n",
      " block5e_se_excite (Multiply)   (None, None, None,   0           ['block5e_activation[0][0]',     \n",
      "                                720)                              'block5e_se_expand[0][0]']      \n",
      "                                                                                                  \n",
      " block5e_project_conv (Conv2D)  (None, None, None,   86400       ['block5e_se_excite[0][0]']      \n",
      "                                120)                                                              \n",
      "                                                                                                  \n",
      " block5e_project_bn (BatchNorma  (None, None, None,   480        ['block5e_project_conv[0][0]']   \n",
      " lization)                      120)                                                              \n",
      "                                                                                                  \n",
      " block5e_add (Add)              (None, None, None,   0           ['block5e_project_bn[0][0]',     \n",
      "                                120)                              'block5d_add[0][0]']            \n",
      "                                                                                                  \n",
      " block5f_expand_conv (Conv2D)   (None, None, None,   86400       ['block5e_add[0][0]']            \n",
      "                                720)                                                              \n",
      "                                                                                                  \n",
      " block5f_expand_bn (BatchNormal  (None, None, None,   2880       ['block5f_expand_conv[0][0]']    \n",
      " ization)                       720)                                                              \n",
      "                                                                                                  \n",
      " block5f_expand_activation (Act  (None, None, None,   0          ['block5f_expand_bn[0][0]']      \n"
     ]
    },
    {
     "name": "stdout",
     "output_type": "stream",
     "text": [
      " ivation)                       720)                                                              \n",
      "                                                                                                  \n",
      " block5f_dwconv2 (DepthwiseConv  (None, None, None,   6480       ['block5f_expand_activation[0][0]\n",
      " 2D)                            720)                             ']                               \n",
      "                                                                                                  \n",
      " block5f_bn (BatchNormalization  (None, None, None,   2880       ['block5f_dwconv2[0][0]']        \n",
      " )                              720)                                                              \n",
      "                                                                                                  \n",
      " block5f_activation (Activation  (None, None, None,   0          ['block5f_bn[0][0]']             \n",
      " )                              720)                                                              \n",
      "                                                                                                  \n",
      " block5f_se_squeeze (GlobalAver  (None, 720)         0           ['block5f_activation[0][0]']     \n",
      " agePooling2D)                                                                                    \n",
      "                                                                                                  \n",
      " block5f_se_reshape (Reshape)   (None, 1, 1, 720)    0           ['block5f_se_squeeze[0][0]']     \n",
      "                                                                                                  \n",
      " block5f_se_reduce (Conv2D)     (None, 1, 1, 30)     21630       ['block5f_se_reshape[0][0]']     \n",
      "                                                                                                  \n",
      " block5f_se_expand (Conv2D)     (None, 1, 1, 720)    22320       ['block5f_se_reduce[0][0]']      \n",
      "                                                                                                  \n",
      " block5f_se_excite (Multiply)   (None, None, None,   0           ['block5f_activation[0][0]',     \n",
      "                                720)                              'block5f_se_expand[0][0]']      \n",
      "                                                                                                  \n",
      " block5f_project_conv (Conv2D)  (None, None, None,   86400       ['block5f_se_excite[0][0]']      \n",
      "                                120)                                                              \n",
      "                                                                                                  \n",
      " block5f_project_bn (BatchNorma  (None, None, None,   480        ['block5f_project_conv[0][0]']   \n",
      " lization)                      120)                                                              \n",
      "                                                                                                  \n",
      " block5f_add (Add)              (None, None, None,   0           ['block5f_project_bn[0][0]',     \n",
      "                                120)                              'block5e_add[0][0]']            \n",
      "                                                                                                  \n",
      " block6a_expand_conv (Conv2D)   (None, None, None,   86400       ['block5f_add[0][0]']            \n",
      "                                720)                                                              \n",
      "                                                                                                  \n",
      " block6a_expand_bn (BatchNormal  (None, None, None,   2880       ['block6a_expand_conv[0][0]']    \n",
      " ization)                       720)                                                              \n",
      "                                                                                                  \n",
      " block6a_expand_activation (Act  (None, None, None,   0          ['block6a_expand_bn[0][0]']      \n",
      " ivation)                       720)                                                              \n",
      "                                                                                                  \n",
      " block6a_dwconv2 (DepthwiseConv  (None, None, None,   6480       ['block6a_expand_activation[0][0]\n",
      " 2D)                            720)                             ']                               \n",
      "                                                                                                  \n",
      " block6a_bn (BatchNormalization  (None, None, None,   2880       ['block6a_dwconv2[0][0]']        \n",
      " )                              720)                                                              \n",
      "                                                                                                  \n",
      " block6a_activation (Activation  (None, None, None,   0          ['block6a_bn[0][0]']             \n",
      " )                              720)                                                              \n",
      "                                                                                                  \n",
      " block6a_se_squeeze (GlobalAver  (None, 720)         0           ['block6a_activation[0][0]']     \n",
      " agePooling2D)                                                                                    \n",
      "                                                                                                  \n",
      " block6a_se_reshape (Reshape)   (None, 1, 1, 720)    0           ['block6a_se_squeeze[0][0]']     \n",
      "                                                                                                  \n",
      " block6a_se_reduce (Conv2D)     (None, 1, 1, 30)     21630       ['block6a_se_reshape[0][0]']     \n",
      "                                                                                                  \n",
      " block6a_se_expand (Conv2D)     (None, 1, 1, 720)    22320       ['block6a_se_reduce[0][0]']      \n",
      "                                                                                                  \n",
      " block6a_se_excite (Multiply)   (None, None, None,   0           ['block6a_activation[0][0]',     \n",
      "                                720)                              'block6a_se_expand[0][0]']      \n",
      "                                                                                                  \n",
      " block6a_project_conv (Conv2D)  (None, None, None,   149760      ['block6a_se_excite[0][0]']      \n",
      "                                208)                                                              \n",
      "                                                                                                  \n",
      " block6a_project_bn (BatchNorma  (None, None, None,   832        ['block6a_project_conv[0][0]']   \n",
      " lization)                      208)                                                              \n",
      "                                                                                                  \n",
      " block6b_expand_conv (Conv2D)   (None, None, None,   259584      ['block6a_project_bn[0][0]']     \n",
      "                                1248)                                                             \n",
      "                                                                                                  \n",
      " block6b_expand_bn (BatchNormal  (None, None, None,   4992       ['block6b_expand_conv[0][0]']    \n",
      " ization)                       1248)                                                             \n",
      "                                                                                                  \n",
      " block6b_expand_activation (Act  (None, None, None,   0          ['block6b_expand_bn[0][0]']      \n",
      " ivation)                       1248)                                                             \n",
      "                                                                                                  \n",
      " block6b_dwconv2 (DepthwiseConv  (None, None, None,   11232      ['block6b_expand_activation[0][0]\n",
      " 2D)                            1248)                            ']                               \n",
      "                                                                                                  \n",
      " block6b_bn (BatchNormalization  (None, None, None,   4992       ['block6b_dwconv2[0][0]']        \n",
      " )                              1248)                                                             \n",
      "                                                                                                  \n"
     ]
    },
    {
     "name": "stdout",
     "output_type": "stream",
     "text": [
      " block6b_activation (Activation  (None, None, None,   0          ['block6b_bn[0][0]']             \n",
      " )                              1248)                                                             \n",
      "                                                                                                  \n",
      " block6b_se_squeeze (GlobalAver  (None, 1248)        0           ['block6b_activation[0][0]']     \n",
      " agePooling2D)                                                                                    \n",
      "                                                                                                  \n",
      " block6b_se_reshape (Reshape)   (None, 1, 1, 1248)   0           ['block6b_se_squeeze[0][0]']     \n",
      "                                                                                                  \n",
      " block6b_se_reduce (Conv2D)     (None, 1, 1, 52)     64948       ['block6b_se_reshape[0][0]']     \n",
      "                                                                                                  \n",
      " block6b_se_expand (Conv2D)     (None, 1, 1, 1248)   66144       ['block6b_se_reduce[0][0]']      \n",
      "                                                                                                  \n",
      " block6b_se_excite (Multiply)   (None, None, None,   0           ['block6b_activation[0][0]',     \n",
      "                                1248)                             'block6b_se_expand[0][0]']      \n",
      "                                                                                                  \n",
      " block6b_project_conv (Conv2D)  (None, None, None,   259584      ['block6b_se_excite[0][0]']      \n",
      "                                208)                                                              \n",
      "                                                                                                  \n",
      " block6b_project_bn (BatchNorma  (None, None, None,   832        ['block6b_project_conv[0][0]']   \n",
      " lization)                      208)                                                              \n",
      "                                                                                                  \n",
      " block6b_add (Add)              (None, None, None,   0           ['block6b_project_bn[0][0]',     \n",
      "                                208)                              'block6a_project_bn[0][0]']     \n",
      "                                                                                                  \n",
      " block6c_expand_conv (Conv2D)   (None, None, None,   259584      ['block6b_add[0][0]']            \n",
      "                                1248)                                                             \n",
      "                                                                                                  \n",
      " block6c_expand_bn (BatchNormal  (None, None, None,   4992       ['block6c_expand_conv[0][0]']    \n",
      " ization)                       1248)                                                             \n",
      "                                                                                                  \n",
      " block6c_expand_activation (Act  (None, None, None,   0          ['block6c_expand_bn[0][0]']      \n",
      " ivation)                       1248)                                                             \n",
      "                                                                                                  \n",
      " block6c_dwconv2 (DepthwiseConv  (None, None, None,   11232      ['block6c_expand_activation[0][0]\n",
      " 2D)                            1248)                            ']                               \n",
      "                                                                                                  \n",
      " block6c_bn (BatchNormalization  (None, None, None,   4992       ['block6c_dwconv2[0][0]']        \n",
      " )                              1248)                                                             \n",
      "                                                                                                  \n",
      " block6c_activation (Activation  (None, None, None,   0          ['block6c_bn[0][0]']             \n",
      " )                              1248)                                                             \n",
      "                                                                                                  \n",
      " block6c_se_squeeze (GlobalAver  (None, 1248)        0           ['block6c_activation[0][0]']     \n",
      " agePooling2D)                                                                                    \n",
      "                                                                                                  \n",
      " block6c_se_reshape (Reshape)   (None, 1, 1, 1248)   0           ['block6c_se_squeeze[0][0]']     \n",
      "                                                                                                  \n",
      " block6c_se_reduce (Conv2D)     (None, 1, 1, 52)     64948       ['block6c_se_reshape[0][0]']     \n",
      "                                                                                                  \n",
      " block6c_se_expand (Conv2D)     (None, 1, 1, 1248)   66144       ['block6c_se_reduce[0][0]']      \n",
      "                                                                                                  \n",
      " block6c_se_excite (Multiply)   (None, None, None,   0           ['block6c_activation[0][0]',     \n",
      "                                1248)                             'block6c_se_expand[0][0]']      \n",
      "                                                                                                  \n",
      " block6c_project_conv (Conv2D)  (None, None, None,   259584      ['block6c_se_excite[0][0]']      \n",
      "                                208)                                                              \n",
      "                                                                                                  \n",
      " block6c_project_bn (BatchNorma  (None, None, None,   832        ['block6c_project_conv[0][0]']   \n",
      " lization)                      208)                                                              \n",
      "                                                                                                  \n",
      " block6c_add (Add)              (None, None, None,   0           ['block6c_project_bn[0][0]',     \n",
      "                                208)                              'block6b_add[0][0]']            \n",
      "                                                                                                  \n",
      " block6d_expand_conv (Conv2D)   (None, None, None,   259584      ['block6c_add[0][0]']            \n",
      "                                1248)                                                             \n",
      "                                                                                                  \n",
      " block6d_expand_bn (BatchNormal  (None, None, None,   4992       ['block6d_expand_conv[0][0]']    \n",
      " ization)                       1248)                                                             \n",
      "                                                                                                  \n",
      " block6d_expand_activation (Act  (None, None, None,   0          ['block6d_expand_bn[0][0]']      \n",
      " ivation)                       1248)                                                             \n",
      "                                                                                                  \n",
      " block6d_dwconv2 (DepthwiseConv  (None, None, None,   11232      ['block6d_expand_activation[0][0]\n",
      " 2D)                            1248)                            ']                               \n",
      "                                                                                                  \n",
      " block6d_bn (BatchNormalization  (None, None, None,   4992       ['block6d_dwconv2[0][0]']        \n",
      " )                              1248)                                                             \n",
      "                                                                                                  \n",
      " block6d_activation (Activation  (None, None, None,   0          ['block6d_bn[0][0]']             \n",
      " )                              1248)                                                             \n",
      "                                                                                                  \n",
      " block6d_se_squeeze (GlobalAver  (None, 1248)        0           ['block6d_activation[0][0]']     \n",
      " agePooling2D)                                                                                    \n"
     ]
    },
    {
     "name": "stdout",
     "output_type": "stream",
     "text": [
      "                                                                                                  \n",
      " block6d_se_reshape (Reshape)   (None, 1, 1, 1248)   0           ['block6d_se_squeeze[0][0]']     \n",
      "                                                                                                  \n",
      " block6d_se_reduce (Conv2D)     (None, 1, 1, 52)     64948       ['block6d_se_reshape[0][0]']     \n",
      "                                                                                                  \n",
      " block6d_se_expand (Conv2D)     (None, 1, 1, 1248)   66144       ['block6d_se_reduce[0][0]']      \n",
      "                                                                                                  \n",
      " block6d_se_excite (Multiply)   (None, None, None,   0           ['block6d_activation[0][0]',     \n",
      "                                1248)                             'block6d_se_expand[0][0]']      \n",
      "                                                                                                  \n",
      " block6d_project_conv (Conv2D)  (None, None, None,   259584      ['block6d_se_excite[0][0]']      \n",
      "                                208)                                                              \n",
      "                                                                                                  \n",
      " block6d_project_bn (BatchNorma  (None, None, None,   832        ['block6d_project_conv[0][0]']   \n",
      " lization)                      208)                                                              \n",
      "                                                                                                  \n",
      " block6d_add (Add)              (None, None, None,   0           ['block6d_project_bn[0][0]',     \n",
      "                                208)                              'block6c_add[0][0]']            \n",
      "                                                                                                  \n",
      " block6e_expand_conv (Conv2D)   (None, None, None,   259584      ['block6d_add[0][0]']            \n",
      "                                1248)                                                             \n",
      "                                                                                                  \n",
      " block6e_expand_bn (BatchNormal  (None, None, None,   4992       ['block6e_expand_conv[0][0]']    \n",
      " ization)                       1248)                                                             \n",
      "                                                                                                  \n",
      " block6e_expand_activation (Act  (None, None, None,   0          ['block6e_expand_bn[0][0]']      \n",
      " ivation)                       1248)                                                             \n",
      "                                                                                                  \n",
      " block6e_dwconv2 (DepthwiseConv  (None, None, None,   11232      ['block6e_expand_activation[0][0]\n",
      " 2D)                            1248)                            ']                               \n",
      "                                                                                                  \n",
      " block6e_bn (BatchNormalization  (None, None, None,   4992       ['block6e_dwconv2[0][0]']        \n",
      " )                              1248)                                                             \n",
      "                                                                                                  \n",
      " block6e_activation (Activation  (None, None, None,   0          ['block6e_bn[0][0]']             \n",
      " )                              1248)                                                             \n",
      "                                                                                                  \n",
      " block6e_se_squeeze (GlobalAver  (None, 1248)        0           ['block6e_activation[0][0]']     \n",
      " agePooling2D)                                                                                    \n",
      "                                                                                                  \n",
      " block6e_se_reshape (Reshape)   (None, 1, 1, 1248)   0           ['block6e_se_squeeze[0][0]']     \n",
      "                                                                                                  \n",
      " block6e_se_reduce (Conv2D)     (None, 1, 1, 52)     64948       ['block6e_se_reshape[0][0]']     \n",
      "                                                                                                  \n",
      " block6e_se_expand (Conv2D)     (None, 1, 1, 1248)   66144       ['block6e_se_reduce[0][0]']      \n",
      "                                                                                                  \n",
      " block6e_se_excite (Multiply)   (None, None, None,   0           ['block6e_activation[0][0]',     \n",
      "                                1248)                             'block6e_se_expand[0][0]']      \n",
      "                                                                                                  \n",
      " block6e_project_conv (Conv2D)  (None, None, None,   259584      ['block6e_se_excite[0][0]']      \n",
      "                                208)                                                              \n",
      "                                                                                                  \n",
      " block6e_project_bn (BatchNorma  (None, None, None,   832        ['block6e_project_conv[0][0]']   \n",
      " lization)                      208)                                                              \n",
      "                                                                                                  \n",
      " block6e_add (Add)              (None, None, None,   0           ['block6e_project_bn[0][0]',     \n",
      "                                208)                              'block6d_add[0][0]']            \n",
      "                                                                                                  \n",
      " block6f_expand_conv (Conv2D)   (None, None, None,   259584      ['block6e_add[0][0]']            \n",
      "                                1248)                                                             \n",
      "                                                                                                  \n",
      " block6f_expand_bn (BatchNormal  (None, None, None,   4992       ['block6f_expand_conv[0][0]']    \n",
      " ization)                       1248)                                                             \n",
      "                                                                                                  \n",
      " block6f_expand_activation (Act  (None, None, None,   0          ['block6f_expand_bn[0][0]']      \n",
      " ivation)                       1248)                                                             \n",
      "                                                                                                  \n",
      " block6f_dwconv2 (DepthwiseConv  (None, None, None,   11232      ['block6f_expand_activation[0][0]\n",
      " 2D)                            1248)                            ']                               \n",
      "                                                                                                  \n",
      " block6f_bn (BatchNormalization  (None, None, None,   4992       ['block6f_dwconv2[0][0]']        \n",
      " )                              1248)                                                             \n",
      "                                                                                                  \n",
      " block6f_activation (Activation  (None, None, None,   0          ['block6f_bn[0][0]']             \n",
      " )                              1248)                                                             \n",
      "                                                                                                  \n",
      " block6f_se_squeeze (GlobalAver  (None, 1248)        0           ['block6f_activation[0][0]']     \n",
      " agePooling2D)                                                                                    \n",
      "                                                                                                  \n",
      " block6f_se_reshape (Reshape)   (None, 1, 1, 1248)   0           ['block6f_se_squeeze[0][0]']     \n",
      "                                                                                                  \n",
      " block6f_se_reduce (Conv2D)     (None, 1, 1, 52)     64948       ['block6f_se_reshape[0][0]']     \n",
      "                                                                                                  \n"
     ]
    },
    {
     "name": "stdout",
     "output_type": "stream",
     "text": [
      " block6f_se_expand (Conv2D)     (None, 1, 1, 1248)   66144       ['block6f_se_reduce[0][0]']      \n",
      "                                                                                                  \n",
      " block6f_se_excite (Multiply)   (None, None, None,   0           ['block6f_activation[0][0]',     \n",
      "                                1248)                             'block6f_se_expand[0][0]']      \n",
      "                                                                                                  \n",
      " block6f_project_conv (Conv2D)  (None, None, None,   259584      ['block6f_se_excite[0][0]']      \n",
      "                                208)                                                              \n",
      "                                                                                                  \n",
      " block6f_project_bn (BatchNorma  (None, None, None,   832        ['block6f_project_conv[0][0]']   \n",
      " lization)                      208)                                                              \n",
      "                                                                                                  \n",
      " block6f_add (Add)              (None, None, None,   0           ['block6f_project_bn[0][0]',     \n",
      "                                208)                              'block6e_add[0][0]']            \n",
      "                                                                                                  \n",
      " block6g_expand_conv (Conv2D)   (None, None, None,   259584      ['block6f_add[0][0]']            \n",
      "                                1248)                                                             \n",
      "                                                                                                  \n",
      " block6g_expand_bn (BatchNormal  (None, None, None,   4992       ['block6g_expand_conv[0][0]']    \n",
      " ization)                       1248)                                                             \n",
      "                                                                                                  \n",
      " block6g_expand_activation (Act  (None, None, None,   0          ['block6g_expand_bn[0][0]']      \n",
      " ivation)                       1248)                                                             \n",
      "                                                                                                  \n",
      " block6g_dwconv2 (DepthwiseConv  (None, None, None,   11232      ['block6g_expand_activation[0][0]\n",
      " 2D)                            1248)                            ']                               \n",
      "                                                                                                  \n",
      " block6g_bn (BatchNormalization  (None, None, None,   4992       ['block6g_dwconv2[0][0]']        \n",
      " )                              1248)                                                             \n",
      "                                                                                                  \n",
      " block6g_activation (Activation  (None, None, None,   0          ['block6g_bn[0][0]']             \n",
      " )                              1248)                                                             \n",
      "                                                                                                  \n",
      " block6g_se_squeeze (GlobalAver  (None, 1248)        0           ['block6g_activation[0][0]']     \n",
      " agePooling2D)                                                                                    \n",
      "                                                                                                  \n",
      " block6g_se_reshape (Reshape)   (None, 1, 1, 1248)   0           ['block6g_se_squeeze[0][0]']     \n",
      "                                                                                                  \n",
      " block6g_se_reduce (Conv2D)     (None, 1, 1, 52)     64948       ['block6g_se_reshape[0][0]']     \n",
      "                                                                                                  \n",
      " block6g_se_expand (Conv2D)     (None, 1, 1, 1248)   66144       ['block6g_se_reduce[0][0]']      \n",
      "                                                                                                  \n",
      " block6g_se_excite (Multiply)   (None, None, None,   0           ['block6g_activation[0][0]',     \n",
      "                                1248)                             'block6g_se_expand[0][0]']      \n",
      "                                                                                                  \n",
      " block6g_project_conv (Conv2D)  (None, None, None,   259584      ['block6g_se_excite[0][0]']      \n",
      "                                208)                                                              \n",
      "                                                                                                  \n",
      " block6g_project_bn (BatchNorma  (None, None, None,   832        ['block6g_project_conv[0][0]']   \n",
      " lization)                      208)                                                              \n",
      "                                                                                                  \n",
      " block6g_add (Add)              (None, None, None,   0           ['block6g_project_bn[0][0]',     \n",
      "                                208)                              'block6f_add[0][0]']            \n",
      "                                                                                                  \n",
      " block6h_expand_conv (Conv2D)   (None, None, None,   259584      ['block6g_add[0][0]']            \n",
      "                                1248)                                                             \n",
      "                                                                                                  \n",
      " block6h_expand_bn (BatchNormal  (None, None, None,   4992       ['block6h_expand_conv[0][0]']    \n",
      " ization)                       1248)                                                             \n",
      "                                                                                                  \n",
      " block6h_expand_activation (Act  (None, None, None,   0          ['block6h_expand_bn[0][0]']      \n",
      " ivation)                       1248)                                                             \n",
      "                                                                                                  \n",
      " block6h_dwconv2 (DepthwiseConv  (None, None, None,   11232      ['block6h_expand_activation[0][0]\n",
      " 2D)                            1248)                            ']                               \n",
      "                                                                                                  \n",
      " block6h_bn (BatchNormalization  (None, None, None,   4992       ['block6h_dwconv2[0][0]']        \n",
      " )                              1248)                                                             \n",
      "                                                                                                  \n",
      " block6h_activation (Activation  (None, None, None,   0          ['block6h_bn[0][0]']             \n",
      " )                              1248)                                                             \n",
      "                                                                                                  \n",
      " block6h_se_squeeze (GlobalAver  (None, 1248)        0           ['block6h_activation[0][0]']     \n",
      " agePooling2D)                                                                                    \n",
      "                                                                                                  \n",
      " block6h_se_reshape (Reshape)   (None, 1, 1, 1248)   0           ['block6h_se_squeeze[0][0]']     \n",
      "                                                                                                  \n",
      " block6h_se_reduce (Conv2D)     (None, 1, 1, 52)     64948       ['block6h_se_reshape[0][0]']     \n",
      "                                                                                                  \n",
      " block6h_se_expand (Conv2D)     (None, 1, 1, 1248)   66144       ['block6h_se_reduce[0][0]']      \n",
      "                                                                                                  \n",
      " block6h_se_excite (Multiply)   (None, None, None,   0           ['block6h_activation[0][0]',     \n",
      "                                1248)                             'block6h_se_expand[0][0]']      \n",
      "                                                                                                  \n"
     ]
    },
    {
     "name": "stdout",
     "output_type": "stream",
     "text": [
      " block6h_project_conv (Conv2D)  (None, None, None,   259584      ['block6h_se_excite[0][0]']      \n",
      "                                208)                                                              \n",
      "                                                                                                  \n",
      " block6h_project_bn (BatchNorma  (None, None, None,   832        ['block6h_project_conv[0][0]']   \n",
      " lization)                      208)                                                              \n",
      "                                                                                                  \n",
      " block6h_add (Add)              (None, None, None,   0           ['block6h_project_bn[0][0]',     \n",
      "                                208)                              'block6g_add[0][0]']            \n",
      "                                                                                                  \n",
      " block6i_expand_conv (Conv2D)   (None, None, None,   259584      ['block6h_add[0][0]']            \n",
      "                                1248)                                                             \n",
      "                                                                                                  \n",
      " block6i_expand_bn (BatchNormal  (None, None, None,   4992       ['block6i_expand_conv[0][0]']    \n",
      " ization)                       1248)                                                             \n",
      "                                                                                                  \n",
      " block6i_expand_activation (Act  (None, None, None,   0          ['block6i_expand_bn[0][0]']      \n",
      " ivation)                       1248)                                                             \n",
      "                                                                                                  \n",
      " block6i_dwconv2 (DepthwiseConv  (None, None, None,   11232      ['block6i_expand_activation[0][0]\n",
      " 2D)                            1248)                            ']                               \n",
      "                                                                                                  \n",
      " block6i_bn (BatchNormalization  (None, None, None,   4992       ['block6i_dwconv2[0][0]']        \n",
      " )                              1248)                                                             \n",
      "                                                                                                  \n",
      " block6i_activation (Activation  (None, None, None,   0          ['block6i_bn[0][0]']             \n",
      " )                              1248)                                                             \n",
      "                                                                                                  \n",
      " block6i_se_squeeze (GlobalAver  (None, 1248)        0           ['block6i_activation[0][0]']     \n",
      " agePooling2D)                                                                                    \n",
      "                                                                                                  \n",
      " block6i_se_reshape (Reshape)   (None, 1, 1, 1248)   0           ['block6i_se_squeeze[0][0]']     \n",
      "                                                                                                  \n",
      " block6i_se_reduce (Conv2D)     (None, 1, 1, 52)     64948       ['block6i_se_reshape[0][0]']     \n",
      "                                                                                                  \n",
      " block6i_se_expand (Conv2D)     (None, 1, 1, 1248)   66144       ['block6i_se_reduce[0][0]']      \n",
      "                                                                                                  \n",
      " block6i_se_excite (Multiply)   (None, None, None,   0           ['block6i_activation[0][0]',     \n",
      "                                1248)                             'block6i_se_expand[0][0]']      \n",
      "                                                                                                  \n",
      " block6i_project_conv (Conv2D)  (None, None, None,   259584      ['block6i_se_excite[0][0]']      \n",
      "                                208)                                                              \n",
      "                                                                                                  \n",
      " block6i_project_bn (BatchNorma  (None, None, None,   832        ['block6i_project_conv[0][0]']   \n",
      " lization)                      208)                                                              \n",
      "                                                                                                  \n",
      " block6i_add (Add)              (None, None, None,   0           ['block6i_project_bn[0][0]',     \n",
      "                                208)                              'block6h_add[0][0]']            \n",
      "                                                                                                  \n",
      " block6j_expand_conv (Conv2D)   (None, None, None,   259584      ['block6i_add[0][0]']            \n",
      "                                1248)                                                             \n",
      "                                                                                                  \n",
      " block6j_expand_bn (BatchNormal  (None, None, None,   4992       ['block6j_expand_conv[0][0]']    \n",
      " ization)                       1248)                                                             \n",
      "                                                                                                  \n",
      " block6j_expand_activation (Act  (None, None, None,   0          ['block6j_expand_bn[0][0]']      \n",
      " ivation)                       1248)                                                             \n",
      "                                                                                                  \n",
      " block6j_dwconv2 (DepthwiseConv  (None, None, None,   11232      ['block6j_expand_activation[0][0]\n",
      " 2D)                            1248)                            ']                               \n",
      "                                                                                                  \n",
      " block6j_bn (BatchNormalization  (None, None, None,   4992       ['block6j_dwconv2[0][0]']        \n",
      " )                              1248)                                                             \n",
      "                                                                                                  \n",
      " block6j_activation (Activation  (None, None, None,   0          ['block6j_bn[0][0]']             \n",
      " )                              1248)                                                             \n",
      "                                                                                                  \n",
      " block6j_se_squeeze (GlobalAver  (None, 1248)        0           ['block6j_activation[0][0]']     \n",
      " agePooling2D)                                                                                    \n",
      "                                                                                                  \n",
      " block6j_se_reshape (Reshape)   (None, 1, 1, 1248)   0           ['block6j_se_squeeze[0][0]']     \n",
      "                                                                                                  \n",
      " block6j_se_reduce (Conv2D)     (None, 1, 1, 52)     64948       ['block6j_se_reshape[0][0]']     \n",
      "                                                                                                  \n",
      " block6j_se_expand (Conv2D)     (None, 1, 1, 1248)   66144       ['block6j_se_reduce[0][0]']      \n",
      "                                                                                                  \n",
      " block6j_se_excite (Multiply)   (None, None, None,   0           ['block6j_activation[0][0]',     \n",
      "                                1248)                             'block6j_se_expand[0][0]']      \n",
      "                                                                                                  \n",
      " block6j_project_conv (Conv2D)  (None, None, None,   259584      ['block6j_se_excite[0][0]']      \n",
      "                                208)                                                              \n",
      "                                                                                                  \n",
      " block6j_project_bn (BatchNorma  (None, None, None,   832        ['block6j_project_conv[0][0]']   \n",
      " lization)                      208)                                                              \n"
     ]
    },
    {
     "name": "stdout",
     "output_type": "stream",
     "text": [
      "                                                                                                  \n",
      " block6j_add (Add)              (None, None, None,   0           ['block6j_project_bn[0][0]',     \n",
      "                                208)                              'block6i_add[0][0]']            \n",
      "                                                                                                  \n",
      " top_conv (Conv2D)              (None, None, None,   292864      ['block6j_add[0][0]']            \n",
      "                                1408)                                                             \n",
      "                                                                                                  \n",
      " top_bn (BatchNormalization)    (None, None, None,   5632        ['top_conv[0][0]']               \n",
      "                                1408)                                                             \n",
      "                                                                                                  \n",
      " top_activation (Activation)    (None, None, None,   0           ['top_bn[0][0]']                 \n",
      "                                1408)                                                             \n",
      "                                                                                                  \n",
      " global_average_pooling2d (Glob  (None, 1408)        0           ['top_activation[0][0]']         \n",
      " alAveragePooling2D)                                                                              \n",
      "                                                                                                  \n",
      " dense (Dense)                  (None, 12)           16908       ['global_average_pooling2d[0][0]'\n",
      "                                                                 ]                                \n",
      "                                                                                                  \n",
      "==================================================================================================\n",
      "Total params: 8,786,282\n",
      "Trainable params: 8,703,994\n",
      "Non-trainable params: 82,288\n",
      "__________________________________________________________________________________________________\n"
     ]
    }
   ],
   "source": [
    "# Add the pretrained layers\n",
    "pretrained_model = keras.applications.EfficientNetV2B2(include_top=False, weights='imagenet')\n",
    "\n",
    "# Add GlobalAveragePooling2D layer\n",
    "average_pooling = keras.layers.GlobalAveragePooling2D()(pretrained_model.output)\n",
    "\n",
    "# Add the output layer\n",
    "output = keras.layers.Dense(n_classes, activation='softmax')(average_pooling)\n",
    "\n",
    "# Get the model\n",
    "model = keras.Model(inputs=pretrained_model.input, outputs=output)\n",
    "\n",
    "model.summary()"
   ]
  },
  {
   "cell_type": "code",
   "execution_count": 15,
   "id": "SxYeZqSTKlDO",
   "metadata": {
    "executionInfo": {
     "elapsed": 122,
     "status": "ok",
     "timestamp": 1650327598207,
     "user": {
      "displayName": "Yixi Liang",
      "userId": "08617022926448896029"
     },
     "user_tz": 240
    },
    "id": "SxYeZqSTKlDO"
   },
   "outputs": [],
   "source": [
    "# For each layer in the pretrained model\n",
    "for layer in pretrained_model.layers:\n",
    "    # Freeze the layer\n",
    "    layer.trainable = False"
   ]
  },
  {
   "cell_type": "code",
   "execution_count": 16,
   "id": "pWHL0qcpKlTE",
   "metadata": {
    "executionInfo": {
     "elapsed": 2,
     "status": "ok",
     "timestamp": 1650328297469,
     "user": {
      "displayName": "Yixi Liang",
      "userId": "08617022926448896029"
     },
     "user_tz": 240
    },
    "id": "pWHL0qcpKlTE"
   },
   "outputs": [],
   "source": [
    "# ModelCheckpoint callback\n",
    "model_checkpoint_cb = keras.callbacks.ModelCheckpoint(filepath=abspath_curr + '/result/model/model.h5',\n",
    "                                                      save_best_only=True,\n",
    "                                                      save_weights_only=True)\n",
    "\n",
    "# EarlyStopping callback\n",
    "early_stopping_cb = keras.callbacks.EarlyStopping(patience=2,\n",
    "                                                  restore_best_weights=True)\n",
    "\n",
    "# ReduceLROnPlateau callback\n",
    "reduce_lr_on_plateau_cb = keras.callbacks.ReduceLROnPlateau(factor=0.1,\n",
    "                                                            patience=1)"
   ]
  },
  {
   "cell_type": "code",
   "execution_count": 17,
   "id": "5RUjJDUJKlWM",
   "metadata": {
    "executionInfo": {
     "elapsed": 117,
     "status": "ok",
     "timestamp": 1650327602852,
     "user": {
      "displayName": "Yixi Liang",
      "userId": "08617022926448896029"
     },
     "user_tz": 240
    },
    "id": "5RUjJDUJKlWM"
   },
   "outputs": [],
   "source": [
    "# Compile the model\n",
    "model.compile(loss='categorical_crossentropy',\n",
    "             optimizer = tf.keras.optimizers.Adam(learning_rate=0.01), \n",
    "             metrics=['accuracy']) "
   ]
  },
  {
   "cell_type": "code",
   "execution_count": 18,
   "id": "DaZHfyOGKqos",
   "metadata": {
    "colab": {
     "base_uri": "https://localhost:8080/",
     "height": 1000
    },
    "executionInfo": {
     "elapsed": 3011,
     "status": "error",
     "timestamp": 1650328326337,
     "user": {
      "displayName": "Yixi Liang",
      "userId": "08617022926448896029"
     },
     "user_tz": 240
    },
    "id": "DaZHfyOGKqos",
    "outputId": "95e7e128-27c0-40db-9e6c-660c87ea4b76"
   },
   "outputs": [
    {
     "name": "stdout",
     "output_type": "stream",
     "text": [
      "Epoch 1/5\n",
      "238/238 [==============================] - 35s 81ms/step - loss: 0.8868 - accuracy: 0.7132 - val_loss: 0.2867 - val_accuracy: 0.9095 - lr: 0.0100\n",
      "Epoch 2/5\n",
      "238/238 [==============================] - 15s 63ms/step - loss: 0.3796 - accuracy: 0.8747 - val_loss: 0.4075 - val_accuracy: 0.8874 - lr: 0.0100\n",
      "Epoch 3/5\n",
      "238/238 [==============================] - 15s 64ms/step - loss: 0.1715 - accuracy: 0.9479 - val_loss: 0.1659 - val_accuracy: 0.9568 - lr: 1.0000e-03\n",
      "Epoch 4/5\n",
      "238/238 [==============================] - 16s 66ms/step - loss: 0.1368 - accuracy: 0.9613 - val_loss: 0.1510 - val_accuracy: 0.9684 - lr: 1.0000e-03\n",
      "Epoch 5/5\n",
      "238/238 [==============================] - 16s 65ms/step - loss: 0.1269 - accuracy: 0.9671 - val_loss: 0.1448 - val_accuracy: 0.9695 - lr: 1.0000e-03\n"
     ]
    }
   ],
   "source": [
    "# Train, evaluate and save the best model\n",
    "history = model.fit(data_train,\n",
    "                    epochs=5,\n",
    "                    validation_data=data_valid,\n",
    "                    callbacks=[model_checkpoint_cb,\n",
    "                               early_stopping_cb,\n",
    "                               reduce_lr_on_plateau_cb])"
   ]
  },
  {
   "cell_type": "code",
   "execution_count": 20,
   "id": "0kBZQonWqR9r",
   "metadata": {
    "colab": {
     "base_uri": "https://localhost:8080/",
     "height": 332
    },
    "executionInfo": {
     "elapsed": 133,
     "status": "error",
     "timestamp": 1650327118867,
     "user": {
      "displayName": "Yixi Liang",
      "userId": "08617022926448896029"
     },
     "user_tz": 240
    },
    "id": "0kBZQonWqR9r",
    "outputId": "71ac6836-244b-44bb-b0e9-fa099382d706"
   },
   "outputs": [
    {
     "name": "stdout",
     "output_type": "stream",
     "text": [
      "60/60 [==============================] - 3s 51ms/step - loss: 0.1448 - accuracy: 0.9695\n"
     ]
    },
    {
     "data": {
      "text/plain": [
       "[0.14480645954608917, 0.969473659992218]"
      ]
     },
     "execution_count": 20,
     "metadata": {},
     "output_type": "execute_result"
    }
   ],
   "source": [
    "#Evaluate on full data\n",
    "model.evaluate(data_valid)"
   ]
  },
  {
   "cell_type": "code",
   "execution_count": 21,
   "id": "a4c0e89f",
   "metadata": {
    "executionInfo": {
     "elapsed": 3,
     "status": "ok",
     "timestamp": 1650319045059,
     "user": {
      "displayName": "黄河",
      "userId": "11207666093797166698"
     },
     "user_tz": 240
    },
    "id": "crm5bRITgT8Y"
   },
   "outputs": [],
   "source": [
    "# Make directory\n",
    "directory = os.path.dirname(abspath_curr + '/result/figure/')\n",
    "if not os.path.exists(directory):\n",
    "    os.makedirs(directory)"
   ]
  },
  {
   "cell_type": "code",
   "execution_count": 22,
   "id": "025cd36e",
   "metadata": {
    "colab": {
     "base_uri": "https://localhost:8080/",
     "height": 348
    },
    "executionInfo": {
     "elapsed": 1018,
     "status": "ok",
     "timestamp": 1650319046075,
     "user": {
      "displayName": "黄河",
      "userId": "11207666093797166698"
     },
     "user_tz": 240
    },
    "id": "ZucB_4TQ4APW",
    "outputId": "a2ab0b6c-5390-4bf3-92cb-7c4faafa2175"
   },
   "outputs": [
    {
     "data": {
      "image/png": "[encoded data removed]",
      "text/plain": [
       "<Figure size 576x360 with 1 Axes>"
      ]
     },
     "metadata": {
      "needs_background": "light"
     },
     "output_type": "display_data"
    }
   ],
   "source": [
    "import pandas as pd\n",
    "\n",
    "# Create a figure\n",
    "pd.DataFrame(history.history).plot(figsize=(8, 5))\n",
    "\n",
    "# Set grid\n",
    "plt.grid(True)\n",
    "\n",
    "# Save and show the figure\n",
    "plt.tight_layout()\n",
    "plt.savefig(abspath_curr + '/result/figure/learning_curve_before_unfreezing-test2.pdf')\n",
    "plt.show()"
   ]
  },
  {
   "cell_type": "markdown",
   "id": "9d726dcd",
   "metadata": {
    "id": "Ey_jrLDl0bn4"
   },
   "source": [
    "## Unfreezing the pretrained layers"
   ]
  },
  {
   "cell_type": "code",
   "execution_count": null,
   "id": "eGFfhv12s6nz",
   "metadata": {
    "colab": {
     "base_uri": "https://localhost:8080/"
    },
    "executionInfo": {
     "elapsed": 270,
     "status": "ok",
     "timestamp": 1650319406063,
     "user": {
      "displayName": "Yixi Liang",
      "userId": "08617022926448896029"
     },
     "user_tz": 240
    },
    "id": "eGFfhv12s6nz",
    "outputId": "8cc1cd6c-6b10-4861-b965-33db232f00e6"
   },
   "outputs": [
    {
     "name": "stdout",
     "output_type": "stream",
     "text": [
      "Found 4750 files belonging to 12 classes.\n"
     ]
    }
   ],
   "source": [
    "train_data = tf.keras.preprocessing.image_dataset_from_directory(directory=train_path,\n",
    "                                                                 label_mode=\"categorical\", \n",
    "                                                                 shuffle=True,\n",
    "                                                                 image_size=(224,224),\n",
    "                                                                batch_size = 32)"
   ]
  },
  {
   "cell_type": "code",
   "execution_count": 23,
   "id": "e064e538",
   "metadata": {
    "id": "ZFgtwWQ50aky"
   },
   "outputs": [],
   "source": [
    "# For each layer in the pretrained model\n",
    "for layer in pretrained_model.layers:\n",
    "    # Unfreeze the layer\n",
    "    layer.trainable = True"
   ]
  },
  {
   "cell_type": "markdown",
   "id": "8cc167c9",
   "metadata": {
    "id": "kaNpWBGD2em3"
   },
   "source": [
    "## Compiling the model\n",
    "Here we use a lower learning rate (by a factor of 10) of Adam optimizer, so that it is less likely to compromise the pretrained weights."
   ]
  },
  {
   "cell_type": "code",
   "execution_count": 24,
   "id": "b5eb706d",
   "metadata": {
    "id": "dPiXJrdW21o5"
   },
   "outputs": [],
   "source": [
    "# Compile the model\n",
    "model.compile(optimizer=keras.optimizers.Adam(learning_rate=0.001),\n",
    "              loss='categorical_crossentropy',\n",
    "              metrics=['accuracy'])"
   ]
  },
  {
   "cell_type": "markdown",
   "id": "f246081d",
   "metadata": {
    "id": "4jF7fb1_3ypR"
   },
   "source": [
    "## Training the model"
   ]
  },
  {
   "cell_type": "code",
   "execution_count": 25,
   "id": "11d17eed",
   "metadata": {
    "colab": {
     "base_uri": "https://localhost:8080/"
    },
    "executionInfo": {
     "elapsed": 11679694,
     "status": "ok",
     "timestamp": 1649564174502,
     "user": {
      "displayName": "黄河",
      "userId": "11207666093797166698"
     },
     "user_tz": 240
    },
    "id": "RV6dVNO532HU",
    "outputId": "e955634d-bef0-4089-9350-d6af4e5315ac"
   },
   "outputs": [
    {
     "name": "stdout",
     "output_type": "stream",
     "text": [
      "Epoch 1/12\n",
      "238/238 [==============================] - 60s 191ms/step - loss: 0.6270 - accuracy: 0.8179 - val_loss: 0.1438 - val_accuracy: 0.9589 - lr: 0.0010\n",
      "Epoch 2/12\n",
      "238/238 [==============================] - 42s 177ms/step - loss: 0.2241 - accuracy: 0.9229 - val_loss: 0.1040 - val_accuracy: 0.9621 - lr: 0.0010\n",
      "Epoch 3/12\n",
      "238/238 [==============================] - 43s 178ms/step - loss: 0.1571 - accuracy: 0.9479 - val_loss: 0.0191 - val_accuracy: 0.9947 - lr: 0.0010\n",
      "Epoch 4/12\n",
      "238/238 [==============================] - 43s 181ms/step - loss: 0.1561 - accuracy: 0.9484 - val_loss: 0.0309 - val_accuracy: 0.9905 - lr: 0.0010\n",
      "Epoch 5/12\n",
      "238/238 [==============================] - 43s 180ms/step - loss: 0.0412 - accuracy: 0.9855 - val_loss: 0.0150 - val_accuracy: 0.9979 - lr: 1.0000e-04\n",
      "Epoch 6/12\n",
      "238/238 [==============================] - 42s 177ms/step - loss: 0.0175 - accuracy: 0.9961 - val_loss: 0.0138 - val_accuracy: 0.9979 - lr: 1.0000e-04\n",
      "Epoch 7/12\n",
      "238/238 [==============================] - 42s 177ms/step - loss: 0.0103 - accuracy: 0.9979 - val_loss: 0.0135 - val_accuracy: 0.9958 - lr: 1.0000e-04\n",
      "Epoch 8/12\n",
      "238/238 [==============================] - 42s 177ms/step - loss: 0.0065 - accuracy: 0.9992 - val_loss: 0.0104 - val_accuracy: 0.9979 - lr: 1.0000e-04\n",
      "Epoch 9/12\n",
      "238/238 [==============================] - 42s 176ms/step - loss: 0.0054 - accuracy: 0.9989 - val_loss: 0.0120 - val_accuracy: 0.9979 - lr: 1.0000e-04\n",
      "Epoch 10/12\n",
      "238/238 [==============================] - 42s 175ms/step - loss: 0.0026 - accuracy: 1.0000 - val_loss: 0.0120 - val_accuracy: 0.9979 - lr: 1.0000e-05\n"
     ]
    }
   ],
   "source": [
    "# Train, evaluate and save the best model\n",
    "history = model.fit(data_train,\n",
    "                    epochs=12,\n",
    "                    validation_data=data_valid,\n",
    "                    callbacks=[model_checkpoint_cb,\n",
    "                               early_stopping_cb,\n",
    "                               reduce_lr_on_plateau_cb])"
   ]
  },
  {
   "cell_type": "markdown",
   "id": "369af1b9",
   "metadata": {
    "id": "jooIV3Tr38rw"
   },
   "source": [
    "## Plotting the learning curve"
   ]
  },
  {
   "cell_type": "code",
   "execution_count": 26,
   "id": "b476e3e1",
   "metadata": {
    "colab": {
     "base_uri": "https://localhost:8080/",
     "height": 348
    },
    "executionInfo": {
     "elapsed": 31083,
     "status": "ok",
     "timestamp": 1649568368516,
     "user": {
      "displayName": "黄河",
      "userId": "11207666093797166698"
     },
     "user_tz": 240
    },
    "id": "ZdftIsbI3_nV",
    "outputId": "1f084780-9af2-4e42-e57e-981bf0f47271"
   },
   "outputs": [
    {
     "data": {
      "image/png": "[encoded data removed]",
      "text/plain": [
       "<Figure size 576x360 with 1 Axes>"
      ]
     },
     "metadata": {
      "needs_background": "light"
     },
     "output_type": "display_data"
    }
   ],
   "source": [
    "# Create a figure\n",
    "pd.DataFrame(history.history).plot(figsize=(8, 5))\n",
    "\n",
    "# Set grid\n",
    "plt.grid(True)\n",
    "\n",
    "# Save and show the figure\n",
    "plt.tight_layout()\n",
    "plt.savefig(abspath_curr + '/result/figure/learning_curve_after_unfreezing.pdf')\n",
    "plt.show()"
   ]
  },
  {
   "cell_type": "markdown",
   "id": "70337424",
   "metadata": {},
   "source": [
    "# Testing"
   ]
  },
  {
   "cell_type": "markdown",
   "id": "69f9b00f",
   "metadata": {},
   "source": [
    "## Loading the saved model"
   ]
  },
  {
   "cell_type": "code",
   "execution_count": 28,
   "id": "f62da55d",
   "metadata": {},
   "outputs": [],
   "source": [
    "# Load the saved model\n",
    "model.load_weights(filepath=abspath_curr + '/result/model/model.h5')"
   ]
  },
  {
   "cell_type": "code",
   "execution_count": 29,
   "id": "_0C-_7LcuB5T",
   "metadata": {
    "colab": {
     "base_uri": "https://localhost:8080/"
    },
    "executionInfo": {
     "elapsed": 298,
     "status": "ok",
     "timestamp": 1650320794741,
     "user": {
      "displayName": "Yixi Liang",
      "userId": "08617022926448896029"
     },
     "user_tz": 240
    },
    "id": "_0C-_7LcuB5T",
    "outputId": "3f2d938a-da3c-44d9-dd77-c0892d383590"
   },
   "outputs": [
    {
     "name": "stdout",
     "output_type": "stream",
     "text": [
      "Found 794 images belonging to 1 classes.\n"
     ]
    }
   ],
   "source": [
    "#Prepare the Test data using Tensorflow Image Generator\n",
    "\n",
    "datagen = ImageDataGenerator()\n",
    "data_test = datagen.flow_from_directory(test_path ,shuffle =False,batch_size=100,\n",
    "                              target_size = (224,224),classes = ['test'])"
   ]
  },
  {
   "cell_type": "code",
   "execution_count": 30,
   "id": "OXeIQ4M7uEEL",
   "metadata": {
    "colab": {
     "base_uri": "https://localhost:8080/"
    },
    "executionInfo": {
     "elapsed": 24351,
     "status": "ok",
     "timestamp": 1650320826854,
     "user": {
      "displayName": "Yixi Liang",
      "userId": "08617022926448896029"
     },
     "user_tz": 240
    },
    "id": "OXeIQ4M7uEEL",
    "outputId": "61604ea4-e75d-46dd-f5d9-6a77fff113e7"
   },
   "outputs": [
    {
     "data": {
      "text/plain": [
       "(794, 12)"
      ]
     },
     "execution_count": 30,
     "metadata": {},
     "output_type": "execute_result"
    }
   ],
   "source": [
    "prediction = model.predict(data_test)\n",
    "prediction.shape"
   ]
  },
  {
   "cell_type": "code",
   "execution_count": 31,
   "id": "eNFUxJAEuFsF",
   "metadata": {
    "colab": {
     "base_uri": "https://localhost:8080/",
     "height": 35
    },
    "executionInfo": {
     "elapsed": 400,
     "status": "ok",
     "timestamp": 1650320846820,
     "user": {
      "displayName": "Yixi Liang",
      "userId": "08617022926448896029"
     },
     "user_tz": 240
    },
    "id": "eNFUxJAEuFsF",
    "outputId": "019f4f2e-0521-4ea0-b24e-b28ff29fd4d7"
   },
   "outputs": [
    {
     "data": {
      "text/plain": [
       "'Sugar beet'"
      ]
     },
     "execution_count": 31,
     "metadata": {},
     "output_type": "execute_result"
    }
   ],
   "source": [
    "class_names[tf.argmax(prediction[2])]"
   ]
  },
  {
   "cell_type": "code",
   "execution_count": 32,
   "id": "KCDgJe8kuHbW",
   "metadata": {
    "colab": {
     "base_uri": "https://localhost:8080/",
     "height": 206
    },
    "executionInfo": {
     "elapsed": 1003,
     "status": "ok",
     "timestamp": 1650320926714,
     "user": {
      "displayName": "Yixi Liang",
      "userId": "08617022926448896029"
     },
     "user_tz": 240
    },
    "id": "KCDgJe8kuHbW",
    "outputId": "f3ced969-5bc3-4703-9240-edc47e21cf04"
   },
   "outputs": [
    {
     "data": {
      "text/html": [
       "<div>\n",
       "<style scoped>\n",
       "    .dataframe tbody tr th:only-of-type {\n",
       "        vertical-align: middle;\n",
       "    }\n",
       "\n",
       "    .dataframe tbody tr th {\n",
       "        vertical-align: top;\n",
       "    }\n",
       "\n",
       "    .dataframe thead th {\n",
       "        text-align: right;\n",
       "    }\n",
       "</style>\n",
       "<table border=\"1\" class=\"dataframe\">\n",
       "  <thead>\n",
       "    <tr style=\"text-align: right;\">\n",
       "      <th></th>\n",
       "      <th>file</th>\n",
       "      <th>species</th>\n",
       "    </tr>\n",
       "  </thead>\n",
       "  <tbody>\n",
       "    <tr>\n",
       "      <th>0</th>\n",
       "      <td>0021e90e4.png</td>\n",
       "      <td>Sugar beet</td>\n",
       "    </tr>\n",
       "    <tr>\n",
       "      <th>1</th>\n",
       "      <td>003d61042.png</td>\n",
       "      <td>Sugar beet</td>\n",
       "    </tr>\n",
       "    <tr>\n",
       "      <th>2</th>\n",
       "      <td>007b3da8b.png</td>\n",
       "      <td>Sugar beet</td>\n",
       "    </tr>\n",
       "    <tr>\n",
       "      <th>3</th>\n",
       "      <td>0086a6340.png</td>\n",
       "      <td>Sugar beet</td>\n",
       "    </tr>\n",
       "    <tr>\n",
       "      <th>4</th>\n",
       "      <td>00c47e980.png</td>\n",
       "      <td>Sugar beet</td>\n",
       "    </tr>\n",
       "  </tbody>\n",
       "</table>\n",
       "</div>"
      ],
      "text/plain": [
       "            file     species\n",
       "0  0021e90e4.png  Sugar beet\n",
       "1  003d61042.png  Sugar beet\n",
       "2  007b3da8b.png  Sugar beet\n",
       "3  0086a6340.png  Sugar beet\n",
       "4  00c47e980.png  Sugar beet"
      ]
     },
     "execution_count": 32,
     "metadata": {},
     "output_type": "execute_result"
    }
   ],
   "source": [
    "#Read sample submission file \n",
    "sample_submission = pd.read_csv(abspath_curr + '/sample_submission.csv')\n",
    "sample_submission.head()"
   ]
  },
  {
   "cell_type": "code",
   "execution_count": 33,
   "id": "Stsr3yqtuI_R",
   "metadata": {
    "id": "Stsr3yqtuI_R"
   },
   "outputs": [
    {
     "data": {
      "text/plain": [
       "794"
      ]
     },
     "execution_count": 33,
     "metadata": {},
     "output_type": "execute_result"
    }
   ],
   "source": [
    "len(sample_submission)"
   ]
  },
  {
   "cell_type": "code",
   "execution_count": 34,
   "id": "-kCyV9fJuMHo",
   "metadata": {
    "colab": {
     "base_uri": "https://localhost:8080/"
    },
    "executionInfo": {
     "elapsed": 665,
     "status": "ok",
     "timestamp": 1650320930957,
     "user": {
      "displayName": "Yixi Liang",
      "userId": "08617022926448896029"
     },
     "user_tz": 240
    },
    "id": "-kCyV9fJuMHo",
    "outputId": "e5840293-e1a3-4711-ec47-385873fc7055"
   },
   "outputs": [
    {
     "data": {
      "text/plain": [
       "['Small-flowered Cranesbill',\n",
       " 'Fat Hen',\n",
       " 'Sugar beet',\n",
       " 'Common Chickweed',\n",
       " 'Sugar beet',\n",
       " 'Loose Silky-bent',\n",
       " 'Common Chickweed',\n",
       " 'Fat Hen',\n",
       " 'Black-grass',\n",
       " 'Loose Silky-bent']"
      ]
     },
     "execution_count": 34,
     "metadata": {},
     "output_type": "execute_result"
    }
   ],
   "source": [
    "#Prepare prediction results\n",
    "predict_class = []\n",
    "for pred in prediction: \n",
    "    predict_class.append(class_names[tf.argmax(pred)])\n",
    "\n",
    "predict_class[:10]"
   ]
  },
  {
   "cell_type": "code",
   "execution_count": 35,
   "id": "0mSJP3vKuOhQ",
   "metadata": {
    "colab": {
     "base_uri": "https://localhost:8080/",
     "height": 206
    },
    "executionInfo": {
     "elapsed": 292,
     "status": "ok",
     "timestamp": 1650320932860,
     "user": {
      "displayName": "Yixi Liang",
      "userId": "08617022926448896029"
     },
     "user_tz": 240
    },
    "id": "0mSJP3vKuOhQ",
    "outputId": "a34ba802-6104-4c8c-f792-c9ba4f0c856f"
   },
   "outputs": [
    {
     "data": {
      "text/html": [
       "<div>\n",
       "<style scoped>\n",
       "    .dataframe tbody tr th:only-of-type {\n",
       "        vertical-align: middle;\n",
       "    }\n",
       "\n",
       "    .dataframe tbody tr th {\n",
       "        vertical-align: top;\n",
       "    }\n",
       "\n",
       "    .dataframe thead th {\n",
       "        text-align: right;\n",
       "    }\n",
       "</style>\n",
       "<table border=\"1\" class=\"dataframe\">\n",
       "  <thead>\n",
       "    <tr style=\"text-align: right;\">\n",
       "      <th></th>\n",
       "      <th>file</th>\n",
       "      <th>species</th>\n",
       "    </tr>\n",
       "  </thead>\n",
       "  <tbody>\n",
       "    <tr>\n",
       "      <th>0</th>\n",
       "      <td>0021e90e4.png</td>\n",
       "      <td>Small-flowered Cranesbill</td>\n",
       "    </tr>\n",
       "    <tr>\n",
       "      <th>1</th>\n",
       "      <td>003d61042.png</td>\n",
       "      <td>Fat Hen</td>\n",
       "    </tr>\n",
       "    <tr>\n",
       "      <th>2</th>\n",
       "      <td>007b3da8b.png</td>\n",
       "      <td>Sugar beet</td>\n",
       "    </tr>\n",
       "    <tr>\n",
       "      <th>3</th>\n",
       "      <td>0086a6340.png</td>\n",
       "      <td>Common Chickweed</td>\n",
       "    </tr>\n",
       "    <tr>\n",
       "      <th>4</th>\n",
       "      <td>00c47e980.png</td>\n",
       "      <td>Sugar beet</td>\n",
       "    </tr>\n",
       "  </tbody>\n",
       "</table>\n",
       "</div>"
      ],
      "text/plain": [
       "            file                    species\n",
       "0  0021e90e4.png  Small-flowered Cranesbill\n",
       "1  003d61042.png                    Fat Hen\n",
       "2  007b3da8b.png                 Sugar beet\n",
       "3  0086a6340.png           Common Chickweed\n",
       "4  00c47e980.png                 Sugar beet"
      ]
     },
     "execution_count": 35,
     "metadata": {},
     "output_type": "execute_result"
    }
   ],
   "source": [
    "submission = pd.DataFrame({'file':sample_submission['file'],'species':predict_class})\n",
    "submission.head()"
   ]
  },
  {
   "cell_type": "code",
   "execution_count": 36,
   "id": "sCMxIQPruQBG",
   "metadata": {
    "id": "sCMxIQPruQBG"
   },
   "outputs": [],
   "source": [
    "submission.to_csv(abspath_curr + '/submission.csv', index=False)"
   ]
  },
  {
   "cell_type": "code",
   "execution_count": null,
   "id": "90bc4baf",
   "metadata": {},
   "outputs": [],
   "source": []
  }
 ],
 "metadata": {
  "accelerator": "GPU",
  "colab": {
   "name": "Final_project_colab.ipynb",
   "provenance": []
  },
  "kernelspec": {
   "display_name": "tensorflow_gpu",
   "language": "python",
   "name": "tensorflow_gpu"
  },
  "language_info": {
   "codemirror_mode": {
    "name": "ipython",
    "version": 3
   },
   "file_extension": ".py",
   "mimetype": "text/x-python",
   "name": "python",
   "nbconvert_exporter": "python",
   "pygments_lexer": "ipython3",
   "version": "3.8.13"
  }
 },
 "nbformat": 4,
 "nbformat_minor": 5
}
